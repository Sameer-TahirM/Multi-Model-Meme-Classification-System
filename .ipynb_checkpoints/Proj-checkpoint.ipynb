{
 "cells": [
  {
   "cell_type": "code",
   "execution_count": 1,
   "id": "df3c4faa",
   "metadata": {},
   "outputs": [],
   "source": [
    "import pandas as pd\n",
    "import numpy as np\n",
    "import matplotlib.pyplot as plt\n",
    "%matplotlib inline\n",
    "from skimage.io import imread, imshow\n",
    "import skimage\n",
    "from skimage import feature\n",
    "import os\n",
    "from skimage.transform import rescale, resize\n",
    "from PIL import Image\n",
    "from sklearn.metrics import confusion_matrix\n",
    "from sklearn.metrics import accuracy_score\n",
    "from sklearn.metrics import f1_score\n",
    "from sklearn.metrics import classification_report\n",
    "import pickle\n",
    "from sklearn.model_selection import GridSearchCV\n",
    "from sklearn.metrics import f1_score, make_scorer"
   ]
  },
  {
   "cell_type": "markdown",
   "id": "bd2148ea",
   "metadata": {},
   "source": [
    "# Importing Images"
   ]
  },
  {
   "cell_type": "code",
   "execution_count": 2,
   "id": "7bd2ee48",
   "metadata": {},
   "outputs": [
    {
     "name": "stdout",
     "output_type": "stream",
     "text": [
      "Files and directories in ' C://Users//samee//OneDrive//Desktop//PAI//Project//images ' :\n"
     ]
    }
   ],
   "source": [
    "\n",
    "# Get the list of all files and directories\n",
    "path = \"C://Users//samee//OneDrive//Desktop//PAI//Project//images\"\n",
    "\n",
    "dir_list = os.listdir(path)\n",
    " \n",
    "print(\"Files and directories in '\", path, \"' :\")"
   ]
  },
  {
   "cell_type": "code",
   "execution_count": 123,
   "id": "bbfabb9f",
   "metadata": {},
   "outputs": [
    {
     "data": {
      "text/plain": [
       "'image_1.jpg'"
      ]
     },
     "execution_count": 123,
     "metadata": {},
     "output_type": "execute_result"
    }
   ],
   "source": [
    "dir_list[0]"
   ]
  },
  {
   "cell_type": "code",
   "execution_count": 124,
   "id": "02ac8b49",
   "metadata": {},
   "outputs": [],
   "source": [
    "# img = imread(rf\"C:\\Users\\samee\\OneDrive\\Desktop\\PAI\\Project\\images\\image_10.png\", as_gray=True)\n",
    "# imshow(img);"
   ]
  },
  {
   "cell_type": "code",
   "execution_count": 125,
   "id": "8bb9ac54",
   "metadata": {},
   "outputs": [],
   "source": [
    "# resized_img = resize(img, (200,200))"
   ]
  },
  {
   "cell_type": "code",
   "execution_count": 126,
   "id": "c3fdaa80",
   "metadata": {},
   "outputs": [],
   "source": [
    "# imshow(resized_img)"
   ]
  },
  {
   "cell_type": "code",
   "execution_count": null,
   "id": "e4a24389",
   "metadata": {},
   "outputs": [],
   "source": []
  },
  {
   "cell_type": "code",
   "execution_count": 3,
   "id": "559f23be",
   "metadata": {},
   "outputs": [
    {
     "name": "stdout",
     "output_type": "stream",
     "text": [
      "error at image_5119.png\n"
     ]
    },
    {
     "name": "stderr",
     "output_type": "stream",
     "text": [
      "C:\\Users\\samee\\anaconda3\\lib\\site-packages\\PIL\\TiffImagePlugin.py:845: UserWarning: Corrupt EXIF data.  Expecting to read 2 bytes but only got 0. \n",
      "  warnings.warn(str(msg))\n"
     ]
    }
   ],
   "source": [
    "img_lst = []\n",
    "name = []\n",
    "\n",
    "for f in dir_list:\n",
    "    try:\n",
    "        \n",
    "        img = imread(rf\"C:\\Users\\samee\\OneDrive\\Desktop\\PAI\\Project\\images\\{f}\", as_gray=True)\n",
    "        resized_img = resize(img, (200,200))\n",
    "\n",
    "        name.append(f)\n",
    "        img_lst.append(resized_img)\n",
    "        \n",
    "    except:\n",
    "        print(f'error at {f}')\n",
    "        continue"
   ]
  },
  {
   "cell_type": "code",
   "execution_count": 4,
   "id": "1d1d15ce",
   "metadata": {},
   "outputs": [],
   "source": [
    "dic = {'file' :name,'Image':img_lst}\n",
    "img_df = pd.DataFrame(dic)\n"
   ]
  },
  {
   "cell_type": "code",
   "execution_count": 5,
   "id": "965a679f",
   "metadata": {},
   "outputs": [
    {
     "data": {
      "text/plain": [
       "(6991, 2)"
      ]
     },
     "execution_count": 5,
     "metadata": {},
     "output_type": "execute_result"
    }
   ],
   "source": [
    "img_df.shape"
   ]
  },
  {
   "cell_type": "code",
   "execution_count": 6,
   "id": "28919b2d",
   "metadata": {},
   "outputs": [
    {
     "data": {
      "text/plain": [
       "file                                        image_5606.jpg\n",
       "Image    [[0.5393911272403631, 0.5698209016563942, 0.58...\n",
       "Name: 5118, dtype: object"
      ]
     },
     "execution_count": 6,
     "metadata": {},
     "output_type": "execute_result"
    }
   ],
   "source": [
    "img_df.iloc[5118]"
   ]
  },
  {
   "cell_type": "code",
   "execution_count": null,
   "id": "638bab2b",
   "metadata": {},
   "outputs": [],
   "source": []
  },
  {
   "cell_type": "code",
   "execution_count": 7,
   "id": "d1508294",
   "metadata": {},
   "outputs": [],
   "source": [
    "img_dic = img_df.set_index('file').to_dict()['Image']"
   ]
  },
  {
   "cell_type": "markdown",
   "id": "380931e5",
   "metadata": {},
   "source": [
    "# Importing the Labels.csv and subsetting it"
   ]
  },
  {
   "cell_type": "code",
   "execution_count": 8,
   "id": "437de8d3",
   "metadata": {},
   "outputs": [],
   "source": [
    "#Reading the CSV file and subset the columns\n",
    "test = pd.read_csv('labels.csv')\n",
    "\n",
    "labels = test[['image_name','text_corrected','overall_sentiment']]\n"
   ]
  },
  {
   "cell_type": "code",
   "execution_count": 9,
   "id": "4de45627",
   "metadata": {},
   "outputs": [
    {
     "data": {
      "text/plain": [
       "(6992, 3)"
      ]
     },
     "execution_count": 9,
     "metadata": {},
     "output_type": "execute_result"
    }
   ],
   "source": [
    "labels.shape"
   ]
  },
  {
   "cell_type": "code",
   "execution_count": 10,
   "id": "61acbf14",
   "metadata": {},
   "outputs": [
    {
     "data": {
      "text/plain": [
       "image_name                                              image_5119.png\n",
       "text_corrected       When you're having a nice shift then someone s...\n",
       "overall_sentiment                                             positive\n",
       "Name: 5118, dtype: object"
      ]
     },
     "execution_count": 10,
     "metadata": {},
     "output_type": "execute_result"
    }
   ],
   "source": [
    "labels.iloc[5118]"
   ]
  },
  {
   "cell_type": "code",
   "execution_count": 11,
   "id": "29a6d9d2",
   "metadata": {},
   "outputs": [],
   "source": [
    "# This file is not loading 5118\n",
    "labels = labels.drop(5118,axis=0)"
   ]
  },
  {
   "cell_type": "code",
   "execution_count": 12,
   "id": "55d1440e",
   "metadata": {},
   "outputs": [
    {
     "data": {
      "text/plain": [
       "(6991, 3)"
      ]
     },
     "execution_count": 12,
     "metadata": {},
     "output_type": "execute_result"
    }
   ],
   "source": [
    "labels.shape"
   ]
  },
  {
   "cell_type": "code",
   "execution_count": 13,
   "id": "1af8ff3d",
   "metadata": {},
   "outputs": [
    {
     "data": {
      "text/plain": [
       "image_name                         image_5120.jpg\n",
       "text_corrected       HEY BRO U MAD? quickmeme.com\n",
       "overall_sentiment                         neutral\n",
       "Name: 5119, dtype: object"
      ]
     },
     "execution_count": 13,
     "metadata": {},
     "output_type": "execute_result"
    }
   ],
   "source": [
    "labels.iloc[5118]"
   ]
  },
  {
   "cell_type": "code",
   "execution_count": 14,
   "id": "3f8d2bfb",
   "metadata": {},
   "outputs": [],
   "source": [
    "# Removing the Target and creating a dictionary of it to map later\n",
    "sentiment_map_dic = labels.set_index('image_name').to_dict()['overall_sentiment']\n",
    "labels.drop('overall_sentiment',axis=1,inplace=True)"
   ]
  },
  {
   "cell_type": "code",
   "execution_count": 15,
   "id": "abcb20de",
   "metadata": {},
   "outputs": [],
   "source": [
    "labels['Image_data'] = labels['image_name'].map(img_dic)"
   ]
  },
  {
   "cell_type": "code",
   "execution_count": 16,
   "id": "34d9a64e",
   "metadata": {},
   "outputs": [],
   "source": [
    "labels['overall_sentiment'] = labels['image_name'].map(sentiment_map_dic)"
   ]
  },
  {
   "cell_type": "code",
   "execution_count": 17,
   "id": "6d875f17",
   "metadata": {},
   "outputs": [],
   "source": [
    "labels.drop('image_name',axis=1,inplace=True)"
   ]
  },
  {
   "cell_type": "code",
   "execution_count": 142,
   "id": "9dfc632c",
   "metadata": {},
   "outputs": [],
   "source": [
    "# #Fucntion to create map Dictionary\n",
    "# def map_dic(unique_lst):\n",
    "#     dic = {}\n",
    "#     for i in range(len(unique_lst)):\n",
    "#         dic[unique_lst[i]]=i\n",
    "        \n",
    "#     return dic"
   ]
  },
  {
   "cell_type": "code",
   "execution_count": 143,
   "id": "51863bfa",
   "metadata": {},
   "outputs": [],
   "source": [
    "# sentiment_df = map_dic(list(labels['overall_sentiment'].unique()))"
   ]
  },
  {
   "cell_type": "code",
   "execution_count": 18,
   "id": "78b44d60",
   "metadata": {},
   "outputs": [],
   "source": [
    "#Merging the Labels THIS FUNCTION CHANGES THE FINAL MAPPING\n",
    "sentiment_df = {'very_positive': 0,\n",
    " 'positive': 0,\n",
    " 'neutral': 2,\n",
    " 'negative': 1,\n",
    " 'very_negative': 1}"
   ]
  },
  {
   "cell_type": "code",
   "execution_count": 19,
   "id": "a76c6724",
   "metadata": {},
   "outputs": [
    {
     "data": {
      "text/plain": [
       "{'very_positive': 0,\n",
       " 'positive': 0,\n",
       " 'neutral': 2,\n",
       " 'negative': 1,\n",
       " 'very_negative': 1}"
      ]
     },
     "execution_count": 19,
     "metadata": {},
     "output_type": "execute_result"
    }
   ],
   "source": [
    "sentiment_df"
   ]
  },
  {
   "cell_type": "code",
   "execution_count": 20,
   "id": "2e420794",
   "metadata": {},
   "outputs": [],
   "source": [
    "#Map the values\n",
    "labels['overall_sentiment'] = labels['overall_sentiment'].map(sentiment_df)"
   ]
  },
  {
   "cell_type": "code",
   "execution_count": 23,
   "id": "1a1a58e8",
   "metadata": {},
   "outputs": [
    {
     "data": {
      "text/html": [
       "<div>\n",
       "<style scoped>\n",
       "    .dataframe tbody tr th:only-of-type {\n",
       "        vertical-align: middle;\n",
       "    }\n",
       "\n",
       "    .dataframe tbody tr th {\n",
       "        vertical-align: top;\n",
       "    }\n",
       "\n",
       "    .dataframe thead th {\n",
       "        text-align: right;\n",
       "    }\n",
       "</style>\n",
       "<table border=\"1\" class=\"dataframe\">\n",
       "  <thead>\n",
       "    <tr style=\"text-align: right;\">\n",
       "      <th></th>\n",
       "      <th>text_corrected</th>\n",
       "      <th>Image_data</th>\n",
       "      <th>overall_sentiment</th>\n",
       "    </tr>\n",
       "  </thead>\n",
       "  <tbody>\n",
       "    <tr>\n",
       "      <th>0</th>\n",
       "      <td>LOOK THERE MY FRIEND LIGHTYEAR NOW ALL SOHALIK...</td>\n",
       "      <td>[0.4115502069397929, 0.4115826862072486, 0.412...</td>\n",
       "      <td>0</td>\n",
       "    </tr>\n",
       "    <tr>\n",
       "      <th>1</th>\n",
       "      <td>The best of #10 YearChallenge! Completed in le...</td>\n",
       "      <td>[1.0, 1.0, 1.0, 1.0, 1.0, 1.0, 1.0, 1.0, 1.0, ...</td>\n",
       "      <td>0</td>\n",
       "    </tr>\n",
       "    <tr>\n",
       "      <th>2</th>\n",
       "      <td>Sam Thorne @Strippin ( Follow Follow Saw every...</td>\n",
       "      <td>[0.17486818535177323, 0.1587892980079946, 0.12...</td>\n",
       "      <td>0</td>\n",
       "    </tr>\n",
       "    <tr>\n",
       "      <th>3</th>\n",
       "      <td>10 Year Challenge - Sweet Dee Edition</td>\n",
       "      <td>[0.4266660118948452, 0.42979113555809845, 0.42...</td>\n",
       "      <td>0</td>\n",
       "    </tr>\n",
       "    <tr>\n",
       "      <th>4</th>\n",
       "      <td>10 YEAR CHALLENGE WITH NO FILTER 47 Hilarious ...</td>\n",
       "      <td>[0.9891922642782043, 0.9885848547658025, 0.987...</td>\n",
       "      <td>2</td>\n",
       "    </tr>\n",
       "  </tbody>\n",
       "</table>\n",
       "</div>"
      ],
      "text/plain": [
       "                                      text_corrected  \\\n",
       "0  LOOK THERE MY FRIEND LIGHTYEAR NOW ALL SOHALIK...   \n",
       "1  The best of #10 YearChallenge! Completed in le...   \n",
       "2  Sam Thorne @Strippin ( Follow Follow Saw every...   \n",
       "3              10 Year Challenge - Sweet Dee Edition   \n",
       "4  10 YEAR CHALLENGE WITH NO FILTER 47 Hilarious ...   \n",
       "\n",
       "                                          Image_data  overall_sentiment  \n",
       "0  [0.4115502069397929, 0.4115826862072486, 0.412...                  0  \n",
       "1  [1.0, 1.0, 1.0, 1.0, 1.0, 1.0, 1.0, 1.0, 1.0, ...                  0  \n",
       "2  [0.17486818535177323, 0.1587892980079946, 0.12...                  0  \n",
       "3  [0.4266660118948452, 0.42979113555809845, 0.42...                  0  \n",
       "4  [0.9891922642782043, 0.9885848547658025, 0.987...                  2  "
      ]
     },
     "execution_count": 23,
     "metadata": {},
     "output_type": "execute_result"
    }
   ],
   "source": [
    "labels.head()"
   ]
  },
  {
   "cell_type": "code",
   "execution_count": 22,
   "id": "5cb8ffa0",
   "metadata": {},
   "outputs": [],
   "source": [
    "labels['Image_data'] = labels['Image_data'].apply(lambda x: x.reshape(-1))\n",
    "labels.reset_index(drop=True,inplace=True)"
   ]
  },
  {
   "cell_type": "code",
   "execution_count": 24,
   "id": "c18aff5d",
   "metadata": {},
   "outputs": [
    {
     "data": {
      "text/html": [
       "<div>\n",
       "<style scoped>\n",
       "    .dataframe tbody tr th:only-of-type {\n",
       "        vertical-align: middle;\n",
       "    }\n",
       "\n",
       "    .dataframe tbody tr th {\n",
       "        vertical-align: top;\n",
       "    }\n",
       "\n",
       "    .dataframe thead th {\n",
       "        text-align: right;\n",
       "    }\n",
       "</style>\n",
       "<table border=\"1\" class=\"dataframe\">\n",
       "  <thead>\n",
       "    <tr style=\"text-align: right;\">\n",
       "      <th></th>\n",
       "      <th>text_corrected</th>\n",
       "      <th>Image_data</th>\n",
       "      <th>overall_sentiment</th>\n",
       "    </tr>\n",
       "  </thead>\n",
       "  <tbody>\n",
       "    <tr>\n",
       "      <th>0</th>\n",
       "      <td>LOOK THERE MY FRIEND LIGHTYEAR NOW ALL SOHALIK...</td>\n",
       "      <td>[0.4115502069397929, 0.4115826862072486, 0.412...</td>\n",
       "      <td>0</td>\n",
       "    </tr>\n",
       "    <tr>\n",
       "      <th>1</th>\n",
       "      <td>The best of #10 YearChallenge! Completed in le...</td>\n",
       "      <td>[1.0, 1.0, 1.0, 1.0, 1.0, 1.0, 1.0, 1.0, 1.0, ...</td>\n",
       "      <td>0</td>\n",
       "    </tr>\n",
       "    <tr>\n",
       "      <th>2</th>\n",
       "      <td>Sam Thorne @Strippin ( Follow Follow Saw every...</td>\n",
       "      <td>[0.17486818535177323, 0.1587892980079946, 0.12...</td>\n",
       "      <td>0</td>\n",
       "    </tr>\n",
       "    <tr>\n",
       "      <th>3</th>\n",
       "      <td>10 Year Challenge - Sweet Dee Edition</td>\n",
       "      <td>[0.4266660118948452, 0.42979113555809845, 0.42...</td>\n",
       "      <td>0</td>\n",
       "    </tr>\n",
       "    <tr>\n",
       "      <th>4</th>\n",
       "      <td>10 YEAR CHALLENGE WITH NO FILTER 47 Hilarious ...</td>\n",
       "      <td>[0.9891922642782043, 0.9885848547658025, 0.987...</td>\n",
       "      <td>2</td>\n",
       "    </tr>\n",
       "  </tbody>\n",
       "</table>\n",
       "</div>"
      ],
      "text/plain": [
       "                                      text_corrected  \\\n",
       "0  LOOK THERE MY FRIEND LIGHTYEAR NOW ALL SOHALIK...   \n",
       "1  The best of #10 YearChallenge! Completed in le...   \n",
       "2  Sam Thorne @Strippin ( Follow Follow Saw every...   \n",
       "3              10 Year Challenge - Sweet Dee Edition   \n",
       "4  10 YEAR CHALLENGE WITH NO FILTER 47 Hilarious ...   \n",
       "\n",
       "                                          Image_data  overall_sentiment  \n",
       "0  [0.4115502069397929, 0.4115826862072486, 0.412...                  0  \n",
       "1  [1.0, 1.0, 1.0, 1.0, 1.0, 1.0, 1.0, 1.0, 1.0, ...                  0  \n",
       "2  [0.17486818535177323, 0.1587892980079946, 0.12...                  0  \n",
       "3  [0.4266660118948452, 0.42979113555809845, 0.42...                  0  \n",
       "4  [0.9891922642782043, 0.9885848547658025, 0.987...                  2  "
      ]
     },
     "execution_count": 24,
     "metadata": {},
     "output_type": "execute_result"
    }
   ],
   "source": [
    "labels.head()"
   ]
  },
  {
   "cell_type": "code",
   "execution_count": 25,
   "id": "7c13c7fc",
   "metadata": {},
   "outputs": [],
   "source": [
    "labels.to_pickle('Resized_Merged_greyscale.pkl')"
   ]
  },
  {
   "cell_type": "code",
   "execution_count": 32,
   "id": "d9f3b62b",
   "metadata": {},
   "outputs": [],
   "source": [
    "# labels.to_pickle('Resized_greyscale.pkl')"
   ]
  },
  {
   "cell_type": "markdown",
   "id": "733fce6b",
   "metadata": {},
   "source": [
    "# Classification of Images"
   ]
  },
  {
   "cell_type": "markdown",
   "id": "83e20d78",
   "metadata": {},
   "source": [
    "### Getting Data ready"
   ]
  },
  {
   "cell_type": "code",
   "execution_count": 3,
   "id": "e338ad48",
   "metadata": {},
   "outputs": [],
   "source": [
    "# label = pd.read_pickle('Resized_greyscale.pkl')"
   ]
  },
  {
   "cell_type": "code",
   "execution_count": 2,
   "id": "0ee648a0",
   "metadata": {},
   "outputs": [],
   "source": [
    "label= pd.read_pickle('Resized_Merged_greyscale.pkl')"
   ]
  },
  {
   "cell_type": "code",
   "execution_count": 3,
   "id": "249a99c0",
   "metadata": {},
   "outputs": [],
   "source": [
    "#Only getting the Image data and overall sentiment\n",
    "img1_df = label[['Image_data','overall_sentiment']]\n",
    "\n",
    "image_df = img1_df['Image_data']\n",
    "senti_df = img1_df['overall_sentiment'] "
   ]
  },
  {
   "cell_type": "code",
   "execution_count": 4,
   "id": "a4adb01f",
   "metadata": {},
   "outputs": [
    {
     "name": "stderr",
     "output_type": "stream",
     "text": [
      "C:\\Users\\samee\\AppData\\Local\\Temp\\ipykernel_9376\\1767028857.py:14: FutureWarning: The frame.append method is deprecated and will be removed from pandas in a future version. Use pandas.concat instead.\n",
      "  dfs = dfs.append(other = r,ignore_index=True)\n"
     ]
    },
    {
     "name": "stdout",
     "output_type": "stream",
     "text": [
      "(500, 40000)\n",
      "(1000, 40000)\n",
      "(1500, 40000)\n",
      "(2000, 40000)\n",
      "(2500, 40000)\n",
      "(3000, 40000)\n",
      "(3500, 40000)\n",
      "(4000, 40000)\n",
      "(4500, 40000)\n",
      "(5000, 40000)\n",
      "(5500, 40000)\n",
      "(6000, 40000)\n",
      "(6500, 40000)\n",
      "(6991, 40000)\n"
     ]
    }
   ],
   "source": [
    "# Splitting the array into columns\n",
    "dfs = pd.DataFrame()\n",
    "x=500\n",
    "p=0\n",
    "while(x <= 6991):\n",
    "    \n",
    "    current_df = image_df.iloc[p:x]\n",
    "    \n",
    "    r = pd.DataFrame(current_df.tolist())\n",
    "    \n",
    "    r.fillna(0.0,inplace=True)\n",
    "    \n",
    "#     print(r.shape)\n",
    "    dfs = dfs.append(other = r,ignore_index=True)\n",
    "    print(dfs.shape)\n",
    "    \n",
    "    if(x==6500):\n",
    "        p=x\n",
    "        x=6991\n",
    "    else:\n",
    "        p=x\n",
    "        x+=500\n",
    "\n",
    "dfs.fillna(0.0,inplace=True)\n",
    "    "
   ]
  },
  {
   "cell_type": "code",
   "execution_count": 5,
   "id": "2d4e5d82",
   "metadata": {},
   "outputs": [
    {
     "data": {
      "text/html": [
       "<div>\n",
       "<style scoped>\n",
       "    .dataframe tbody tr th:only-of-type {\n",
       "        vertical-align: middle;\n",
       "    }\n",
       "\n",
       "    .dataframe tbody tr th {\n",
       "        vertical-align: top;\n",
       "    }\n",
       "\n",
       "    .dataframe thead th {\n",
       "        text-align: right;\n",
       "    }\n",
       "</style>\n",
       "<table border=\"1\" class=\"dataframe\">\n",
       "  <thead>\n",
       "    <tr style=\"text-align: right;\">\n",
       "      <th></th>\n",
       "      <th>0</th>\n",
       "      <th>1</th>\n",
       "      <th>2</th>\n",
       "      <th>3</th>\n",
       "      <th>4</th>\n",
       "      <th>5</th>\n",
       "      <th>6</th>\n",
       "      <th>7</th>\n",
       "      <th>8</th>\n",
       "      <th>9</th>\n",
       "      <th>...</th>\n",
       "      <th>39990</th>\n",
       "      <th>39991</th>\n",
       "      <th>39992</th>\n",
       "      <th>39993</th>\n",
       "      <th>39994</th>\n",
       "      <th>39995</th>\n",
       "      <th>39996</th>\n",
       "      <th>39997</th>\n",
       "      <th>39998</th>\n",
       "      <th>39999</th>\n",
       "    </tr>\n",
       "  </thead>\n",
       "  <tbody>\n",
       "    <tr>\n",
       "      <th>0</th>\n",
       "      <td>0.411550</td>\n",
       "      <td>0.411583</td>\n",
       "      <td>0.412446</td>\n",
       "      <td>0.412649</td>\n",
       "      <td>0.412670</td>\n",
       "      <td>0.412667</td>\n",
       "      <td>0.412375</td>\n",
       "      <td>0.413186</td>\n",
       "      <td>0.416877</td>\n",
       "      <td>0.417552</td>\n",
       "      <td>...</td>\n",
       "      <td>0.345235</td>\n",
       "      <td>0.345261</td>\n",
       "      <td>0.343400</td>\n",
       "      <td>0.345458</td>\n",
       "      <td>0.347839</td>\n",
       "      <td>0.345796</td>\n",
       "      <td>0.344295</td>\n",
       "      <td>0.340422</td>\n",
       "      <td>0.339933</td>\n",
       "      <td>0.338795</td>\n",
       "    </tr>\n",
       "    <tr>\n",
       "      <th>1</th>\n",
       "      <td>1.000000</td>\n",
       "      <td>1.000000</td>\n",
       "      <td>1.000000</td>\n",
       "      <td>1.000000</td>\n",
       "      <td>1.000000</td>\n",
       "      <td>1.000000</td>\n",
       "      <td>1.000000</td>\n",
       "      <td>1.000000</td>\n",
       "      <td>1.000000</td>\n",
       "      <td>0.999995</td>\n",
       "      <td>...</td>\n",
       "      <td>0.996829</td>\n",
       "      <td>0.996829</td>\n",
       "      <td>0.996829</td>\n",
       "      <td>0.997358</td>\n",
       "      <td>0.999870</td>\n",
       "      <td>1.000000</td>\n",
       "      <td>1.000000</td>\n",
       "      <td>1.000000</td>\n",
       "      <td>1.000000</td>\n",
       "      <td>1.000000</td>\n",
       "    </tr>\n",
       "    <tr>\n",
       "      <th>2</th>\n",
       "      <td>0.174868</td>\n",
       "      <td>0.158789</td>\n",
       "      <td>0.123245</td>\n",
       "      <td>0.169608</td>\n",
       "      <td>0.160719</td>\n",
       "      <td>0.162864</td>\n",
       "      <td>0.160461</td>\n",
       "      <td>0.157646</td>\n",
       "      <td>0.153110</td>\n",
       "      <td>0.148513</td>\n",
       "      <td>...</td>\n",
       "      <td>0.497950</td>\n",
       "      <td>0.498037</td>\n",
       "      <td>0.498039</td>\n",
       "      <td>0.498039</td>\n",
       "      <td>0.498039</td>\n",
       "      <td>0.498039</td>\n",
       "      <td>0.498039</td>\n",
       "      <td>0.498039</td>\n",
       "      <td>0.498039</td>\n",
       "      <td>0.498039</td>\n",
       "    </tr>\n",
       "    <tr>\n",
       "      <th>3</th>\n",
       "      <td>0.426666</td>\n",
       "      <td>0.429791</td>\n",
       "      <td>0.420883</td>\n",
       "      <td>0.424294</td>\n",
       "      <td>0.433871</td>\n",
       "      <td>0.436657</td>\n",
       "      <td>0.440925</td>\n",
       "      <td>0.443160</td>\n",
       "      <td>0.445340</td>\n",
       "      <td>0.448012</td>\n",
       "      <td>...</td>\n",
       "      <td>1.000000</td>\n",
       "      <td>1.000000</td>\n",
       "      <td>1.000000</td>\n",
       "      <td>1.000000</td>\n",
       "      <td>1.000000</td>\n",
       "      <td>1.000000</td>\n",
       "      <td>1.000000</td>\n",
       "      <td>1.000000</td>\n",
       "      <td>1.000000</td>\n",
       "      <td>1.000000</td>\n",
       "    </tr>\n",
       "    <tr>\n",
       "      <th>4</th>\n",
       "      <td>0.989192</td>\n",
       "      <td>0.988585</td>\n",
       "      <td>0.987220</td>\n",
       "      <td>0.985537</td>\n",
       "      <td>0.986197</td>\n",
       "      <td>0.988006</td>\n",
       "      <td>0.987896</td>\n",
       "      <td>0.989965</td>\n",
       "      <td>0.990440</td>\n",
       "      <td>0.986355</td>\n",
       "      <td>...</td>\n",
       "      <td>1.000000</td>\n",
       "      <td>1.000000</td>\n",
       "      <td>1.000000</td>\n",
       "      <td>1.000000</td>\n",
       "      <td>1.000000</td>\n",
       "      <td>1.000000</td>\n",
       "      <td>1.000000</td>\n",
       "      <td>1.000000</td>\n",
       "      <td>1.000000</td>\n",
       "      <td>1.000000</td>\n",
       "    </tr>\n",
       "  </tbody>\n",
       "</table>\n",
       "<p>5 rows × 40000 columns</p>\n",
       "</div>"
      ],
      "text/plain": [
       "      0         1         2         3         4         5         6      \\\n",
       "0  0.411550  0.411583  0.412446  0.412649  0.412670  0.412667  0.412375   \n",
       "1  1.000000  1.000000  1.000000  1.000000  1.000000  1.000000  1.000000   \n",
       "2  0.174868  0.158789  0.123245  0.169608  0.160719  0.162864  0.160461   \n",
       "3  0.426666  0.429791  0.420883  0.424294  0.433871  0.436657  0.440925   \n",
       "4  0.989192  0.988585  0.987220  0.985537  0.986197  0.988006  0.987896   \n",
       "\n",
       "      7         8         9      ...     39990     39991     39992     39993  \\\n",
       "0  0.413186  0.416877  0.417552  ...  0.345235  0.345261  0.343400  0.345458   \n",
       "1  1.000000  1.000000  0.999995  ...  0.996829  0.996829  0.996829  0.997358   \n",
       "2  0.157646  0.153110  0.148513  ...  0.497950  0.498037  0.498039  0.498039   \n",
       "3  0.443160  0.445340  0.448012  ...  1.000000  1.000000  1.000000  1.000000   \n",
       "4  0.989965  0.990440  0.986355  ...  1.000000  1.000000  1.000000  1.000000   \n",
       "\n",
       "      39994     39995     39996     39997     39998     39999  \n",
       "0  0.347839  0.345796  0.344295  0.340422  0.339933  0.338795  \n",
       "1  0.999870  1.000000  1.000000  1.000000  1.000000  1.000000  \n",
       "2  0.498039  0.498039  0.498039  0.498039  0.498039  0.498039  \n",
       "3  1.000000  1.000000  1.000000  1.000000  1.000000  1.000000  \n",
       "4  1.000000  1.000000  1.000000  1.000000  1.000000  1.000000  \n",
       "\n",
       "[5 rows x 40000 columns]"
      ]
     },
     "execution_count": 5,
     "metadata": {},
     "output_type": "execute_result"
    }
   ],
   "source": [
    "dfs.head()"
   ]
  },
  {
   "cell_type": "code",
   "execution_count": 6,
   "id": "cd153e8f",
   "metadata": {},
   "outputs": [
    {
     "data": {
      "text/plain": [
       "(6991, 40000)"
      ]
     },
     "execution_count": 6,
     "metadata": {},
     "output_type": "execute_result"
    }
   ],
   "source": [
    "dfs.shape"
   ]
  },
  {
   "cell_type": "code",
   "execution_count": null,
   "id": "56d3bd31",
   "metadata": {},
   "outputs": [],
   "source": []
  },
  {
   "cell_type": "code",
   "execution_count": 7,
   "id": "bc535e7e",
   "metadata": {},
   "outputs": [],
   "source": [
    "#Getting X and y\n",
    "\n",
    "X=dfs.to_numpy()\n",
    "y= senti_df.to_numpy()"
   ]
  },
  {
   "cell_type": "code",
   "execution_count": 8,
   "id": "965aaa44",
   "metadata": {},
   "outputs": [
    {
     "data": {
      "text/plain": [
       "array([[0.41155021, 0.41158269, 0.41244639, ..., 0.34042242, 0.33993256,\n",
       "        0.33879537],\n",
       "       [1.        , 1.        , 1.        , ..., 1.        , 1.        ,\n",
       "        1.        ],\n",
       "       [0.17486819, 0.1587893 , 0.12324454, ..., 0.49803922, 0.49803922,\n",
       "        0.49803922],\n",
       "       ...,\n",
       "       [0.67826896, 0.67821428, 0.67802319, ..., 1.        , 1.        ,\n",
       "        1.        ],\n",
       "       [0.56380571, 0.57557289, 0.58973449, ..., 0.65125929, 0.6458725 ,\n",
       "        0.63857011],\n",
       "       [0.66992663, 0.66989045, 0.66622258, ..., 0.50195844, 0.47026707,\n",
       "        0.47698219]])"
      ]
     },
     "execution_count": 8,
     "metadata": {},
     "output_type": "execute_result"
    }
   ],
   "source": [
    "X"
   ]
  },
  {
   "cell_type": "markdown",
   "id": "1bf2532b",
   "metadata": {},
   "source": [
    "## Min Max scaling\n"
   ]
  },
  {
   "cell_type": "code",
   "execution_count": 9,
   "id": "08ec3403",
   "metadata": {},
   "outputs": [],
   "source": [
    "from sklearn.preprocessing import MinMaxScaler\n",
    "# define data\n",
    "# X = X.reshape(-1,1)\n",
    "# print(data)\n",
    "# define min max scaler\n",
    "scaler = MinMaxScaler()\n",
    "# transform data\n",
    "X = scaler.fit_transform(X)"
   ]
  },
  {
   "cell_type": "code",
   "execution_count": 10,
   "id": "69c6ffdb",
   "metadata": {},
   "outputs": [
    {
     "data": {
      "text/plain": [
       "array([[0.41155021, 0.41158269, 0.41244639, ..., 0.34042242, 0.33993256,\n",
       "        0.33879537],\n",
       "       [1.        , 1.        , 1.        , ..., 1.        , 1.        ,\n",
       "        1.        ],\n",
       "       [0.17486819, 0.1587893 , 0.12324454, ..., 0.49803922, 0.49803922,\n",
       "        0.49803922],\n",
       "       ...,\n",
       "       [0.67826896, 0.67821428, 0.67802319, ..., 1.        , 1.        ,\n",
       "        1.        ],\n",
       "       [0.56380571, 0.57557289, 0.58973449, ..., 0.65125929, 0.6458725 ,\n",
       "        0.63857011],\n",
       "       [0.66992663, 0.66989045, 0.66622258, ..., 0.50195844, 0.47026707,\n",
       "        0.47698219]])"
      ]
     },
     "execution_count": 10,
     "metadata": {},
     "output_type": "execute_result"
    }
   ],
   "source": [
    "X"
   ]
  },
  {
   "cell_type": "code",
   "execution_count": 11,
   "id": "f7a8a9f7",
   "metadata": {},
   "outputs": [],
   "source": [
    "#Splitting Data\n",
    "from sklearn.model_selection import train_test_split\n",
    "\n",
    "X_train,X_test,y_train,y_test = train_test_split(X,y, test_size =0.3,random_state=61)\n",
    "\n"
   ]
  },
  {
   "cell_type": "code",
   "execution_count": 12,
   "id": "dc134720",
   "metadata": {},
   "outputs": [
    {
     "data": {
      "text/plain": [
       "(4893, 40000)"
      ]
     },
     "execution_count": 12,
     "metadata": {},
     "output_type": "execute_result"
    }
   ],
   "source": [
    "X_train.shape"
   ]
  },
  {
   "cell_type": "markdown",
   "id": "4a6c776f",
   "metadata": {},
   "source": [
    "### Random Forset Classifer"
   ]
  },
  {
   "cell_type": "code",
   "execution_count": 43,
   "id": "ffd1319f",
   "metadata": {},
   "outputs": [],
   "source": []
  },
  {
   "cell_type": "code",
   "execution_count": 44,
   "id": "7d654353",
   "metadata": {},
   "outputs": [],
   "source": []
  },
  {
   "cell_type": "code",
   "execution_count": 17,
   "id": "bbb670ab",
   "metadata": {},
   "outputs": [
    {
     "data": {
      "text/plain": [
       "RandomForestClassifier(max_depth=9, min_samples_leaf=2, min_samples_split=4,\n",
       "                       n_estimators=10)"
      ]
     },
     "execution_count": 17,
     "metadata": {},
     "output_type": "execute_result"
    }
   ],
   "source": [
    "#Import the Model Random Forest Classfier\n",
    "from sklearn.ensemble import RandomForestClassifier\n",
    "\n",
    "#instenciate an object\n",
    "RF_clf = RandomForestClassifier(max_depth= 9, min_samples_leaf= 2, min_samples_split= 4, n_estimators= 10)\n",
    "RF_clf.fit(X_train,y_train)"
   ]
  },
  {
   "cell_type": "code",
   "execution_count": 46,
   "id": "2e84d822",
   "metadata": {},
   "outputs": [],
   "source": []
  },
  {
   "cell_type": "code",
   "execution_count": 19,
   "id": "bc2f1ee4",
   "metadata": {},
   "outputs": [],
   "source": [
    "pickle.dump(RF_clf, open('RandomForset_Image_model.pkl', 'wb'))"
   ]
  },
  {
   "cell_type": "code",
   "execution_count": 18,
   "id": "02ba525a",
   "metadata": {},
   "outputs": [
    {
     "name": "stdout",
     "output_type": "stream",
     "text": [
      "Accuracy :  55.52907530981888\n",
      "Report : \n",
      "               precision    recall  f1-score   support\n",
      "\n",
      "           0       0.58      0.90      0.71      1223\n",
      "           1       0.25      0.01      0.01       199\n",
      "           2       0.32      0.10      0.15       676\n",
      "\n",
      "    accuracy                           0.56      2098\n",
      "   macro avg       0.38      0.33      0.29      2098\n",
      "weighted avg       0.47      0.56      0.46      2098\n",
      "\n",
      "F1 Score :  28.911845735933696\n"
     ]
    }
   ],
   "source": [
    "rf_pred=RF_clf.predict(X_test)\n",
    "#Creating a Confusion Matrix and Calculating F1 score\n",
    " \n",
    "print (\"Accuracy : \" , accuracy_score(y_test,rf_pred)*100)  \n",
    "print(\"Report : \\n\", classification_report(y_test, rf_pred))\n",
    "print(\"F1 Score : \",f1_score(y_test, rf_pred, average='macro')*100)\n",
    "# f1 27"
   ]
  },
  {
   "cell_type": "markdown",
   "id": "6361300e",
   "metadata": {},
   "source": [
    "# RandomForest Classifer GridSearch\n"
   ]
  },
  {
   "cell_type": "code",
   "execution_count": 20,
   "id": "9d916aa7",
   "metadata": {},
   "outputs": [],
   "source": [
    "# Number of trees in random forest\n",
    "n_estimators = [10,30,70,90]\n",
    "# Maximum number of levels in tree\n",
    "max_depth = [3,7,9]\n",
    "# Minimum number of samples required to split a node\n",
    "min_samples_split = [4,8,12]\n",
    "# Minimum number of samples required at each leaf node\n",
    "min_samples_leaf = [2, 6,8]\n",
    "# Method of selecting samples for training each tree\n",
    "bootstrap = [True, False]"
   ]
  },
  {
   "cell_type": "code",
   "execution_count": 21,
   "id": "a921cd58",
   "metadata": {},
   "outputs": [],
   "source": [
    "# Create the param grid\n",
    "RF_param_grid = {'n_estimators': n_estimators,\n",
    "               'max_depth': max_depth,\n",
    "               'min_samples_split': min_samples_split,\n",
    "               'min_samples_leaf': min_samples_leaf\n",
    "              }"
   ]
  },
  {
   "cell_type": "code",
   "execution_count": 25,
   "id": "a59c0cb2",
   "metadata": {},
   "outputs": [
    {
     "name": "stdout",
     "output_type": "stream",
     "text": [
      "Fitting 2 folds for each of 108 candidates, totalling 216 fits\n",
      "[CV 1/2] END max_depth=3, min_samples_leaf=2, min_samples_split=4, n_estimators=10;, score=0.252 total time=   2.5s\n",
      "[CV 2/2] END max_depth=3, min_samples_leaf=2, min_samples_split=4, n_estimators=10;, score=0.254 total time=   2.5s\n",
      "[CV 1/2] END max_depth=3, min_samples_leaf=2, min_samples_split=4, n_estimators=30;, score=0.250 total time=   4.7s\n",
      "[CV 2/2] END max_depth=3, min_samples_leaf=2, min_samples_split=4, n_estimators=30;, score=0.250 total time=   4.4s\n",
      "[CV 1/2] END max_depth=3, min_samples_leaf=2, min_samples_split=4, n_estimators=70;, score=0.250 total time=   8.3s\n",
      "[CV 2/2] END max_depth=3, min_samples_leaf=2, min_samples_split=4, n_estimators=70;, score=0.250 total time=   7.7s\n",
      "[CV 1/2] END max_depth=3, min_samples_leaf=2, min_samples_split=4, n_estimators=90;, score=0.250 total time=   9.5s\n",
      "[CV 2/2] END max_depth=3, min_samples_leaf=2, min_samples_split=4, n_estimators=90;, score=0.250 total time=   9.6s\n",
      "[CV 1/2] END max_depth=3, min_samples_leaf=2, min_samples_split=8, n_estimators=10;, score=0.252 total time=   1.8s\n",
      "[CV 2/2] END max_depth=3, min_samples_leaf=2, min_samples_split=8, n_estimators=10;, score=0.255 total time=   1.7s\n",
      "[CV 1/2] END max_depth=3, min_samples_leaf=2, min_samples_split=8, n_estimators=30;, score=0.250 total time=   3.6s\n",
      "[CV 2/2] END max_depth=3, min_samples_leaf=2, min_samples_split=8, n_estimators=30;, score=0.250 total time=   3.5s\n",
      "[CV 1/2] END max_depth=3, min_samples_leaf=2, min_samples_split=8, n_estimators=70;, score=0.250 total time=   7.4s\n",
      "[CV 2/2] END max_depth=3, min_samples_leaf=2, min_samples_split=8, n_estimators=70;, score=0.250 total time=   7.9s\n",
      "[CV 1/2] END max_depth=3, min_samples_leaf=2, min_samples_split=8, n_estimators=90;, score=0.250 total time=  11.1s\n",
      "[CV 2/2] END max_depth=3, min_samples_leaf=2, min_samples_split=8, n_estimators=90;, score=0.250 total time=  10.7s\n",
      "[CV 1/2] END max_depth=3, min_samples_leaf=2, min_samples_split=12, n_estimators=10;, score=0.252 total time=   2.1s\n",
      "[CV 2/2] END max_depth=3, min_samples_leaf=2, min_samples_split=12, n_estimators=10;, score=0.251 total time=   2.1s\n",
      "[CV 1/2] END max_depth=3, min_samples_leaf=2, min_samples_split=12, n_estimators=30;, score=0.250 total time=   3.9s\n",
      "[CV 2/2] END max_depth=3, min_samples_leaf=2, min_samples_split=12, n_estimators=30;, score=0.250 total time=   4.1s\n",
      "[CV 1/2] END max_depth=3, min_samples_leaf=2, min_samples_split=12, n_estimators=70;, score=0.250 total time=   8.2s\n",
      "[CV 2/2] END max_depth=3, min_samples_leaf=2, min_samples_split=12, n_estimators=70;, score=0.250 total time=   8.3s\n",
      "[CV 1/2] END max_depth=3, min_samples_leaf=2, min_samples_split=12, n_estimators=90;, score=0.250 total time=  10.9s\n",
      "[CV 2/2] END max_depth=3, min_samples_leaf=2, min_samples_split=12, n_estimators=90;, score=0.250 total time=  10.9s\n",
      "[CV 1/2] END max_depth=3, min_samples_leaf=6, min_samples_split=4, n_estimators=10;, score=0.254 total time=   2.1s\n",
      "[CV 2/2] END max_depth=3, min_samples_leaf=6, min_samples_split=4, n_estimators=10;, score=0.252 total time=   2.0s\n",
      "[CV 1/2] END max_depth=3, min_samples_leaf=6, min_samples_split=4, n_estimators=30;, score=0.250 total time=   4.1s\n",
      "[CV 2/2] END max_depth=3, min_samples_leaf=6, min_samples_split=4, n_estimators=30;, score=0.250 total time=   4.1s\n",
      "[CV 1/2] END max_depth=3, min_samples_leaf=6, min_samples_split=4, n_estimators=70;, score=0.250 total time=   8.6s\n",
      "[CV 2/2] END max_depth=3, min_samples_leaf=6, min_samples_split=4, n_estimators=70;, score=0.250 total time=   7.8s\n",
      "[CV 1/2] END max_depth=3, min_samples_leaf=6, min_samples_split=4, n_estimators=90;, score=0.250 total time=   9.9s\n",
      "[CV 2/2] END max_depth=3, min_samples_leaf=6, min_samples_split=4, n_estimators=90;, score=0.250 total time=  10.2s\n",
      "[CV 1/2] END max_depth=3, min_samples_leaf=6, min_samples_split=8, n_estimators=10;, score=0.251 total time=   1.9s\n",
      "[CV 2/2] END max_depth=3, min_samples_leaf=6, min_samples_split=8, n_estimators=10;, score=0.252 total time=   1.9s\n",
      "[CV 1/2] END max_depth=3, min_samples_leaf=6, min_samples_split=8, n_estimators=30;, score=0.250 total time=   4.1s\n",
      "[CV 2/2] END max_depth=3, min_samples_leaf=6, min_samples_split=8, n_estimators=30;, score=0.250 total time=   4.4s\n",
      "[CV 1/2] END max_depth=3, min_samples_leaf=6, min_samples_split=8, n_estimators=70;, score=0.250 total time=   9.9s\n",
      "[CV 2/2] END max_depth=3, min_samples_leaf=6, min_samples_split=8, n_estimators=70;, score=0.250 total time=   9.3s\n",
      "[CV 1/2] END max_depth=3, min_samples_leaf=6, min_samples_split=8, n_estimators=90;, score=0.250 total time=  13.4s\n",
      "[CV 2/2] END max_depth=3, min_samples_leaf=6, min_samples_split=8, n_estimators=90;, score=0.250 total time=  12.3s\n",
      "[CV 1/2] END max_depth=3, min_samples_leaf=6, min_samples_split=12, n_estimators=10;, score=0.252 total time=   2.3s\n",
      "[CV 2/2] END max_depth=3, min_samples_leaf=6, min_samples_split=12, n_estimators=10;, score=0.253 total time=   2.4s\n",
      "[CV 1/2] END max_depth=3, min_samples_leaf=6, min_samples_split=12, n_estimators=30;, score=0.250 total time=   4.4s\n",
      "[CV 2/2] END max_depth=3, min_samples_leaf=6, min_samples_split=12, n_estimators=30;, score=0.250 total time=   4.2s\n",
      "[CV 1/2] END max_depth=3, min_samples_leaf=6, min_samples_split=12, n_estimators=70;, score=0.250 total time=   9.1s\n",
      "[CV 2/2] END max_depth=3, min_samples_leaf=6, min_samples_split=12, n_estimators=70;, score=0.250 total time=  11.1s\n",
      "[CV 1/2] END max_depth=3, min_samples_leaf=6, min_samples_split=12, n_estimators=90;, score=0.250 total time=  13.6s\n",
      "[CV 2/2] END max_depth=3, min_samples_leaf=6, min_samples_split=12, n_estimators=90;, score=0.250 total time=  12.3s\n",
      "[CV 1/2] END max_depth=3, min_samples_leaf=8, min_samples_split=4, n_estimators=10;, score=0.250 total time=   2.1s\n",
      "[CV 2/2] END max_depth=3, min_samples_leaf=8, min_samples_split=4, n_estimators=10;, score=0.253 total time=   2.1s\n",
      "[CV 1/2] END max_depth=3, min_samples_leaf=8, min_samples_split=4, n_estimators=30;, score=0.250 total time=   4.2s\n",
      "[CV 2/2] END max_depth=3, min_samples_leaf=8, min_samples_split=4, n_estimators=30;, score=0.250 total time=   4.3s\n",
      "[CV 1/2] END max_depth=3, min_samples_leaf=8, min_samples_split=4, n_estimators=70;, score=0.250 total time=   8.6s\n",
      "[CV 2/2] END max_depth=3, min_samples_leaf=8, min_samples_split=4, n_estimators=70;, score=0.250 total time=   8.8s\n",
      "[CV 1/2] END max_depth=3, min_samples_leaf=8, min_samples_split=4, n_estimators=90;, score=0.250 total time=  11.3s\n",
      "[CV 2/2] END max_depth=3, min_samples_leaf=8, min_samples_split=4, n_estimators=90;, score=0.250 total time=  12.3s\n",
      "[CV 1/2] END max_depth=3, min_samples_leaf=8, min_samples_split=8, n_estimators=10;, score=0.252 total time=   2.3s\n",
      "[CV 2/2] END max_depth=3, min_samples_leaf=8, min_samples_split=8, n_estimators=10;, score=0.254 total time=   2.7s\n",
      "[CV 1/2] END max_depth=3, min_samples_leaf=8, min_samples_split=8, n_estimators=30;, score=0.250 total time=   4.9s\n",
      "[CV 2/2] END max_depth=3, min_samples_leaf=8, min_samples_split=8, n_estimators=30;, score=0.250 total time=   5.1s\n",
      "[CV 1/2] END max_depth=3, min_samples_leaf=8, min_samples_split=8, n_estimators=70;, score=0.250 total time=   9.7s\n",
      "[CV 2/2] END max_depth=3, min_samples_leaf=8, min_samples_split=8, n_estimators=70;, score=0.250 total time=   9.4s\n",
      "[CV 1/2] END max_depth=3, min_samples_leaf=8, min_samples_split=8, n_estimators=90;, score=0.250 total time=  13.3s\n",
      "[CV 2/2] END max_depth=3, min_samples_leaf=8, min_samples_split=8, n_estimators=90;, score=0.250 total time=  11.8s\n",
      "[CV 1/2] END max_depth=3, min_samples_leaf=8, min_samples_split=12, n_estimators=10;, score=0.250 total time=   2.1s\n",
      "[CV 2/2] END max_depth=3, min_samples_leaf=8, min_samples_split=12, n_estimators=10;, score=0.253 total time=   2.3s\n",
      "[CV 1/2] END max_depth=3, min_samples_leaf=8, min_samples_split=12, n_estimators=30;, score=0.251 total time=   4.3s\n",
      "[CV 2/2] END max_depth=3, min_samples_leaf=8, min_samples_split=12, n_estimators=30;, score=0.250 total time=   3.9s\n",
      "[CV 1/2] END max_depth=3, min_samples_leaf=8, min_samples_split=12, n_estimators=70;, score=0.250 total time=   8.5s\n",
      "[CV 2/2] END max_depth=3, min_samples_leaf=8, min_samples_split=12, n_estimators=70;, score=0.250 total time=   8.9s\n"
     ]
    },
    {
     "name": "stdout",
     "output_type": "stream",
     "text": [
      "[CV 1/2] END max_depth=3, min_samples_leaf=8, min_samples_split=12, n_estimators=90;, score=0.250 total time=  10.8s\n",
      "[CV 2/2] END max_depth=3, min_samples_leaf=8, min_samples_split=12, n_estimators=90;, score=0.250 total time=   9.9s\n",
      "[CV 1/2] END max_depth=7, min_samples_leaf=2, min_samples_split=4, n_estimators=10;, score=0.288 total time=   3.0s\n",
      "[CV 2/2] END max_depth=7, min_samples_leaf=2, min_samples_split=4, n_estimators=10;, score=0.289 total time=   3.0s\n",
      "[CV 1/2] END max_depth=7, min_samples_leaf=2, min_samples_split=4, n_estimators=30;, score=0.260 total time=   7.1s\n",
      "[CV 2/2] END max_depth=7, min_samples_leaf=2, min_samples_split=4, n_estimators=30;, score=0.260 total time=   7.0s\n",
      "[CV 1/2] END max_depth=7, min_samples_leaf=2, min_samples_split=4, n_estimators=70;, score=0.251 total time=  16.9s\n",
      "[CV 2/2] END max_depth=7, min_samples_leaf=2, min_samples_split=4, n_estimators=70;, score=0.256 total time=  17.7s\n",
      "[CV 1/2] END max_depth=7, min_samples_leaf=2, min_samples_split=4, n_estimators=90;, score=0.252 total time=  22.5s\n",
      "[CV 2/2] END max_depth=7, min_samples_leaf=2, min_samples_split=4, n_estimators=90;, score=0.251 total time=  24.1s\n",
      "[CV 1/2] END max_depth=7, min_samples_leaf=2, min_samples_split=8, n_estimators=10;, score=0.271 total time=   4.1s\n",
      "[CV 2/2] END max_depth=7, min_samples_leaf=2, min_samples_split=8, n_estimators=10;, score=0.288 total time=   4.1s\n",
      "[CV 1/2] END max_depth=7, min_samples_leaf=2, min_samples_split=8, n_estimators=30;, score=0.264 total time=   9.6s\n",
      "[CV 2/2] END max_depth=7, min_samples_leaf=2, min_samples_split=8, n_estimators=30;, score=0.267 total time=   7.8s\n",
      "[CV 1/2] END max_depth=7, min_samples_leaf=2, min_samples_split=8, n_estimators=70;, score=0.253 total time=  17.4s\n",
      "[CV 2/2] END max_depth=7, min_samples_leaf=2, min_samples_split=8, n_estimators=70;, score=0.253 total time=  17.1s\n",
      "[CV 1/2] END max_depth=7, min_samples_leaf=2, min_samples_split=8, n_estimators=90;, score=0.252 total time=  28.7s\n",
      "[CV 2/2] END max_depth=7, min_samples_leaf=2, min_samples_split=8, n_estimators=90;, score=0.253 total time=  24.0s\n",
      "[CV 1/2] END max_depth=7, min_samples_leaf=2, min_samples_split=12, n_estimators=10;, score=0.287 total time=   3.6s\n",
      "[CV 2/2] END max_depth=7, min_samples_leaf=2, min_samples_split=12, n_estimators=10;, score=0.284 total time=   3.2s\n",
      "[CV 1/2] END max_depth=7, min_samples_leaf=2, min_samples_split=12, n_estimators=30;, score=0.260 total time=   8.1s\n",
      "[CV 2/2] END max_depth=7, min_samples_leaf=2, min_samples_split=12, n_estimators=30;, score=0.262 total time=   7.8s\n",
      "[CV 1/2] END max_depth=7, min_samples_leaf=2, min_samples_split=12, n_estimators=70;, score=0.253 total time=  18.2s\n",
      "[CV 2/2] END max_depth=7, min_samples_leaf=2, min_samples_split=12, n_estimators=70;, score=0.257 total time=  22.4s\n",
      "[CV 1/2] END max_depth=7, min_samples_leaf=2, min_samples_split=12, n_estimators=90;, score=0.254 total time=  24.0s\n",
      "[CV 2/2] END max_depth=7, min_samples_leaf=2, min_samples_split=12, n_estimators=90;, score=0.251 total time=  24.3s\n",
      "[CV 1/2] END max_depth=7, min_samples_leaf=6, min_samples_split=4, n_estimators=10;, score=0.279 total time=   4.3s\n",
      "[CV 2/2] END max_depth=7, min_samples_leaf=6, min_samples_split=4, n_estimators=10;, score=0.286 total time=   4.5s\n",
      "[CV 1/2] END max_depth=7, min_samples_leaf=6, min_samples_split=4, n_estimators=30;, score=0.265 total time=   9.1s\n",
      "[CV 2/2] END max_depth=7, min_samples_leaf=6, min_samples_split=4, n_estimators=30;, score=0.265 total time=   8.1s\n",
      "[CV 1/2] END max_depth=7, min_samples_leaf=6, min_samples_split=4, n_estimators=70;, score=0.251 total time=  17.4s\n",
      "[CV 2/2] END max_depth=7, min_samples_leaf=6, min_samples_split=4, n_estimators=70;, score=0.255 total time=  17.7s\n",
      "[CV 1/2] END max_depth=7, min_samples_leaf=6, min_samples_split=4, n_estimators=90;, score=0.251 total time=  22.1s\n",
      "[CV 2/2] END max_depth=7, min_samples_leaf=6, min_samples_split=4, n_estimators=90;, score=0.254 total time=  21.0s\n",
      "[CV 1/2] END max_depth=7, min_samples_leaf=6, min_samples_split=8, n_estimators=10;, score=0.280 total time=   3.4s\n",
      "[CV 2/2] END max_depth=7, min_samples_leaf=6, min_samples_split=8, n_estimators=10;, score=0.280 total time=   3.2s\n",
      "[CV 1/2] END max_depth=7, min_samples_leaf=6, min_samples_split=8, n_estimators=30;, score=0.263 total time=   7.8s\n",
      "[CV 2/2] END max_depth=7, min_samples_leaf=6, min_samples_split=8, n_estimators=30;, score=0.256 total time=   7.7s\n",
      "[CV 1/2] END max_depth=7, min_samples_leaf=6, min_samples_split=8, n_estimators=70;, score=0.253 total time=  15.7s\n",
      "[CV 2/2] END max_depth=7, min_samples_leaf=6, min_samples_split=8, n_estimators=70;, score=0.255 total time=  15.3s\n",
      "[CV 1/2] END max_depth=7, min_samples_leaf=6, min_samples_split=8, n_estimators=90;, score=0.252 total time=  21.7s\n",
      "[CV 2/2] END max_depth=7, min_samples_leaf=6, min_samples_split=8, n_estimators=90;, score=0.253 total time=  21.5s\n",
      "[CV 1/2] END max_depth=7, min_samples_leaf=6, min_samples_split=12, n_estimators=10;, score=0.284 total time=   3.0s\n",
      "[CV 2/2] END max_depth=7, min_samples_leaf=6, min_samples_split=12, n_estimators=10;, score=0.286 total time=   2.9s\n",
      "[CV 1/2] END max_depth=7, min_samples_leaf=6, min_samples_split=12, n_estimators=30;, score=0.260 total time=   8.1s\n",
      "[CV 2/2] END max_depth=7, min_samples_leaf=6, min_samples_split=12, n_estimators=30;, score=0.266 total time=   8.0s\n",
      "[CV 1/2] END max_depth=7, min_samples_leaf=6, min_samples_split=12, n_estimators=70;, score=0.252 total time=  17.9s\n",
      "[CV 2/2] END max_depth=7, min_samples_leaf=6, min_samples_split=12, n_estimators=70;, score=0.255 total time=  17.9s\n",
      "[CV 1/2] END max_depth=7, min_samples_leaf=6, min_samples_split=12, n_estimators=90;, score=0.250 total time=  21.4s\n",
      "[CV 2/2] END max_depth=7, min_samples_leaf=6, min_samples_split=12, n_estimators=90;, score=0.254 total time=  20.6s\n",
      "[CV 1/2] END max_depth=7, min_samples_leaf=8, min_samples_split=4, n_estimators=10;, score=0.270 total time=   3.1s\n",
      "[CV 2/2] END max_depth=7, min_samples_leaf=8, min_samples_split=4, n_estimators=10;, score=0.281 total time=   3.1s\n",
      "[CV 1/2] END max_depth=7, min_samples_leaf=8, min_samples_split=4, n_estimators=30;, score=0.261 total time=   7.8s\n",
      "[CV 2/2] END max_depth=7, min_samples_leaf=8, min_samples_split=4, n_estimators=30;, score=0.257 total time=   8.1s\n",
      "[CV 1/2] END max_depth=7, min_samples_leaf=8, min_samples_split=4, n_estimators=70;, score=0.251 total time=  16.2s\n",
      "[CV 2/2] END max_depth=7, min_samples_leaf=8, min_samples_split=4, n_estimators=70;, score=0.253 total time=  15.9s\n",
      "[CV 1/2] END max_depth=7, min_samples_leaf=8, min_samples_split=4, n_estimators=90;, score=0.252 total time=  26.6s\n",
      "[CV 2/2] END max_depth=7, min_samples_leaf=8, min_samples_split=4, n_estimators=90;, score=0.252 total time=  26.3s\n",
      "[CV 1/2] END max_depth=7, min_samples_leaf=8, min_samples_split=8, n_estimators=10;, score=0.274 total time=   4.1s\n",
      "[CV 2/2] END max_depth=7, min_samples_leaf=8, min_samples_split=8, n_estimators=10;, score=0.287 total time=   3.8s\n",
      "[CV 1/2] END max_depth=7, min_samples_leaf=8, min_samples_split=8, n_estimators=30;, score=0.259 total time=   8.8s\n",
      "[CV 2/2] END max_depth=7, min_samples_leaf=8, min_samples_split=8, n_estimators=30;, score=0.263 total time=   8.6s\n",
      "[CV 1/2] END max_depth=7, min_samples_leaf=8, min_samples_split=8, n_estimators=70;, score=0.250 total time=  20.3s\n",
      "[CV 2/2] END max_depth=7, min_samples_leaf=8, min_samples_split=8, n_estimators=70;, score=0.255 total time=  21.6s\n",
      "[CV 1/2] END max_depth=7, min_samples_leaf=8, min_samples_split=8, n_estimators=90;, score=0.251 total time=  29.3s\n",
      "[CV 2/2] END max_depth=7, min_samples_leaf=8, min_samples_split=8, n_estimators=90;, score=0.253 total time=  26.8s\n",
      "[CV 1/2] END max_depth=7, min_samples_leaf=8, min_samples_split=12, n_estimators=10;, score=0.282 total time=   4.1s\n",
      "[CV 2/2] END max_depth=7, min_samples_leaf=8, min_samples_split=12, n_estimators=10;, score=0.277 total time=   4.7s\n",
      "[CV 1/2] END max_depth=7, min_samples_leaf=8, min_samples_split=12, n_estimators=30;, score=0.257 total time=  10.9s\n",
      "[CV 2/2] END max_depth=7, min_samples_leaf=8, min_samples_split=12, n_estimators=30;, score=0.260 total time=  12.8s\n",
      "[CV 1/2] END max_depth=7, min_samples_leaf=8, min_samples_split=12, n_estimators=70;, score=0.252 total time=  24.2s\n"
     ]
    },
    {
     "name": "stdout",
     "output_type": "stream",
     "text": [
      "[CV 2/2] END max_depth=7, min_samples_leaf=8, min_samples_split=12, n_estimators=70;, score=0.254 total time=  23.8s\n",
      "[CV 1/2] END max_depth=7, min_samples_leaf=8, min_samples_split=12, n_estimators=90;, score=0.252 total time=  29.1s\n",
      "[CV 2/2] END max_depth=7, min_samples_leaf=8, min_samples_split=12, n_estimators=90;, score=0.253 total time=  21.9s\n",
      "[CV 1/2] END max_depth=9, min_samples_leaf=2, min_samples_split=4, n_estimators=10;, score=0.302 total time=   3.4s\n",
      "[CV 2/2] END max_depth=9, min_samples_leaf=2, min_samples_split=4, n_estimators=10;, score=0.306 total time=   3.5s\n",
      "[CV 1/2] END max_depth=9, min_samples_leaf=2, min_samples_split=4, n_estimators=30;, score=0.270 total time=   8.2s\n",
      "[CV 2/2] END max_depth=9, min_samples_leaf=2, min_samples_split=4, n_estimators=30;, score=0.274 total time=   9.3s\n",
      "[CV 1/2] END max_depth=9, min_samples_leaf=2, min_samples_split=4, n_estimators=70;, score=0.256 total time=  20.1s\n",
      "[CV 2/2] END max_depth=9, min_samples_leaf=2, min_samples_split=4, n_estimators=70;, score=0.261 total time=  21.3s\n",
      "[CV 1/2] END max_depth=9, min_samples_leaf=2, min_samples_split=4, n_estimators=90;, score=0.255 total time=  29.2s\n",
      "[CV 2/2] END max_depth=9, min_samples_leaf=2, min_samples_split=4, n_estimators=90;, score=0.257 total time=  23.3s\n",
      "[CV 1/2] END max_depth=9, min_samples_leaf=2, min_samples_split=8, n_estimators=10;, score=0.285 total time=   3.4s\n",
      "[CV 2/2] END max_depth=9, min_samples_leaf=2, min_samples_split=8, n_estimators=10;, score=0.302 total time=   3.4s\n",
      "[CV 1/2] END max_depth=9, min_samples_leaf=2, min_samples_split=8, n_estimators=30;, score=0.273 total time= 2.0min\n",
      "[CV 2/2] END max_depth=9, min_samples_leaf=2, min_samples_split=8, n_estimators=30;, score=0.271 total time=   9.6s\n",
      "[CV 1/2] END max_depth=9, min_samples_leaf=2, min_samples_split=8, n_estimators=70;, score=0.258 total time=  17.1s\n",
      "[CV 2/2] END max_depth=9, min_samples_leaf=2, min_samples_split=8, n_estimators=70;, score=0.262 total time=  17.9s\n",
      "[CV 1/2] END max_depth=9, min_samples_leaf=2, min_samples_split=8, n_estimators=90;, score=0.255 total time=  23.3s\n",
      "[CV 2/2] END max_depth=9, min_samples_leaf=2, min_samples_split=8, n_estimators=90;, score=0.255 total time=  23.4s\n",
      "[CV 1/2] END max_depth=9, min_samples_leaf=2, min_samples_split=12, n_estimators=10;, score=0.287 total time=   3.2s\n",
      "[CV 2/2] END max_depth=9, min_samples_leaf=2, min_samples_split=12, n_estimators=10;, score=0.301 total time=   3.1s\n",
      "[CV 1/2] END max_depth=9, min_samples_leaf=2, min_samples_split=12, n_estimators=30;, score=0.271 total time=   7.9s\n",
      "[CV 2/2] END max_depth=9, min_samples_leaf=2, min_samples_split=12, n_estimators=30;, score=0.266 total time=   8.1s\n",
      "[CV 1/2] END max_depth=9, min_samples_leaf=2, min_samples_split=12, n_estimators=70;, score=0.260 total time=  20.7s\n",
      "[CV 2/2] END max_depth=9, min_samples_leaf=2, min_samples_split=12, n_estimators=70;, score=0.268 total time=  21.2s\n",
      "[CV 1/2] END max_depth=9, min_samples_leaf=2, min_samples_split=12, n_estimators=90;, score=0.254 total time=  25.7s\n",
      "[CV 2/2] END max_depth=9, min_samples_leaf=2, min_samples_split=12, n_estimators=90;, score=0.261 total time=  25.8s\n",
      "[CV 1/2] END max_depth=9, min_samples_leaf=6, min_samples_split=4, n_estimators=10;, score=0.289 total time=   3.9s\n",
      "[CV 2/2] END max_depth=9, min_samples_leaf=6, min_samples_split=4, n_estimators=10;, score=0.301 total time=   3.8s\n",
      "[CV 1/2] END max_depth=9, min_samples_leaf=6, min_samples_split=4, n_estimators=30;, score=0.257 total time=   9.4s\n",
      "[CV 2/2] END max_depth=9, min_samples_leaf=6, min_samples_split=4, n_estimators=30;, score=0.274 total time=   9.3s\n",
      "[CV 1/2] END max_depth=9, min_samples_leaf=6, min_samples_split=4, n_estimators=70;, score=0.256 total time=  21.0s\n",
      "[CV 2/2] END max_depth=9, min_samples_leaf=6, min_samples_split=4, n_estimators=70;, score=0.254 total time=  18.0s\n",
      "[CV 1/2] END max_depth=9, min_samples_leaf=6, min_samples_split=4, n_estimators=90;, score=0.255 total time=  24.2s\n",
      "[CV 2/2] END max_depth=9, min_samples_leaf=6, min_samples_split=4, n_estimators=90;, score=0.256 total time=  25.7s\n",
      "[CV 1/2] END max_depth=9, min_samples_leaf=6, min_samples_split=8, n_estimators=10;, score=0.294 total time=   3.5s\n",
      "[CV 2/2] END max_depth=9, min_samples_leaf=6, min_samples_split=8, n_estimators=10;, score=0.299 total time=   3.5s\n",
      "[CV 1/2] END max_depth=9, min_samples_leaf=6, min_samples_split=8, n_estimators=30;, score=0.267 total time=   9.0s\n",
      "[CV 2/2] END max_depth=9, min_samples_leaf=6, min_samples_split=8, n_estimators=30;, score=0.266 total time=   8.7s\n",
      "[CV 1/2] END max_depth=9, min_samples_leaf=6, min_samples_split=8, n_estimators=70;, score=0.253 total time=  19.9s\n",
      "[CV 2/2] END max_depth=9, min_samples_leaf=6, min_samples_split=8, n_estimators=70;, score=0.258 total time=  18.1s\n",
      "[CV 1/2] END max_depth=9, min_samples_leaf=6, min_samples_split=8, n_estimators=90;, score=0.252 total time=  25.1s\n",
      "[CV 2/2] END max_depth=9, min_samples_leaf=6, min_samples_split=8, n_estimators=90;, score=0.257 total time=  25.8s\n",
      "[CV 1/2] END max_depth=9, min_samples_leaf=6, min_samples_split=12, n_estimators=10;, score=0.287 total time=   3.9s\n",
      "[CV 2/2] END max_depth=9, min_samples_leaf=6, min_samples_split=12, n_estimators=10;, score=0.300 total time=   3.4s\n",
      "[CV 1/2] END max_depth=9, min_samples_leaf=6, min_samples_split=12, n_estimators=30;, score=0.267 total time=  10.1s\n",
      "[CV 2/2] END max_depth=9, min_samples_leaf=6, min_samples_split=12, n_estimators=30;, score=0.276 total time=   9.3s\n",
      "[CV 1/2] END max_depth=9, min_samples_leaf=6, min_samples_split=12, n_estimators=70;, score=0.253 total time=  19.6s\n",
      "[CV 2/2] END max_depth=9, min_samples_leaf=6, min_samples_split=12, n_estimators=70;, score=0.258 total time=  19.8s\n",
      "[CV 1/2] END max_depth=9, min_samples_leaf=6, min_samples_split=12, n_estimators=90;, score=0.255 total time=  23.4s\n",
      "[CV 2/2] END max_depth=9, min_samples_leaf=6, min_samples_split=12, n_estimators=90;, score=0.253 total time=  23.0s\n",
      "[CV 1/2] END max_depth=9, min_samples_leaf=8, min_samples_split=4, n_estimators=10;, score=0.300 total time=   3.6s\n",
      "[CV 2/2] END max_depth=9, min_samples_leaf=8, min_samples_split=4, n_estimators=10;, score=0.285 total time=   3.6s\n",
      "[CV 1/2] END max_depth=9, min_samples_leaf=8, min_samples_split=4, n_estimators=30;, score=0.265 total time=   9.0s\n",
      "[CV 2/2] END max_depth=9, min_samples_leaf=8, min_samples_split=4, n_estimators=30;, score=0.275 total time=   8.1s\n",
      "[CV 1/2] END max_depth=9, min_samples_leaf=8, min_samples_split=4, n_estimators=70;, score=0.254 total time=  18.5s\n",
      "[CV 2/2] END max_depth=9, min_samples_leaf=8, min_samples_split=4, n_estimators=70;, score=0.261 total time=  18.6s\n",
      "[CV 1/2] END max_depth=9, min_samples_leaf=8, min_samples_split=4, n_estimators=90;, score=0.253 total time=  22.1s\n",
      "[CV 2/2] END max_depth=9, min_samples_leaf=8, min_samples_split=4, n_estimators=90;, score=0.256 total time=  20.7s\n",
      "[CV 1/2] END max_depth=9, min_samples_leaf=8, min_samples_split=8, n_estimators=10;, score=0.292 total time=   3.0s\n",
      "[CV 2/2] END max_depth=9, min_samples_leaf=8, min_samples_split=8, n_estimators=10;, score=0.307 total time=   2.9s\n",
      "[CV 1/2] END max_depth=9, min_samples_leaf=8, min_samples_split=8, n_estimators=30;, score=0.264 total time=   7.6s\n",
      "[CV 2/2] END max_depth=9, min_samples_leaf=8, min_samples_split=8, n_estimators=30;, score=0.271 total time=   8.2s\n",
      "[CV 1/2] END max_depth=9, min_samples_leaf=8, min_samples_split=8, n_estimators=70;, score=0.258 total time=  20.0s\n",
      "[CV 2/2] END max_depth=9, min_samples_leaf=8, min_samples_split=8, n_estimators=70;, score=0.259 total time=  20.2s\n",
      "[CV 1/2] END max_depth=9, min_samples_leaf=8, min_samples_split=8, n_estimators=90;, score=0.252 total time=  26.2s\n",
      "[CV 2/2] END max_depth=9, min_samples_leaf=8, min_samples_split=8, n_estimators=90;, score=0.254 total time=  23.1s\n",
      "[CV 1/2] END max_depth=9, min_samples_leaf=8, min_samples_split=12, n_estimators=10;, score=0.287 total time=   3.2s\n",
      "[CV 2/2] END max_depth=9, min_samples_leaf=8, min_samples_split=12, n_estimators=10;, score=0.292 total time=   3.2s\n",
      "[CV 1/2] END max_depth=9, min_samples_leaf=8, min_samples_split=12, n_estimators=30;, score=0.268 total time=   8.0s\n",
      "[CV 2/2] END max_depth=9, min_samples_leaf=8, min_samples_split=12, n_estimators=30;, score=0.266 total time=   9.0s\n"
     ]
    },
    {
     "name": "stdout",
     "output_type": "stream",
     "text": [
      "[CV 1/2] END max_depth=9, min_samples_leaf=8, min_samples_split=12, n_estimators=70;, score=0.258 total time=  19.8s\n",
      "[CV 2/2] END max_depth=9, min_samples_leaf=8, min_samples_split=12, n_estimators=70;, score=0.256 total time=  20.0s\n",
      "[CV 1/2] END max_depth=9, min_samples_leaf=8, min_samples_split=12, n_estimators=90;, score=0.252 total time=  25.6s\n",
      "[CV 2/2] END max_depth=9, min_samples_leaf=8, min_samples_split=12, n_estimators=90;, score=0.252 total time=  23.6s\n"
     ]
    },
    {
     "data": {
      "text/plain": [
       "{'max_depth': 9,\n",
       " 'min_samples_leaf': 2,\n",
       " 'min_samples_split': 4,\n",
       " 'n_estimators': 10}"
      ]
     },
     "execution_count": 25,
     "metadata": {},
     "output_type": "execute_result"
    }
   ],
   "source": [
    "from sklearn.ensemble import RandomForestClassifier\n",
    "# Fitting the Grid parameters into the model\n",
    "DT_grid_f1 = make_scorer(f1_score , average='macro')\n",
    "\n",
    "\n",
    "RT_Grid = GridSearchCV(estimator = RandomForestClassifier(),param_grid=RF_param_grid, cv = 3,scoring = DT_grid_f1, verbose=3)\n",
    "\n",
    "RT_Grid.fit(X_train,y_train)\n",
    "\n",
    "RT_Grid.best_params_"
   ]
  },
  {
   "cell_type": "code",
   "execution_count": 26,
   "id": "658d3f8b",
   "metadata": {},
   "outputs": [
    {
     "name": "stdout",
     "output_type": "stream",
     "text": [
      "Accuracy :  56.673021925643475\n",
      "Report : \n",
      "               precision    recall  f1-score   support\n",
      "\n",
      "           0       0.59      0.92      0.72      1223\n",
      "           1       0.00      0.00      0.00       199\n",
      "           2       0.36      0.09      0.15       676\n",
      "\n",
      "    accuracy                           0.57      2098\n",
      "   macro avg       0.32      0.34      0.29      2098\n",
      "weighted avg       0.46      0.57      0.46      2098\n",
      "\n",
      "F1 Score :  28.800401826032836\n"
     ]
    }
   ],
   "source": [
    "rf_grid_pred=RT_Grid.predict(X_test)\n",
    "#Creating a Confusion Matrix and Calculating F1 score\n",
    " \n",
    "print (\"Accuracy : \" , accuracy_score(y_test,rf_grid_pred)*100)  \n",
    "print(\"Report : \\n\", classification_report(y_test, rf_grid_pred))\n",
    "print(\"F1 Score : \",f1_score(y_test, rf_grid_pred, average='macro')*100)"
   ]
  },
  {
   "cell_type": "markdown",
   "id": "7acdc95c",
   "metadata": {},
   "source": [
    "# KNN"
   ]
  },
  {
   "cell_type": "code",
   "execution_count": 20,
   "id": "5b06457d",
   "metadata": {},
   "outputs": [
    {
     "data": {
      "text/plain": [
       "KNeighborsClassifier(n_neighbors=1)"
      ]
     },
     "execution_count": 20,
     "metadata": {},
     "output_type": "execute_result"
    }
   ],
   "source": [
    "from sklearn.neighbors import KNeighborsClassifier\n",
    "\n",
    "knn_clf = KNeighborsClassifier(1)\n",
    "knn_clf.fit(X_train,y_train)"
   ]
  },
  {
   "cell_type": "code",
   "execution_count": 22,
   "id": "b95796b6",
   "metadata": {},
   "outputs": [],
   "source": [
    "pickle.dump(knn_clf, open('KNN_Image_model.pkl', 'wb'))"
   ]
  },
  {
   "cell_type": "code",
   "execution_count": 21,
   "id": "15989e98",
   "metadata": {},
   "outputs": [
    {
     "name": "stderr",
     "output_type": "stream",
     "text": [
      "C:\\Users\\samee\\anaconda3\\lib\\site-packages\\sklearn\\neighbors\\_classification.py:228: FutureWarning: Unlike other reduction functions (e.g. `skew`, `kurtosis`), the default behavior of `mode` typically preserves the axis it acts along. In SciPy 1.11.0, this behavior will change: the default value of `keepdims` will become False, the `axis` over which the statistic is taken will be eliminated, and the value None will no longer be accepted. Set `keepdims` to True or False to avoid this warning.\n",
      "  mode, _ = stats.mode(_y[neigh_ind, k], axis=1)\n"
     ]
    },
    {
     "name": "stdout",
     "output_type": "stream",
     "text": [
      "Accuracy :  46.139180171591995\n",
      "Report : \n",
      "               precision    recall  f1-score   support\n",
      "\n",
      "           0       0.58      0.65      0.61      1223\n",
      "           1       0.11      0.16      0.13       199\n",
      "           2       0.32      0.22      0.26       676\n",
      "\n",
      "    accuracy                           0.46      2098\n",
      "   macro avg       0.34      0.34      0.33      2098\n",
      "weighted avg       0.45      0.46      0.45      2098\n",
      "\n",
      "F1 Score :  33.32627490593339\n"
     ]
    }
   ],
   "source": [
    "knn_pred=knn_clf.predict(X_test)\n",
    "#Creating a Confusion Matrix and Calculating F1 score\n",
    " \n",
    "print (\"Accuracy : \" , accuracy_score(y_test,knn_pred)*100)  \n",
    "print(\"Report : \\n\", classification_report(y_test, knn_pred))\n",
    "print(\"F1 Score : \",f1_score(y_test, knn_pred, average='macro')*100)"
   ]
  },
  {
   "cell_type": "markdown",
   "id": "3ebba56f",
   "metadata": {},
   "source": [
    "## KNN grid Search"
   ]
  },
  {
   "cell_type": "code",
   "execution_count": 13,
   "id": "2db24b1c",
   "metadata": {},
   "outputs": [],
   "source": [
    "from sklearn.neighbors import KNeighborsClassifier\n",
    "# knn_g = KNeighborsClassifier()\n",
    "\n",
    "k_list = list(range(1,50,2))\n",
    "\n",
    "knn_grid_param = {'n_neighbors':k_list}"
   ]
  },
  {
   "cell_type": "code",
   "execution_count": 14,
   "id": "4c1795ce",
   "metadata": {},
   "outputs": [
    {
     "name": "stdout",
     "output_type": "stream",
     "text": [
      "Fitting 3 folds for each of 25 candidates, totalling 75 fits\n"
     ]
    },
    {
     "name": "stderr",
     "output_type": "stream",
     "text": [
      "C:\\Users\\samee\\anaconda3\\lib\\site-packages\\sklearn\\neighbors\\_classification.py:228: FutureWarning: Unlike other reduction functions (e.g. `skew`, `kurtosis`), the default behavior of `mode` typically preserves the axis it acts along. In SciPy 1.11.0, this behavior will change: the default value of `keepdims` will become False, the `axis` over which the statistic is taken will be eliminated, and the value None will no longer be accepted. Set `keepdims` to True or False to avoid this warning.\n",
      "  mode, _ = stats.mode(_y[neigh_ind, k], axis=1)\n"
     ]
    },
    {
     "name": "stdout",
     "output_type": "stream",
     "text": [
      "[CV 1/3] END .....................n_neighbors=1;, score=0.319 total time=   6.9s\n"
     ]
    },
    {
     "name": "stderr",
     "output_type": "stream",
     "text": [
      "C:\\Users\\samee\\anaconda3\\lib\\site-packages\\sklearn\\neighbors\\_classification.py:228: FutureWarning: Unlike other reduction functions (e.g. `skew`, `kurtosis`), the default behavior of `mode` typically preserves the axis it acts along. In SciPy 1.11.0, this behavior will change: the default value of `keepdims` will become False, the `axis` over which the statistic is taken will be eliminated, and the value None will no longer be accepted. Set `keepdims` to True or False to avoid this warning.\n",
      "  mode, _ = stats.mode(_y[neigh_ind, k], axis=1)\n"
     ]
    },
    {
     "name": "stdout",
     "output_type": "stream",
     "text": [
      "[CV 2/3] END .....................n_neighbors=1;, score=0.321 total time=   5.6s\n"
     ]
    },
    {
     "name": "stderr",
     "output_type": "stream",
     "text": [
      "C:\\Users\\samee\\anaconda3\\lib\\site-packages\\sklearn\\neighbors\\_classification.py:228: FutureWarning: Unlike other reduction functions (e.g. `skew`, `kurtosis`), the default behavior of `mode` typically preserves the axis it acts along. In SciPy 1.11.0, this behavior will change: the default value of `keepdims` will become False, the `axis` over which the statistic is taken will be eliminated, and the value None will no longer be accepted. Set `keepdims` to True or False to avoid this warning.\n",
      "  mode, _ = stats.mode(_y[neigh_ind, k], axis=1)\n"
     ]
    },
    {
     "name": "stdout",
     "output_type": "stream",
     "text": [
      "[CV 3/3] END .....................n_neighbors=1;, score=0.340 total time=   5.0s\n"
     ]
    },
    {
     "name": "stderr",
     "output_type": "stream",
     "text": [
      "C:\\Users\\samee\\anaconda3\\lib\\site-packages\\sklearn\\neighbors\\_classification.py:228: FutureWarning: Unlike other reduction functions (e.g. `skew`, `kurtosis`), the default behavior of `mode` typically preserves the axis it acts along. In SciPy 1.11.0, this behavior will change: the default value of `keepdims` will become False, the `axis` over which the statistic is taken will be eliminated, and the value None will no longer be accepted. Set `keepdims` to True or False to avoid this warning.\n",
      "  mode, _ = stats.mode(_y[neigh_ind, k], axis=1)\n"
     ]
    },
    {
     "name": "stdout",
     "output_type": "stream",
     "text": [
      "[CV 1/3] END .....................n_neighbors=3;, score=0.305 total time=   4.6s\n"
     ]
    },
    {
     "name": "stderr",
     "output_type": "stream",
     "text": [
      "C:\\Users\\samee\\anaconda3\\lib\\site-packages\\sklearn\\neighbors\\_classification.py:228: FutureWarning: Unlike other reduction functions (e.g. `skew`, `kurtosis`), the default behavior of `mode` typically preserves the axis it acts along. In SciPy 1.11.0, this behavior will change: the default value of `keepdims` will become False, the `axis` over which the statistic is taken will be eliminated, and the value None will no longer be accepted. Set `keepdims` to True or False to avoid this warning.\n",
      "  mode, _ = stats.mode(_y[neigh_ind, k], axis=1)\n"
     ]
    },
    {
     "name": "stdout",
     "output_type": "stream",
     "text": [
      "[CV 2/3] END .....................n_neighbors=3;, score=0.313 total time=   4.5s\n"
     ]
    },
    {
     "name": "stderr",
     "output_type": "stream",
     "text": [
      "C:\\Users\\samee\\anaconda3\\lib\\site-packages\\sklearn\\neighbors\\_classification.py:228: FutureWarning: Unlike other reduction functions (e.g. `skew`, `kurtosis`), the default behavior of `mode` typically preserves the axis it acts along. In SciPy 1.11.0, this behavior will change: the default value of `keepdims` will become False, the `axis` over which the statistic is taken will be eliminated, and the value None will no longer be accepted. Set `keepdims` to True or False to avoid this warning.\n",
      "  mode, _ = stats.mode(_y[neigh_ind, k], axis=1)\n"
     ]
    },
    {
     "name": "stdout",
     "output_type": "stream",
     "text": [
      "[CV 3/3] END .....................n_neighbors=3;, score=0.320 total time=   4.4s\n"
     ]
    },
    {
     "name": "stderr",
     "output_type": "stream",
     "text": [
      "C:\\Users\\samee\\anaconda3\\lib\\site-packages\\sklearn\\neighbors\\_classification.py:228: FutureWarning: Unlike other reduction functions (e.g. `skew`, `kurtosis`), the default behavior of `mode` typically preserves the axis it acts along. In SciPy 1.11.0, this behavior will change: the default value of `keepdims` will become False, the `axis` over which the statistic is taken will be eliminated, and the value None will no longer be accepted. Set `keepdims` to True or False to avoid this warning.\n",
      "  mode, _ = stats.mode(_y[neigh_ind, k], axis=1)\n"
     ]
    },
    {
     "name": "stdout",
     "output_type": "stream",
     "text": [
      "[CV 1/3] END .....................n_neighbors=5;, score=0.276 total time=   4.4s\n"
     ]
    },
    {
     "name": "stderr",
     "output_type": "stream",
     "text": [
      "C:\\Users\\samee\\anaconda3\\lib\\site-packages\\sklearn\\neighbors\\_classification.py:228: FutureWarning: Unlike other reduction functions (e.g. `skew`, `kurtosis`), the default behavior of `mode` typically preserves the axis it acts along. In SciPy 1.11.0, this behavior will change: the default value of `keepdims` will become False, the `axis` over which the statistic is taken will be eliminated, and the value None will no longer be accepted. Set `keepdims` to True or False to avoid this warning.\n",
      "  mode, _ = stats.mode(_y[neigh_ind, k], axis=1)\n"
     ]
    },
    {
     "name": "stdout",
     "output_type": "stream",
     "text": [
      "[CV 2/3] END .....................n_neighbors=5;, score=0.319 total time=   4.4s\n"
     ]
    },
    {
     "name": "stderr",
     "output_type": "stream",
     "text": [
      "C:\\Users\\samee\\anaconda3\\lib\\site-packages\\sklearn\\neighbors\\_classification.py:228: FutureWarning: Unlike other reduction functions (e.g. `skew`, `kurtosis`), the default behavior of `mode` typically preserves the axis it acts along. In SciPy 1.11.0, this behavior will change: the default value of `keepdims` will become False, the `axis` over which the statistic is taken will be eliminated, and the value None will no longer be accepted. Set `keepdims` to True or False to avoid this warning.\n",
      "  mode, _ = stats.mode(_y[neigh_ind, k], axis=1)\n"
     ]
    },
    {
     "name": "stdout",
     "output_type": "stream",
     "text": [
      "[CV 3/3] END .....................n_neighbors=5;, score=0.306 total time=   4.2s\n"
     ]
    },
    {
     "name": "stderr",
     "output_type": "stream",
     "text": [
      "C:\\Users\\samee\\anaconda3\\lib\\site-packages\\sklearn\\neighbors\\_classification.py:228: FutureWarning: Unlike other reduction functions (e.g. `skew`, `kurtosis`), the default behavior of `mode` typically preserves the axis it acts along. In SciPy 1.11.0, this behavior will change: the default value of `keepdims` will become False, the `axis` over which the statistic is taken will be eliminated, and the value None will no longer be accepted. Set `keepdims` to True or False to avoid this warning.\n",
      "  mode, _ = stats.mode(_y[neigh_ind, k], axis=1)\n"
     ]
    },
    {
     "name": "stdout",
     "output_type": "stream",
     "text": [
      "[CV 1/3] END .....................n_neighbors=7;, score=0.284 total time=   4.3s\n"
     ]
    },
    {
     "name": "stderr",
     "output_type": "stream",
     "text": [
      "C:\\Users\\samee\\anaconda3\\lib\\site-packages\\sklearn\\neighbors\\_classification.py:228: FutureWarning: Unlike other reduction functions (e.g. `skew`, `kurtosis`), the default behavior of `mode` typically preserves the axis it acts along. In SciPy 1.11.0, this behavior will change: the default value of `keepdims` will become False, the `axis` over which the statistic is taken will be eliminated, and the value None will no longer be accepted. Set `keepdims` to True or False to avoid this warning.\n",
      "  mode, _ = stats.mode(_y[neigh_ind, k], axis=1)\n"
     ]
    },
    {
     "name": "stdout",
     "output_type": "stream",
     "text": [
      "[CV 2/3] END .....................n_neighbors=7;, score=0.303 total time=   4.3s\n"
     ]
    },
    {
     "name": "stderr",
     "output_type": "stream",
     "text": [
      "C:\\Users\\samee\\anaconda3\\lib\\site-packages\\sklearn\\neighbors\\_classification.py:228: FutureWarning: Unlike other reduction functions (e.g. `skew`, `kurtosis`), the default behavior of `mode` typically preserves the axis it acts along. In SciPy 1.11.0, this behavior will change: the default value of `keepdims` will become False, the `axis` over which the statistic is taken will be eliminated, and the value None will no longer be accepted. Set `keepdims` to True or False to avoid this warning.\n",
      "  mode, _ = stats.mode(_y[neigh_ind, k], axis=1)\n"
     ]
    },
    {
     "name": "stdout",
     "output_type": "stream",
     "text": [
      "[CV 3/3] END .....................n_neighbors=7;, score=0.295 total time=   4.2s\n"
     ]
    },
    {
     "name": "stderr",
     "output_type": "stream",
     "text": [
      "C:\\Users\\samee\\anaconda3\\lib\\site-packages\\sklearn\\neighbors\\_classification.py:228: FutureWarning: Unlike other reduction functions (e.g. `skew`, `kurtosis`), the default behavior of `mode` typically preserves the axis it acts along. In SciPy 1.11.0, this behavior will change: the default value of `keepdims` will become False, the `axis` over which the statistic is taken will be eliminated, and the value None will no longer be accepted. Set `keepdims` to True or False to avoid this warning.\n",
      "  mode, _ = stats.mode(_y[neigh_ind, k], axis=1)\n"
     ]
    },
    {
     "name": "stdout",
     "output_type": "stream",
     "text": [
      "[CV 1/3] END .....................n_neighbors=9;, score=0.276 total time=   4.3s\n"
     ]
    },
    {
     "name": "stderr",
     "output_type": "stream",
     "text": [
      "C:\\Users\\samee\\anaconda3\\lib\\site-packages\\sklearn\\neighbors\\_classification.py:228: FutureWarning: Unlike other reduction functions (e.g. `skew`, `kurtosis`), the default behavior of `mode` typically preserves the axis it acts along. In SciPy 1.11.0, this behavior will change: the default value of `keepdims` will become False, the `axis` over which the statistic is taken will be eliminated, and the value None will no longer be accepted. Set `keepdims` to True or False to avoid this warning.\n",
      "  mode, _ = stats.mode(_y[neigh_ind, k], axis=1)\n"
     ]
    },
    {
     "name": "stdout",
     "output_type": "stream",
     "text": [
      "[CV 2/3] END .....................n_neighbors=9;, score=0.283 total time=   4.2s\n"
     ]
    },
    {
     "name": "stderr",
     "output_type": "stream",
     "text": [
      "C:\\Users\\samee\\anaconda3\\lib\\site-packages\\sklearn\\neighbors\\_classification.py:228: FutureWarning: Unlike other reduction functions (e.g. `skew`, `kurtosis`), the default behavior of `mode` typically preserves the axis it acts along. In SciPy 1.11.0, this behavior will change: the default value of `keepdims` will become False, the `axis` over which the statistic is taken will be eliminated, and the value None will no longer be accepted. Set `keepdims` to True or False to avoid this warning.\n",
      "  mode, _ = stats.mode(_y[neigh_ind, k], axis=1)\n"
     ]
    },
    {
     "name": "stdout",
     "output_type": "stream",
     "text": [
      "[CV 3/3] END .....................n_neighbors=9;, score=0.283 total time=   4.3s\n"
     ]
    },
    {
     "name": "stderr",
     "output_type": "stream",
     "text": [
      "C:\\Users\\samee\\anaconda3\\lib\\site-packages\\sklearn\\neighbors\\_classification.py:228: FutureWarning: Unlike other reduction functions (e.g. `skew`, `kurtosis`), the default behavior of `mode` typically preserves the axis it acts along. In SciPy 1.11.0, this behavior will change: the default value of `keepdims` will become False, the `axis` over which the statistic is taken will be eliminated, and the value None will no longer be accepted. Set `keepdims` to True or False to avoid this warning.\n",
      "  mode, _ = stats.mode(_y[neigh_ind, k], axis=1)\n"
     ]
    },
    {
     "name": "stdout",
     "output_type": "stream",
     "text": [
      "[CV 1/3] END ....................n_neighbors=11;, score=0.272 total time=   4.2s\n"
     ]
    },
    {
     "name": "stderr",
     "output_type": "stream",
     "text": [
      "C:\\Users\\samee\\anaconda3\\lib\\site-packages\\sklearn\\neighbors\\_classification.py:228: FutureWarning: Unlike other reduction functions (e.g. `skew`, `kurtosis`), the default behavior of `mode` typically preserves the axis it acts along. In SciPy 1.11.0, this behavior will change: the default value of `keepdims` will become False, the `axis` over which the statistic is taken will be eliminated, and the value None will no longer be accepted. Set `keepdims` to True or False to avoid this warning.\n",
      "  mode, _ = stats.mode(_y[neigh_ind, k], axis=1)\n"
     ]
    },
    {
     "name": "stdout",
     "output_type": "stream",
     "text": [
      "[CV 2/3] END ....................n_neighbors=11;, score=0.279 total time=   4.5s\n"
     ]
    },
    {
     "name": "stderr",
     "output_type": "stream",
     "text": [
      "C:\\Users\\samee\\anaconda3\\lib\\site-packages\\sklearn\\neighbors\\_classification.py:228: FutureWarning: Unlike other reduction functions (e.g. `skew`, `kurtosis`), the default behavior of `mode` typically preserves the axis it acts along. In SciPy 1.11.0, this behavior will change: the default value of `keepdims` will become False, the `axis` over which the statistic is taken will be eliminated, and the value None will no longer be accepted. Set `keepdims` to True or False to avoid this warning.\n",
      "  mode, _ = stats.mode(_y[neigh_ind, k], axis=1)\n"
     ]
    },
    {
     "name": "stdout",
     "output_type": "stream",
     "text": [
      "[CV 3/3] END ....................n_neighbors=11;, score=0.269 total time=   4.4s\n"
     ]
    },
    {
     "name": "stderr",
     "output_type": "stream",
     "text": [
      "C:\\Users\\samee\\anaconda3\\lib\\site-packages\\sklearn\\neighbors\\_classification.py:228: FutureWarning: Unlike other reduction functions (e.g. `skew`, `kurtosis`), the default behavior of `mode` typically preserves the axis it acts along. In SciPy 1.11.0, this behavior will change: the default value of `keepdims` will become False, the `axis` over which the statistic is taken will be eliminated, and the value None will no longer be accepted. Set `keepdims` to True or False to avoid this warning.\n",
      "  mode, _ = stats.mode(_y[neigh_ind, k], axis=1)\n"
     ]
    },
    {
     "name": "stdout",
     "output_type": "stream",
     "text": [
      "[CV 1/3] END ....................n_neighbors=13;, score=0.263 total time=   4.3s\n"
     ]
    },
    {
     "name": "stderr",
     "output_type": "stream",
     "text": [
      "C:\\Users\\samee\\anaconda3\\lib\\site-packages\\sklearn\\neighbors\\_classification.py:228: FutureWarning: Unlike other reduction functions (e.g. `skew`, `kurtosis`), the default behavior of `mode` typically preserves the axis it acts along. In SciPy 1.11.0, this behavior will change: the default value of `keepdims` will become False, the `axis` over which the statistic is taken will be eliminated, and the value None will no longer be accepted. Set `keepdims` to True or False to avoid this warning.\n",
      "  mode, _ = stats.mode(_y[neigh_ind, k], axis=1)\n"
     ]
    },
    {
     "name": "stdout",
     "output_type": "stream",
     "text": [
      "[CV 2/3] END ....................n_neighbors=13;, score=0.276 total time=   4.3s\n"
     ]
    },
    {
     "name": "stderr",
     "output_type": "stream",
     "text": [
      "C:\\Users\\samee\\anaconda3\\lib\\site-packages\\sklearn\\neighbors\\_classification.py:228: FutureWarning: Unlike other reduction functions (e.g. `skew`, `kurtosis`), the default behavior of `mode` typically preserves the axis it acts along. In SciPy 1.11.0, this behavior will change: the default value of `keepdims` will become False, the `axis` over which the statistic is taken will be eliminated, and the value None will no longer be accepted. Set `keepdims` to True or False to avoid this warning.\n",
      "  mode, _ = stats.mode(_y[neigh_ind, k], axis=1)\n"
     ]
    },
    {
     "name": "stdout",
     "output_type": "stream",
     "text": [
      "[CV 3/3] END ....................n_neighbors=13;, score=0.271 total time=   4.4s\n"
     ]
    },
    {
     "name": "stderr",
     "output_type": "stream",
     "text": [
      "C:\\Users\\samee\\anaconda3\\lib\\site-packages\\sklearn\\neighbors\\_classification.py:228: FutureWarning: Unlike other reduction functions (e.g. `skew`, `kurtosis`), the default behavior of `mode` typically preserves the axis it acts along. In SciPy 1.11.0, this behavior will change: the default value of `keepdims` will become False, the `axis` over which the statistic is taken will be eliminated, and the value None will no longer be accepted. Set `keepdims` to True or False to avoid this warning.\n",
      "  mode, _ = stats.mode(_y[neigh_ind, k], axis=1)\n"
     ]
    },
    {
     "name": "stdout",
     "output_type": "stream",
     "text": [
      "[CV 1/3] END ....................n_neighbors=15;, score=0.262 total time=   4.3s\n"
     ]
    },
    {
     "name": "stderr",
     "output_type": "stream",
     "text": [
      "C:\\Users\\samee\\anaconda3\\lib\\site-packages\\sklearn\\neighbors\\_classification.py:228: FutureWarning: Unlike other reduction functions (e.g. `skew`, `kurtosis`), the default behavior of `mode` typically preserves the axis it acts along. In SciPy 1.11.0, this behavior will change: the default value of `keepdims` will become False, the `axis` over which the statistic is taken will be eliminated, and the value None will no longer be accepted. Set `keepdims` to True or False to avoid this warning.\n",
      "  mode, _ = stats.mode(_y[neigh_ind, k], axis=1)\n"
     ]
    },
    {
     "name": "stdout",
     "output_type": "stream",
     "text": [
      "[CV 2/3] END ....................n_neighbors=15;, score=0.273 total time=   4.5s\n"
     ]
    },
    {
     "name": "stderr",
     "output_type": "stream",
     "text": [
      "C:\\Users\\samee\\anaconda3\\lib\\site-packages\\sklearn\\neighbors\\_classification.py:228: FutureWarning: Unlike other reduction functions (e.g. `skew`, `kurtosis`), the default behavior of `mode` typically preserves the axis it acts along. In SciPy 1.11.0, this behavior will change: the default value of `keepdims` will become False, the `axis` over which the statistic is taken will be eliminated, and the value None will no longer be accepted. Set `keepdims` to True or False to avoid this warning.\n",
      "  mode, _ = stats.mode(_y[neigh_ind, k], axis=1)\n"
     ]
    },
    {
     "name": "stdout",
     "output_type": "stream",
     "text": [
      "[CV 3/3] END ....................n_neighbors=15;, score=0.267 total time=   4.4s\n"
     ]
    },
    {
     "name": "stderr",
     "output_type": "stream",
     "text": [
      "C:\\Users\\samee\\anaconda3\\lib\\site-packages\\sklearn\\neighbors\\_classification.py:228: FutureWarning: Unlike other reduction functions (e.g. `skew`, `kurtosis`), the default behavior of `mode` typically preserves the axis it acts along. In SciPy 1.11.0, this behavior will change: the default value of `keepdims` will become False, the `axis` over which the statistic is taken will be eliminated, and the value None will no longer be accepted. Set `keepdims` to True or False to avoid this warning.\n",
      "  mode, _ = stats.mode(_y[neigh_ind, k], axis=1)\n"
     ]
    },
    {
     "name": "stdout",
     "output_type": "stream",
     "text": [
      "[CV 1/3] END ....................n_neighbors=17;, score=0.259 total time=   4.4s\n"
     ]
    },
    {
     "name": "stderr",
     "output_type": "stream",
     "text": [
      "C:\\Users\\samee\\anaconda3\\lib\\site-packages\\sklearn\\neighbors\\_classification.py:228: FutureWarning: Unlike other reduction functions (e.g. `skew`, `kurtosis`), the default behavior of `mode` typically preserves the axis it acts along. In SciPy 1.11.0, this behavior will change: the default value of `keepdims` will become False, the `axis` over which the statistic is taken will be eliminated, and the value None will no longer be accepted. Set `keepdims` to True or False to avoid this warning.\n",
      "  mode, _ = stats.mode(_y[neigh_ind, k], axis=1)\n"
     ]
    },
    {
     "name": "stdout",
     "output_type": "stream",
     "text": [
      "[CV 2/3] END ....................n_neighbors=17;, score=0.262 total time=   4.3s\n"
     ]
    },
    {
     "name": "stderr",
     "output_type": "stream",
     "text": [
      "C:\\Users\\samee\\anaconda3\\lib\\site-packages\\sklearn\\neighbors\\_classification.py:228: FutureWarning: Unlike other reduction functions (e.g. `skew`, `kurtosis`), the default behavior of `mode` typically preserves the axis it acts along. In SciPy 1.11.0, this behavior will change: the default value of `keepdims` will become False, the `axis` over which the statistic is taken will be eliminated, and the value None will no longer be accepted. Set `keepdims` to True or False to avoid this warning.\n",
      "  mode, _ = stats.mode(_y[neigh_ind, k], axis=1)\n"
     ]
    },
    {
     "name": "stdout",
     "output_type": "stream",
     "text": [
      "[CV 3/3] END ....................n_neighbors=17;, score=0.263 total time=   4.4s\n"
     ]
    },
    {
     "name": "stderr",
     "output_type": "stream",
     "text": [
      "C:\\Users\\samee\\anaconda3\\lib\\site-packages\\sklearn\\neighbors\\_classification.py:228: FutureWarning: Unlike other reduction functions (e.g. `skew`, `kurtosis`), the default behavior of `mode` typically preserves the axis it acts along. In SciPy 1.11.0, this behavior will change: the default value of `keepdims` will become False, the `axis` over which the statistic is taken will be eliminated, and the value None will no longer be accepted. Set `keepdims` to True or False to avoid this warning.\n",
      "  mode, _ = stats.mode(_y[neigh_ind, k], axis=1)\n"
     ]
    },
    {
     "name": "stdout",
     "output_type": "stream",
     "text": [
      "[CV 1/3] END ....................n_neighbors=19;, score=0.255 total time=   4.4s\n"
     ]
    },
    {
     "name": "stderr",
     "output_type": "stream",
     "text": [
      "C:\\Users\\samee\\anaconda3\\lib\\site-packages\\sklearn\\neighbors\\_classification.py:228: FutureWarning: Unlike other reduction functions (e.g. `skew`, `kurtosis`), the default behavior of `mode` typically preserves the axis it acts along. In SciPy 1.11.0, this behavior will change: the default value of `keepdims` will become False, the `axis` over which the statistic is taken will be eliminated, and the value None will no longer be accepted. Set `keepdims` to True or False to avoid this warning.\n",
      "  mode, _ = stats.mode(_y[neigh_ind, k], axis=1)\n"
     ]
    },
    {
     "name": "stdout",
     "output_type": "stream",
     "text": [
      "[CV 2/3] END ....................n_neighbors=19;, score=0.258 total time=   4.4s\n"
     ]
    },
    {
     "name": "stderr",
     "output_type": "stream",
     "text": [
      "C:\\Users\\samee\\anaconda3\\lib\\site-packages\\sklearn\\neighbors\\_classification.py:228: FutureWarning: Unlike other reduction functions (e.g. `skew`, `kurtosis`), the default behavior of `mode` typically preserves the axis it acts along. In SciPy 1.11.0, this behavior will change: the default value of `keepdims` will become False, the `axis` over which the statistic is taken will be eliminated, and the value None will no longer be accepted. Set `keepdims` to True or False to avoid this warning.\n",
      "  mode, _ = stats.mode(_y[neigh_ind, k], axis=1)\n"
     ]
    },
    {
     "name": "stdout",
     "output_type": "stream",
     "text": [
      "[CV 3/3] END ....................n_neighbors=19;, score=0.262 total time=   4.4s\n"
     ]
    },
    {
     "name": "stderr",
     "output_type": "stream",
     "text": [
      "C:\\Users\\samee\\anaconda3\\lib\\site-packages\\sklearn\\neighbors\\_classification.py:228: FutureWarning: Unlike other reduction functions (e.g. `skew`, `kurtosis`), the default behavior of `mode` typically preserves the axis it acts along. In SciPy 1.11.0, this behavior will change: the default value of `keepdims` will become False, the `axis` over which the statistic is taken will be eliminated, and the value None will no longer be accepted. Set `keepdims` to True or False to avoid this warning.\n",
      "  mode, _ = stats.mode(_y[neigh_ind, k], axis=1)\n"
     ]
    },
    {
     "name": "stdout",
     "output_type": "stream",
     "text": [
      "[CV 1/3] END ....................n_neighbors=21;, score=0.260 total time=   4.4s\n"
     ]
    },
    {
     "name": "stderr",
     "output_type": "stream",
     "text": [
      "C:\\Users\\samee\\anaconda3\\lib\\site-packages\\sklearn\\neighbors\\_classification.py:228: FutureWarning: Unlike other reduction functions (e.g. `skew`, `kurtosis`), the default behavior of `mode` typically preserves the axis it acts along. In SciPy 1.11.0, this behavior will change: the default value of `keepdims` will become False, the `axis` over which the statistic is taken will be eliminated, and the value None will no longer be accepted. Set `keepdims` to True or False to avoid this warning.\n",
      "  mode, _ = stats.mode(_y[neigh_ind, k], axis=1)\n"
     ]
    },
    {
     "name": "stdout",
     "output_type": "stream",
     "text": [
      "[CV 2/3] END ....................n_neighbors=21;, score=0.261 total time=   4.3s\n"
     ]
    },
    {
     "name": "stderr",
     "output_type": "stream",
     "text": [
      "C:\\Users\\samee\\anaconda3\\lib\\site-packages\\sklearn\\neighbors\\_classification.py:228: FutureWarning: Unlike other reduction functions (e.g. `skew`, `kurtosis`), the default behavior of `mode` typically preserves the axis it acts along. In SciPy 1.11.0, this behavior will change: the default value of `keepdims` will become False, the `axis` over which the statistic is taken will be eliminated, and the value None will no longer be accepted. Set `keepdims` to True or False to avoid this warning.\n",
      "  mode, _ = stats.mode(_y[neigh_ind, k], axis=1)\n"
     ]
    },
    {
     "name": "stdout",
     "output_type": "stream",
     "text": [
      "[CV 3/3] END ....................n_neighbors=21;, score=0.258 total time=   4.3s\n"
     ]
    },
    {
     "name": "stderr",
     "output_type": "stream",
     "text": [
      "C:\\Users\\samee\\anaconda3\\lib\\site-packages\\sklearn\\neighbors\\_classification.py:228: FutureWarning: Unlike other reduction functions (e.g. `skew`, `kurtosis`), the default behavior of `mode` typically preserves the axis it acts along. In SciPy 1.11.0, this behavior will change: the default value of `keepdims` will become False, the `axis` over which the statistic is taken will be eliminated, and the value None will no longer be accepted. Set `keepdims` to True or False to avoid this warning.\n",
      "  mode, _ = stats.mode(_y[neigh_ind, k], axis=1)\n"
     ]
    },
    {
     "name": "stdout",
     "output_type": "stream",
     "text": [
      "[CV 1/3] END ....................n_neighbors=23;, score=0.257 total time=   4.3s\n"
     ]
    },
    {
     "name": "stderr",
     "output_type": "stream",
     "text": [
      "C:\\Users\\samee\\anaconda3\\lib\\site-packages\\sklearn\\neighbors\\_classification.py:228: FutureWarning: Unlike other reduction functions (e.g. `skew`, `kurtosis`), the default behavior of `mode` typically preserves the axis it acts along. In SciPy 1.11.0, this behavior will change: the default value of `keepdims` will become False, the `axis` over which the statistic is taken will be eliminated, and the value None will no longer be accepted. Set `keepdims` to True or False to avoid this warning.\n",
      "  mode, _ = stats.mode(_y[neigh_ind, k], axis=1)\n"
     ]
    },
    {
     "name": "stdout",
     "output_type": "stream",
     "text": [
      "[CV 2/3] END ....................n_neighbors=23;, score=0.258 total time=   4.4s\n"
     ]
    },
    {
     "name": "stderr",
     "output_type": "stream",
     "text": [
      "C:\\Users\\samee\\anaconda3\\lib\\site-packages\\sklearn\\neighbors\\_classification.py:228: FutureWarning: Unlike other reduction functions (e.g. `skew`, `kurtosis`), the default behavior of `mode` typically preserves the axis it acts along. In SciPy 1.11.0, this behavior will change: the default value of `keepdims` will become False, the `axis` over which the statistic is taken will be eliminated, and the value None will no longer be accepted. Set `keepdims` to True or False to avoid this warning.\n",
      "  mode, _ = stats.mode(_y[neigh_ind, k], axis=1)\n"
     ]
    },
    {
     "name": "stdout",
     "output_type": "stream",
     "text": [
      "[CV 3/3] END ....................n_neighbors=23;, score=0.256 total time=   4.5s\n"
     ]
    },
    {
     "name": "stderr",
     "output_type": "stream",
     "text": [
      "C:\\Users\\samee\\anaconda3\\lib\\site-packages\\sklearn\\neighbors\\_classification.py:228: FutureWarning: Unlike other reduction functions (e.g. `skew`, `kurtosis`), the default behavior of `mode` typically preserves the axis it acts along. In SciPy 1.11.0, this behavior will change: the default value of `keepdims` will become False, the `axis` over which the statistic is taken will be eliminated, and the value None will no longer be accepted. Set `keepdims` to True or False to avoid this warning.\n",
      "  mode, _ = stats.mode(_y[neigh_ind, k], axis=1)\n"
     ]
    },
    {
     "name": "stdout",
     "output_type": "stream",
     "text": [
      "[CV 1/3] END ....................n_neighbors=25;, score=0.260 total time=   4.6s\n"
     ]
    },
    {
     "name": "stderr",
     "output_type": "stream",
     "text": [
      "C:\\Users\\samee\\anaconda3\\lib\\site-packages\\sklearn\\neighbors\\_classification.py:228: FutureWarning: Unlike other reduction functions (e.g. `skew`, `kurtosis`), the default behavior of `mode` typically preserves the axis it acts along. In SciPy 1.11.0, this behavior will change: the default value of `keepdims` will become False, the `axis` over which the statistic is taken will be eliminated, and the value None will no longer be accepted. Set `keepdims` to True or False to avoid this warning.\n",
      "  mode, _ = stats.mode(_y[neigh_ind, k], axis=1)\n"
     ]
    },
    {
     "name": "stdout",
     "output_type": "stream",
     "text": [
      "[CV 2/3] END ....................n_neighbors=25;, score=0.258 total time=   4.6s\n"
     ]
    },
    {
     "name": "stderr",
     "output_type": "stream",
     "text": [
      "C:\\Users\\samee\\anaconda3\\lib\\site-packages\\sklearn\\neighbors\\_classification.py:228: FutureWarning: Unlike other reduction functions (e.g. `skew`, `kurtosis`), the default behavior of `mode` typically preserves the axis it acts along. In SciPy 1.11.0, this behavior will change: the default value of `keepdims` will become False, the `axis` over which the statistic is taken will be eliminated, and the value None will no longer be accepted. Set `keepdims` to True or False to avoid this warning.\n",
      "  mode, _ = stats.mode(_y[neigh_ind, k], axis=1)\n"
     ]
    },
    {
     "name": "stdout",
     "output_type": "stream",
     "text": [
      "[CV 3/3] END ....................n_neighbors=25;, score=0.255 total time=   4.4s\n"
     ]
    },
    {
     "name": "stderr",
     "output_type": "stream",
     "text": [
      "C:\\Users\\samee\\anaconda3\\lib\\site-packages\\sklearn\\neighbors\\_classification.py:228: FutureWarning: Unlike other reduction functions (e.g. `skew`, `kurtosis`), the default behavior of `mode` typically preserves the axis it acts along. In SciPy 1.11.0, this behavior will change: the default value of `keepdims` will become False, the `axis` over which the statistic is taken will be eliminated, and the value None will no longer be accepted. Set `keepdims` to True or False to avoid this warning.\n",
      "  mode, _ = stats.mode(_y[neigh_ind, k], axis=1)\n"
     ]
    },
    {
     "name": "stdout",
     "output_type": "stream",
     "text": [
      "[CV 1/3] END ....................n_neighbors=27;, score=0.260 total time=   4.4s\n"
     ]
    },
    {
     "name": "stderr",
     "output_type": "stream",
     "text": [
      "C:\\Users\\samee\\anaconda3\\lib\\site-packages\\sklearn\\neighbors\\_classification.py:228: FutureWarning: Unlike other reduction functions (e.g. `skew`, `kurtosis`), the default behavior of `mode` typically preserves the axis it acts along. In SciPy 1.11.0, this behavior will change: the default value of `keepdims` will become False, the `axis` over which the statistic is taken will be eliminated, and the value None will no longer be accepted. Set `keepdims` to True or False to avoid this warning.\n",
      "  mode, _ = stats.mode(_y[neigh_ind, k], axis=1)\n"
     ]
    },
    {
     "name": "stdout",
     "output_type": "stream",
     "text": [
      "[CV 2/3] END ....................n_neighbors=27;, score=0.254 total time=   4.4s\n"
     ]
    },
    {
     "name": "stderr",
     "output_type": "stream",
     "text": [
      "C:\\Users\\samee\\anaconda3\\lib\\site-packages\\sklearn\\neighbors\\_classification.py:228: FutureWarning: Unlike other reduction functions (e.g. `skew`, `kurtosis`), the default behavior of `mode` typically preserves the axis it acts along. In SciPy 1.11.0, this behavior will change: the default value of `keepdims` will become False, the `axis` over which the statistic is taken will be eliminated, and the value None will no longer be accepted. Set `keepdims` to True or False to avoid this warning.\n",
      "  mode, _ = stats.mode(_y[neigh_ind, k], axis=1)\n"
     ]
    },
    {
     "name": "stdout",
     "output_type": "stream",
     "text": [
      "[CV 3/3] END ....................n_neighbors=27;, score=0.252 total time=   4.4s\n"
     ]
    },
    {
     "name": "stderr",
     "output_type": "stream",
     "text": [
      "C:\\Users\\samee\\anaconda3\\lib\\site-packages\\sklearn\\neighbors\\_classification.py:228: FutureWarning: Unlike other reduction functions (e.g. `skew`, `kurtosis`), the default behavior of `mode` typically preserves the axis it acts along. In SciPy 1.11.0, this behavior will change: the default value of `keepdims` will become False, the `axis` over which the statistic is taken will be eliminated, and the value None will no longer be accepted. Set `keepdims` to True or False to avoid this warning.\n",
      "  mode, _ = stats.mode(_y[neigh_ind, k], axis=1)\n"
     ]
    },
    {
     "name": "stdout",
     "output_type": "stream",
     "text": [
      "[CV 1/3] END ....................n_neighbors=29;, score=0.256 total time=   4.5s\n"
     ]
    },
    {
     "name": "stderr",
     "output_type": "stream",
     "text": [
      "C:\\Users\\samee\\anaconda3\\lib\\site-packages\\sklearn\\neighbors\\_classification.py:228: FutureWarning: Unlike other reduction functions (e.g. `skew`, `kurtosis`), the default behavior of `mode` typically preserves the axis it acts along. In SciPy 1.11.0, this behavior will change: the default value of `keepdims` will become False, the `axis` over which the statistic is taken will be eliminated, and the value None will no longer be accepted. Set `keepdims` to True or False to avoid this warning.\n",
      "  mode, _ = stats.mode(_y[neigh_ind, k], axis=1)\n"
     ]
    },
    {
     "name": "stdout",
     "output_type": "stream",
     "text": [
      "[CV 2/3] END ....................n_neighbors=29;, score=0.252 total time=   4.5s\n"
     ]
    },
    {
     "name": "stderr",
     "output_type": "stream",
     "text": [
      "C:\\Users\\samee\\anaconda3\\lib\\site-packages\\sklearn\\neighbors\\_classification.py:228: FutureWarning: Unlike other reduction functions (e.g. `skew`, `kurtosis`), the default behavior of `mode` typically preserves the axis it acts along. In SciPy 1.11.0, this behavior will change: the default value of `keepdims` will become False, the `axis` over which the statistic is taken will be eliminated, and the value None will no longer be accepted. Set `keepdims` to True or False to avoid this warning.\n",
      "  mode, _ = stats.mode(_y[neigh_ind, k], axis=1)\n"
     ]
    },
    {
     "name": "stdout",
     "output_type": "stream",
     "text": [
      "[CV 3/3] END ....................n_neighbors=29;, score=0.254 total time=   4.3s\n"
     ]
    },
    {
     "name": "stderr",
     "output_type": "stream",
     "text": [
      "C:\\Users\\samee\\anaconda3\\lib\\site-packages\\sklearn\\neighbors\\_classification.py:228: FutureWarning: Unlike other reduction functions (e.g. `skew`, `kurtosis`), the default behavior of `mode` typically preserves the axis it acts along. In SciPy 1.11.0, this behavior will change: the default value of `keepdims` will become False, the `axis` over which the statistic is taken will be eliminated, and the value None will no longer be accepted. Set `keepdims` to True or False to avoid this warning.\n",
      "  mode, _ = stats.mode(_y[neigh_ind, k], axis=1)\n"
     ]
    },
    {
     "name": "stdout",
     "output_type": "stream",
     "text": [
      "[CV 1/3] END ....................n_neighbors=31;, score=0.255 total time=   4.5s\n"
     ]
    },
    {
     "name": "stderr",
     "output_type": "stream",
     "text": [
      "C:\\Users\\samee\\anaconda3\\lib\\site-packages\\sklearn\\neighbors\\_classification.py:228: FutureWarning: Unlike other reduction functions (e.g. `skew`, `kurtosis`), the default behavior of `mode` typically preserves the axis it acts along. In SciPy 1.11.0, this behavior will change: the default value of `keepdims` will become False, the `axis` over which the statistic is taken will be eliminated, and the value None will no longer be accepted. Set `keepdims` to True or False to avoid this warning.\n",
      "  mode, _ = stats.mode(_y[neigh_ind, k], axis=1)\n"
     ]
    },
    {
     "name": "stdout",
     "output_type": "stream",
     "text": [
      "[CV 2/3] END ....................n_neighbors=31;, score=0.252 total time=   4.5s\n"
     ]
    },
    {
     "name": "stderr",
     "output_type": "stream",
     "text": [
      "C:\\Users\\samee\\anaconda3\\lib\\site-packages\\sklearn\\neighbors\\_classification.py:228: FutureWarning: Unlike other reduction functions (e.g. `skew`, `kurtosis`), the default behavior of `mode` typically preserves the axis it acts along. In SciPy 1.11.0, this behavior will change: the default value of `keepdims` will become False, the `axis` over which the statistic is taken will be eliminated, and the value None will no longer be accepted. Set `keepdims` to True or False to avoid this warning.\n",
      "  mode, _ = stats.mode(_y[neigh_ind, k], axis=1)\n"
     ]
    },
    {
     "name": "stdout",
     "output_type": "stream",
     "text": [
      "[CV 3/3] END ....................n_neighbors=31;, score=0.255 total time=   4.6s\n"
     ]
    },
    {
     "name": "stderr",
     "output_type": "stream",
     "text": [
      "C:\\Users\\samee\\anaconda3\\lib\\site-packages\\sklearn\\neighbors\\_classification.py:228: FutureWarning: Unlike other reduction functions (e.g. `skew`, `kurtosis`), the default behavior of `mode` typically preserves the axis it acts along. In SciPy 1.11.0, this behavior will change: the default value of `keepdims` will become False, the `axis` over which the statistic is taken will be eliminated, and the value None will no longer be accepted. Set `keepdims` to True or False to avoid this warning.\n",
      "  mode, _ = stats.mode(_y[neigh_ind, k], axis=1)\n"
     ]
    },
    {
     "name": "stdout",
     "output_type": "stream",
     "text": [
      "[CV 1/3] END ....................n_neighbors=33;, score=0.251 total time=   4.6s\n"
     ]
    },
    {
     "name": "stderr",
     "output_type": "stream",
     "text": [
      "C:\\Users\\samee\\anaconda3\\lib\\site-packages\\sklearn\\neighbors\\_classification.py:228: FutureWarning: Unlike other reduction functions (e.g. `skew`, `kurtosis`), the default behavior of `mode` typically preserves the axis it acts along. In SciPy 1.11.0, this behavior will change: the default value of `keepdims` will become False, the `axis` over which the statistic is taken will be eliminated, and the value None will no longer be accepted. Set `keepdims` to True or False to avoid this warning.\n",
      "  mode, _ = stats.mode(_y[neigh_ind, k], axis=1)\n"
     ]
    },
    {
     "name": "stdout",
     "output_type": "stream",
     "text": [
      "[CV 2/3] END ....................n_neighbors=33;, score=0.254 total time=   4.5s\n"
     ]
    },
    {
     "name": "stderr",
     "output_type": "stream",
     "text": [
      "C:\\Users\\samee\\anaconda3\\lib\\site-packages\\sklearn\\neighbors\\_classification.py:228: FutureWarning: Unlike other reduction functions (e.g. `skew`, `kurtosis`), the default behavior of `mode` typically preserves the axis it acts along. In SciPy 1.11.0, this behavior will change: the default value of `keepdims` will become False, the `axis` over which the statistic is taken will be eliminated, and the value None will no longer be accepted. Set `keepdims` to True or False to avoid this warning.\n",
      "  mode, _ = stats.mode(_y[neigh_ind, k], axis=1)\n"
     ]
    },
    {
     "name": "stdout",
     "output_type": "stream",
     "text": [
      "[CV 3/3] END ....................n_neighbors=33;, score=0.250 total time=   4.5s\n"
     ]
    },
    {
     "name": "stderr",
     "output_type": "stream",
     "text": [
      "C:\\Users\\samee\\anaconda3\\lib\\site-packages\\sklearn\\neighbors\\_classification.py:228: FutureWarning: Unlike other reduction functions (e.g. `skew`, `kurtosis`), the default behavior of `mode` typically preserves the axis it acts along. In SciPy 1.11.0, this behavior will change: the default value of `keepdims` will become False, the `axis` over which the statistic is taken will be eliminated, and the value None will no longer be accepted. Set `keepdims` to True or False to avoid this warning.\n",
      "  mode, _ = stats.mode(_y[neigh_ind, k], axis=1)\n"
     ]
    },
    {
     "name": "stdout",
     "output_type": "stream",
     "text": [
      "[CV 1/3] END ....................n_neighbors=35;, score=0.250 total time=   4.6s\n"
     ]
    },
    {
     "name": "stderr",
     "output_type": "stream",
     "text": [
      "C:\\Users\\samee\\anaconda3\\lib\\site-packages\\sklearn\\neighbors\\_classification.py:228: FutureWarning: Unlike other reduction functions (e.g. `skew`, `kurtosis`), the default behavior of `mode` typically preserves the axis it acts along. In SciPy 1.11.0, this behavior will change: the default value of `keepdims` will become False, the `axis` over which the statistic is taken will be eliminated, and the value None will no longer be accepted. Set `keepdims` to True or False to avoid this warning.\n",
      "  mode, _ = stats.mode(_y[neigh_ind, k], axis=1)\n"
     ]
    },
    {
     "name": "stdout",
     "output_type": "stream",
     "text": [
      "[CV 2/3] END ....................n_neighbors=35;, score=0.252 total time=   4.6s\n"
     ]
    },
    {
     "name": "stderr",
     "output_type": "stream",
     "text": [
      "C:\\Users\\samee\\anaconda3\\lib\\site-packages\\sklearn\\neighbors\\_classification.py:228: FutureWarning: Unlike other reduction functions (e.g. `skew`, `kurtosis`), the default behavior of `mode` typically preserves the axis it acts along. In SciPy 1.11.0, this behavior will change: the default value of `keepdims` will become False, the `axis` over which the statistic is taken will be eliminated, and the value None will no longer be accepted. Set `keepdims` to True or False to avoid this warning.\n",
      "  mode, _ = stats.mode(_y[neigh_ind, k], axis=1)\n"
     ]
    },
    {
     "name": "stdout",
     "output_type": "stream",
     "text": [
      "[CV 3/3] END ....................n_neighbors=35;, score=0.254 total time=   4.8s\n"
     ]
    },
    {
     "name": "stderr",
     "output_type": "stream",
     "text": [
      "C:\\Users\\samee\\anaconda3\\lib\\site-packages\\sklearn\\neighbors\\_classification.py:228: FutureWarning: Unlike other reduction functions (e.g. `skew`, `kurtosis`), the default behavior of `mode` typically preserves the axis it acts along. In SciPy 1.11.0, this behavior will change: the default value of `keepdims` will become False, the `axis` over which the statistic is taken will be eliminated, and the value None will no longer be accepted. Set `keepdims` to True or False to avoid this warning.\n",
      "  mode, _ = stats.mode(_y[neigh_ind, k], axis=1)\n"
     ]
    },
    {
     "name": "stdout",
     "output_type": "stream",
     "text": [
      "[CV 1/3] END ....................n_neighbors=37;, score=0.250 total time=   4.5s\n"
     ]
    },
    {
     "name": "stderr",
     "output_type": "stream",
     "text": [
      "C:\\Users\\samee\\anaconda3\\lib\\site-packages\\sklearn\\neighbors\\_classification.py:228: FutureWarning: Unlike other reduction functions (e.g. `skew`, `kurtosis`), the default behavior of `mode` typically preserves the axis it acts along. In SciPy 1.11.0, this behavior will change: the default value of `keepdims` will become False, the `axis` over which the statistic is taken will be eliminated, and the value None will no longer be accepted. Set `keepdims` to True or False to avoid this warning.\n",
      "  mode, _ = stats.mode(_y[neigh_ind, k], axis=1)\n"
     ]
    },
    {
     "name": "stdout",
     "output_type": "stream",
     "text": [
      "[CV 2/3] END ....................n_neighbors=37;, score=0.252 total time=   4.4s\n"
     ]
    },
    {
     "name": "stderr",
     "output_type": "stream",
     "text": [
      "C:\\Users\\samee\\anaconda3\\lib\\site-packages\\sklearn\\neighbors\\_classification.py:228: FutureWarning: Unlike other reduction functions (e.g. `skew`, `kurtosis`), the default behavior of `mode` typically preserves the axis it acts along. In SciPy 1.11.0, this behavior will change: the default value of `keepdims` will become False, the `axis` over which the statistic is taken will be eliminated, and the value None will no longer be accepted. Set `keepdims` to True or False to avoid this warning.\n",
      "  mode, _ = stats.mode(_y[neigh_ind, k], axis=1)\n"
     ]
    },
    {
     "name": "stdout",
     "output_type": "stream",
     "text": [
      "[CV 3/3] END ....................n_neighbors=37;, score=0.253 total time=   4.5s\n"
     ]
    },
    {
     "name": "stderr",
     "output_type": "stream",
     "text": [
      "C:\\Users\\samee\\anaconda3\\lib\\site-packages\\sklearn\\neighbors\\_classification.py:228: FutureWarning: Unlike other reduction functions (e.g. `skew`, `kurtosis`), the default behavior of `mode` typically preserves the axis it acts along. In SciPy 1.11.0, this behavior will change: the default value of `keepdims` will become False, the `axis` over which the statistic is taken will be eliminated, and the value None will no longer be accepted. Set `keepdims` to True or False to avoid this warning.\n",
      "  mode, _ = stats.mode(_y[neigh_ind, k], axis=1)\n"
     ]
    },
    {
     "name": "stdout",
     "output_type": "stream",
     "text": [
      "[CV 1/3] END ....................n_neighbors=39;, score=0.250 total time=   4.6s\n"
     ]
    },
    {
     "name": "stderr",
     "output_type": "stream",
     "text": [
      "C:\\Users\\samee\\anaconda3\\lib\\site-packages\\sklearn\\neighbors\\_classification.py:228: FutureWarning: Unlike other reduction functions (e.g. `skew`, `kurtosis`), the default behavior of `mode` typically preserves the axis it acts along. In SciPy 1.11.0, this behavior will change: the default value of `keepdims` will become False, the `axis` over which the statistic is taken will be eliminated, and the value None will no longer be accepted. Set `keepdims` to True or False to avoid this warning.\n",
      "  mode, _ = stats.mode(_y[neigh_ind, k], axis=1)\n"
     ]
    },
    {
     "name": "stdout",
     "output_type": "stream",
     "text": [
      "[CV 2/3] END ....................n_neighbors=39;, score=0.251 total time=   4.7s\n"
     ]
    },
    {
     "name": "stderr",
     "output_type": "stream",
     "text": [
      "C:\\Users\\samee\\anaconda3\\lib\\site-packages\\sklearn\\neighbors\\_classification.py:228: FutureWarning: Unlike other reduction functions (e.g. `skew`, `kurtosis`), the default behavior of `mode` typically preserves the axis it acts along. In SciPy 1.11.0, this behavior will change: the default value of `keepdims` will become False, the `axis` over which the statistic is taken will be eliminated, and the value None will no longer be accepted. Set `keepdims` to True or False to avoid this warning.\n",
      "  mode, _ = stats.mode(_y[neigh_ind, k], axis=1)\n"
     ]
    },
    {
     "name": "stdout",
     "output_type": "stream",
     "text": [
      "[CV 3/3] END ....................n_neighbors=39;, score=0.253 total time=   4.8s\n"
     ]
    },
    {
     "name": "stderr",
     "output_type": "stream",
     "text": [
      "C:\\Users\\samee\\anaconda3\\lib\\site-packages\\sklearn\\neighbors\\_classification.py:228: FutureWarning: Unlike other reduction functions (e.g. `skew`, `kurtosis`), the default behavior of `mode` typically preserves the axis it acts along. In SciPy 1.11.0, this behavior will change: the default value of `keepdims` will become False, the `axis` over which the statistic is taken will be eliminated, and the value None will no longer be accepted. Set `keepdims` to True or False to avoid this warning.\n",
      "  mode, _ = stats.mode(_y[neigh_ind, k], axis=1)\n"
     ]
    },
    {
     "name": "stdout",
     "output_type": "stream",
     "text": [
      "[CV 1/3] END ....................n_neighbors=41;, score=0.250 total time=   4.6s\n"
     ]
    },
    {
     "name": "stderr",
     "output_type": "stream",
     "text": [
      "C:\\Users\\samee\\anaconda3\\lib\\site-packages\\sklearn\\neighbors\\_classification.py:228: FutureWarning: Unlike other reduction functions (e.g. `skew`, `kurtosis`), the default behavior of `mode` typically preserves the axis it acts along. In SciPy 1.11.0, this behavior will change: the default value of `keepdims` will become False, the `axis` over which the statistic is taken will be eliminated, and the value None will no longer be accepted. Set `keepdims` to True or False to avoid this warning.\n",
      "  mode, _ = stats.mode(_y[neigh_ind, k], axis=1)\n"
     ]
    },
    {
     "name": "stdout",
     "output_type": "stream",
     "text": [
      "[CV 2/3] END ....................n_neighbors=41;, score=0.251 total time=   4.6s\n"
     ]
    },
    {
     "name": "stderr",
     "output_type": "stream",
     "text": [
      "C:\\Users\\samee\\anaconda3\\lib\\site-packages\\sklearn\\neighbors\\_classification.py:228: FutureWarning: Unlike other reduction functions (e.g. `skew`, `kurtosis`), the default behavior of `mode` typically preserves the axis it acts along. In SciPy 1.11.0, this behavior will change: the default value of `keepdims` will become False, the `axis` over which the statistic is taken will be eliminated, and the value None will no longer be accepted. Set `keepdims` to True or False to avoid this warning.\n",
      "  mode, _ = stats.mode(_y[neigh_ind, k], axis=1)\n"
     ]
    },
    {
     "name": "stdout",
     "output_type": "stream",
     "text": [
      "[CV 3/3] END ....................n_neighbors=41;, score=0.250 total time=   4.4s\n"
     ]
    },
    {
     "name": "stderr",
     "output_type": "stream",
     "text": [
      "C:\\Users\\samee\\anaconda3\\lib\\site-packages\\sklearn\\neighbors\\_classification.py:228: FutureWarning: Unlike other reduction functions (e.g. `skew`, `kurtosis`), the default behavior of `mode` typically preserves the axis it acts along. In SciPy 1.11.0, this behavior will change: the default value of `keepdims` will become False, the `axis` over which the statistic is taken will be eliminated, and the value None will no longer be accepted. Set `keepdims` to True or False to avoid this warning.\n",
      "  mode, _ = stats.mode(_y[neigh_ind, k], axis=1)\n"
     ]
    },
    {
     "name": "stdout",
     "output_type": "stream",
     "text": [
      "[CV 1/3] END ....................n_neighbors=43;, score=0.250 total time=   4.5s\n"
     ]
    },
    {
     "name": "stderr",
     "output_type": "stream",
     "text": [
      "C:\\Users\\samee\\anaconda3\\lib\\site-packages\\sklearn\\neighbors\\_classification.py:228: FutureWarning: Unlike other reduction functions (e.g. `skew`, `kurtosis`), the default behavior of `mode` typically preserves the axis it acts along. In SciPy 1.11.0, this behavior will change: the default value of `keepdims` will become False, the `axis` over which the statistic is taken will be eliminated, and the value None will no longer be accepted. Set `keepdims` to True or False to avoid this warning.\n",
      "  mode, _ = stats.mode(_y[neigh_ind, k], axis=1)\n"
     ]
    },
    {
     "name": "stdout",
     "output_type": "stream",
     "text": [
      "[CV 2/3] END ....................n_neighbors=43;, score=0.250 total time=   4.5s\n"
     ]
    },
    {
     "name": "stderr",
     "output_type": "stream",
     "text": [
      "C:\\Users\\samee\\anaconda3\\lib\\site-packages\\sklearn\\neighbors\\_classification.py:228: FutureWarning: Unlike other reduction functions (e.g. `skew`, `kurtosis`), the default behavior of `mode` typically preserves the axis it acts along. In SciPy 1.11.0, this behavior will change: the default value of `keepdims` will become False, the `axis` over which the statistic is taken will be eliminated, and the value None will no longer be accepted. Set `keepdims` to True or False to avoid this warning.\n",
      "  mode, _ = stats.mode(_y[neigh_ind, k], axis=1)\n"
     ]
    },
    {
     "name": "stdout",
     "output_type": "stream",
     "text": [
      "[CV 3/3] END ....................n_neighbors=43;, score=0.251 total time=   4.3s\n"
     ]
    },
    {
     "name": "stderr",
     "output_type": "stream",
     "text": [
      "C:\\Users\\samee\\anaconda3\\lib\\site-packages\\sklearn\\neighbors\\_classification.py:228: FutureWarning: Unlike other reduction functions (e.g. `skew`, `kurtosis`), the default behavior of `mode` typically preserves the axis it acts along. In SciPy 1.11.0, this behavior will change: the default value of `keepdims` will become False, the `axis` over which the statistic is taken will be eliminated, and the value None will no longer be accepted. Set `keepdims` to True or False to avoid this warning.\n",
      "  mode, _ = stats.mode(_y[neigh_ind, k], axis=1)\n"
     ]
    },
    {
     "name": "stdout",
     "output_type": "stream",
     "text": [
      "[CV 1/3] END ....................n_neighbors=45;, score=0.250 total time=   4.4s\n"
     ]
    },
    {
     "name": "stderr",
     "output_type": "stream",
     "text": [
      "C:\\Users\\samee\\anaconda3\\lib\\site-packages\\sklearn\\neighbors\\_classification.py:228: FutureWarning: Unlike other reduction functions (e.g. `skew`, `kurtosis`), the default behavior of `mode` typically preserves the axis it acts along. In SciPy 1.11.0, this behavior will change: the default value of `keepdims` will become False, the `axis` over which the statistic is taken will be eliminated, and the value None will no longer be accepted. Set `keepdims` to True or False to avoid this warning.\n",
      "  mode, _ = stats.mode(_y[neigh_ind, k], axis=1)\n"
     ]
    },
    {
     "name": "stdout",
     "output_type": "stream",
     "text": [
      "[CV 2/3] END ....................n_neighbors=45;, score=0.250 total time=   4.4s\n"
     ]
    },
    {
     "name": "stderr",
     "output_type": "stream",
     "text": [
      "C:\\Users\\samee\\anaconda3\\lib\\site-packages\\sklearn\\neighbors\\_classification.py:228: FutureWarning: Unlike other reduction functions (e.g. `skew`, `kurtosis`), the default behavior of `mode` typically preserves the axis it acts along. In SciPy 1.11.0, this behavior will change: the default value of `keepdims` will become False, the `axis` over which the statistic is taken will be eliminated, and the value None will no longer be accepted. Set `keepdims` to True or False to avoid this warning.\n",
      "  mode, _ = stats.mode(_y[neigh_ind, k], axis=1)\n"
     ]
    },
    {
     "name": "stdout",
     "output_type": "stream",
     "text": [
      "[CV 3/3] END ....................n_neighbors=45;, score=0.250 total time=   4.4s\n"
     ]
    },
    {
     "name": "stderr",
     "output_type": "stream",
     "text": [
      "C:\\Users\\samee\\anaconda3\\lib\\site-packages\\sklearn\\neighbors\\_classification.py:228: FutureWarning: Unlike other reduction functions (e.g. `skew`, `kurtosis`), the default behavior of `mode` typically preserves the axis it acts along. In SciPy 1.11.0, this behavior will change: the default value of `keepdims` will become False, the `axis` over which the statistic is taken will be eliminated, and the value None will no longer be accepted. Set `keepdims` to True or False to avoid this warning.\n",
      "  mode, _ = stats.mode(_y[neigh_ind, k], axis=1)\n"
     ]
    },
    {
     "name": "stdout",
     "output_type": "stream",
     "text": [
      "[CV 1/3] END ....................n_neighbors=47;, score=0.250 total time=   4.5s\n"
     ]
    },
    {
     "name": "stderr",
     "output_type": "stream",
     "text": [
      "C:\\Users\\samee\\anaconda3\\lib\\site-packages\\sklearn\\neighbors\\_classification.py:228: FutureWarning: Unlike other reduction functions (e.g. `skew`, `kurtosis`), the default behavior of `mode` typically preserves the axis it acts along. In SciPy 1.11.0, this behavior will change: the default value of `keepdims` will become False, the `axis` over which the statistic is taken will be eliminated, and the value None will no longer be accepted. Set `keepdims` to True or False to avoid this warning.\n",
      "  mode, _ = stats.mode(_y[neigh_ind, k], axis=1)\n"
     ]
    },
    {
     "name": "stdout",
     "output_type": "stream",
     "text": [
      "[CV 2/3] END ....................n_neighbors=47;, score=0.250 total time=   4.4s\n"
     ]
    },
    {
     "name": "stderr",
     "output_type": "stream",
     "text": [
      "C:\\Users\\samee\\anaconda3\\lib\\site-packages\\sklearn\\neighbors\\_classification.py:228: FutureWarning: Unlike other reduction functions (e.g. `skew`, `kurtosis`), the default behavior of `mode` typically preserves the axis it acts along. In SciPy 1.11.0, this behavior will change: the default value of `keepdims` will become False, the `axis` over which the statistic is taken will be eliminated, and the value None will no longer be accepted. Set `keepdims` to True or False to avoid this warning.\n",
      "  mode, _ = stats.mode(_y[neigh_ind, k], axis=1)\n"
     ]
    },
    {
     "name": "stdout",
     "output_type": "stream",
     "text": [
      "[CV 3/3] END ....................n_neighbors=47;, score=0.250 total time=   4.6s\n"
     ]
    },
    {
     "name": "stderr",
     "output_type": "stream",
     "text": [
      "C:\\Users\\samee\\anaconda3\\lib\\site-packages\\sklearn\\neighbors\\_classification.py:228: FutureWarning: Unlike other reduction functions (e.g. `skew`, `kurtosis`), the default behavior of `mode` typically preserves the axis it acts along. In SciPy 1.11.0, this behavior will change: the default value of `keepdims` will become False, the `axis` over which the statistic is taken will be eliminated, and the value None will no longer be accepted. Set `keepdims` to True or False to avoid this warning.\n",
      "  mode, _ = stats.mode(_y[neigh_ind, k], axis=1)\n"
     ]
    },
    {
     "name": "stdout",
     "output_type": "stream",
     "text": [
      "[CV 1/3] END ....................n_neighbors=49;, score=0.250 total time=   4.8s\n"
     ]
    },
    {
     "name": "stderr",
     "output_type": "stream",
     "text": [
      "C:\\Users\\samee\\anaconda3\\lib\\site-packages\\sklearn\\neighbors\\_classification.py:228: FutureWarning: Unlike other reduction functions (e.g. `skew`, `kurtosis`), the default behavior of `mode` typically preserves the axis it acts along. In SciPy 1.11.0, this behavior will change: the default value of `keepdims` will become False, the `axis` over which the statistic is taken will be eliminated, and the value None will no longer be accepted. Set `keepdims` to True or False to avoid this warning.\n",
      "  mode, _ = stats.mode(_y[neigh_ind, k], axis=1)\n"
     ]
    },
    {
     "name": "stdout",
     "output_type": "stream",
     "text": [
      "[CV 2/3] END ....................n_neighbors=49;, score=0.250 total time=   4.5s\n"
     ]
    },
    {
     "name": "stderr",
     "output_type": "stream",
     "text": [
      "C:\\Users\\samee\\anaconda3\\lib\\site-packages\\sklearn\\neighbors\\_classification.py:228: FutureWarning: Unlike other reduction functions (e.g. `skew`, `kurtosis`), the default behavior of `mode` typically preserves the axis it acts along. In SciPy 1.11.0, this behavior will change: the default value of `keepdims` will become False, the `axis` over which the statistic is taken will be eliminated, and the value None will no longer be accepted. Set `keepdims` to True or False to avoid this warning.\n",
      "  mode, _ = stats.mode(_y[neigh_ind, k], axis=1)\n"
     ]
    },
    {
     "name": "stdout",
     "output_type": "stream",
     "text": [
      "[CV 3/3] END ....................n_neighbors=49;, score=0.250 total time=   4.7s\n"
     ]
    },
    {
     "data": {
      "text/plain": [
       "{'n_neighbors': 1}"
      ]
     },
     "execution_count": 14,
     "metadata": {},
     "output_type": "execute_result"
    }
   ],
   "source": [
    "#Custome F1 score for MACRO (multi-class)\n",
    "from sklearn.metrics import f1_score, make_scorer\n",
    "\n",
    "knn_grid_f1 = make_scorer(f1_score , average='macro')\n",
    "\n",
    "knn_grid = GridSearchCV(KNeighborsClassifier(), knn_grid_param, cv=3, scoring=knn_grid_f1,verbose=3)\n",
    "\n",
    "knn_grid.fit(X_train,y_train)\n",
    "\n",
    "knn_grid.best_params_"
   ]
  },
  {
   "cell_type": "code",
   "execution_count": 15,
   "id": "3260c6ef",
   "metadata": {},
   "outputs": [
    {
     "name": "stdout",
     "output_type": "stream",
     "text": [
      "Accuracy :  46.139180171591995\n",
      "Report : \n",
      "               precision    recall  f1-score   support\n",
      "\n",
      "           0       0.58      0.65      0.61      1223\n",
      "           1       0.11      0.16      0.13       199\n",
      "           2       0.32      0.22      0.26       676\n",
      "\n",
      "    accuracy                           0.46      2098\n",
      "   macro avg       0.34      0.34      0.33      2098\n",
      "weighted avg       0.45      0.46      0.45      2098\n",
      "\n",
      "F1 Score :  33.32627490593339\n"
     ]
    },
    {
     "name": "stderr",
     "output_type": "stream",
     "text": [
      "C:\\Users\\samee\\anaconda3\\lib\\site-packages\\sklearn\\neighbors\\_classification.py:228: FutureWarning: Unlike other reduction functions (e.g. `skew`, `kurtosis`), the default behavior of `mode` typically preserves the axis it acts along. In SciPy 1.11.0, this behavior will change: the default value of `keepdims` will become False, the `axis` over which the statistic is taken will be eliminated, and the value None will no longer be accepted. Set `keepdims` to True or False to avoid this warning.\n",
      "  mode, _ = stats.mode(_y[neigh_ind, k], axis=1)\n"
     ]
    }
   ],
   "source": [
    "knn_grid_pred=knn_grid.predict(X_test)\n",
    "#Creating a Confusion Matrix and Calculating F1 score\n",
    " \n",
    "print (\"Accuracy : \" , accuracy_score(y_test,knn_grid_pred)*100)  \n",
    "print(\"Report : \\n\", classification_report(y_test, knn_grid_pred))\n",
    "print(\"F1 Score : \",f1_score(y_test, knn_grid_pred, average='macro')*100)"
   ]
  },
  {
   "cell_type": "markdown",
   "id": "27401234",
   "metadata": {},
   "source": [
    "# Decision Tree"
   ]
  },
  {
   "cell_type": "code",
   "execution_count": 38,
   "id": "632fa6e7",
   "metadata": {},
   "outputs": [
    {
     "data": {
      "text/plain": [
       "0.46472831267874165"
      ]
     },
     "execution_count": 38,
     "metadata": {},
     "output_type": "execute_result"
    }
   ],
   "source": [
    "from sklearn.tree import DecisionTreeClassifier\n",
    "\n",
    "DT_clf = DecisionTreeClassifier(ccp_alpha= 0.001, criterion= 'entropy',max_depth= 25, max_features= 'log2')\n",
    "DT_clf.fit(X_train,y_train)\n",
    "DT_clf.score(X_test, y_test)\n"
   ]
  },
  {
   "cell_type": "code",
   "execution_count": 40,
   "id": "80c22444",
   "metadata": {},
   "outputs": [],
   "source": [
    "pickle.dump(DT_clf, open('DecisionTree_Image_model.pkl', 'wb'))"
   ]
  },
  {
   "cell_type": "code",
   "execution_count": 39,
   "id": "20bb3ceb",
   "metadata": {},
   "outputs": [
    {
     "name": "stdout",
     "output_type": "stream",
     "text": [
      "Accuracy :  46.47283126787416\n",
      "Report : \n",
      "               precision    recall  f1-score   support\n",
      "\n",
      "           0       0.57      0.64      0.60      1223\n",
      "           1       0.11      0.08      0.09       199\n",
      "           2       0.30      0.27      0.29       676\n",
      "\n",
      "    accuracy                           0.46      2098\n",
      "   macro avg       0.33      0.33      0.33      2098\n",
      "weighted avg       0.44      0.46      0.45      2098\n",
      "\n",
      "F1 Score :  32.55277323942745\n"
     ]
    }
   ],
   "source": [
    "DT_pred=DT_clf.predict(X_test)\n",
    "#Creating a Confusion Matrix and Calculating F1 score\n",
    " \n",
    "print (\"Accuracy : \" , accuracy_score(y_test,DT_pred)*100)  \n",
    "print(\"Report : \\n\", classification_report(y_test, DT_pred))\n",
    "print(\"F1 Score : \",f1_score(y_test, DT_pred, average='macro')*100)"
   ]
  },
  {
   "cell_type": "markdown",
   "id": "45ce40c7",
   "metadata": {},
   "source": [
    "# Decision Tree Grid Search"
   ]
  },
  {
   "cell_type": "code",
   "execution_count": 16,
   "id": "195d526b",
   "metadata": {},
   "outputs": [],
   "source": [
    "from sklearn.tree import DecisionTreeClassifier\n",
    "\n",
    "DT_grid = DecisionTreeClassifier()\n"
   ]
  },
  {
   "cell_type": "code",
   "execution_count": 17,
   "id": "40ab2cc2",
   "metadata": {},
   "outputs": [
    {
     "name": "stdout",
     "output_type": "stream",
     "text": [
      "Fitting 5 folds for each of 48 candidates, totalling 240 fits\n",
      "[CV 1/5] END ccp_alpha=1, criterion=entropy, max_depth=6, max_features=sqrt;, score=0.250 total time=   2.3s\n",
      "[CV 2/5] END ccp_alpha=1, criterion=entropy, max_depth=6, max_features=sqrt;, score=0.250 total time=   2.5s\n",
      "[CV 3/5] END ccp_alpha=1, criterion=entropy, max_depth=6, max_features=sqrt;, score=0.250 total time=   3.2s\n",
      "[CV 4/5] END ccp_alpha=1, criterion=entropy, max_depth=6, max_features=sqrt;, score=0.250 total time=   3.1s\n",
      "[CV 5/5] END ccp_alpha=1, criterion=entropy, max_depth=6, max_features=sqrt;, score=0.250 total time=   2.9s\n",
      "[CV 1/5] END ccp_alpha=1, criterion=entropy, max_depth=6, max_features=log2;, score=0.250 total time=   1.4s\n",
      "[CV 2/5] END ccp_alpha=1, criterion=entropy, max_depth=6, max_features=log2;, score=0.250 total time=   1.3s\n",
      "[CV 3/5] END ccp_alpha=1, criterion=entropy, max_depth=6, max_features=log2;, score=0.250 total time=   1.2s\n",
      "[CV 4/5] END ccp_alpha=1, criterion=entropy, max_depth=6, max_features=log2;, score=0.250 total time=   1.3s\n",
      "[CV 5/5] END ccp_alpha=1, criterion=entropy, max_depth=6, max_features=log2;, score=0.250 total time=   1.3s\n",
      "[CV 1/5] END ccp_alpha=1, criterion=entropy, max_depth=8, max_features=sqrt;, score=0.250 total time=   3.2s\n",
      "[CV 2/5] END ccp_alpha=1, criterion=entropy, max_depth=8, max_features=sqrt;, score=0.250 total time=   2.5s\n",
      "[CV 3/5] END ccp_alpha=1, criterion=entropy, max_depth=8, max_features=sqrt;, score=0.250 total time=   2.5s\n",
      "[CV 4/5] END ccp_alpha=1, criterion=entropy, max_depth=8, max_features=sqrt;, score=0.250 total time=   2.9s\n",
      "[CV 5/5] END ccp_alpha=1, criterion=entropy, max_depth=8, max_features=sqrt;, score=0.250 total time=   3.2s\n",
      "[CV 1/5] END ccp_alpha=1, criterion=entropy, max_depth=8, max_features=log2;, score=0.250 total time=   1.3s\n",
      "[CV 2/5] END ccp_alpha=1, criterion=entropy, max_depth=8, max_features=log2;, score=0.250 total time=   1.3s\n",
      "[CV 3/5] END ccp_alpha=1, criterion=entropy, max_depth=8, max_features=log2;, score=0.250 total time=   1.2s\n",
      "[CV 4/5] END ccp_alpha=1, criterion=entropy, max_depth=8, max_features=log2;, score=0.250 total time=   1.2s\n",
      "[CV 5/5] END ccp_alpha=1, criterion=entropy, max_depth=8, max_features=log2;, score=0.250 total time=   1.5s\n",
      "[CV 1/5] END ccp_alpha=1, criterion=entropy, max_depth=9, max_features=sqrt;, score=0.250 total time=   3.0s\n",
      "[CV 2/5] END ccp_alpha=1, criterion=entropy, max_depth=9, max_features=sqrt;, score=0.250 total time=   2.8s\n",
      "[CV 3/5] END ccp_alpha=1, criterion=entropy, max_depth=9, max_features=sqrt;, score=0.250 total time=   3.1s\n",
      "[CV 4/5] END ccp_alpha=1, criterion=entropy, max_depth=9, max_features=sqrt;, score=0.250 total time=   3.1s\n",
      "[CV 5/5] END ccp_alpha=1, criterion=entropy, max_depth=9, max_features=sqrt;, score=0.250 total time=   3.2s\n",
      "[CV 1/5] END ccp_alpha=1, criterion=entropy, max_depth=9, max_features=log2;, score=0.250 total time=   1.2s\n",
      "[CV 2/5] END ccp_alpha=1, criterion=entropy, max_depth=9, max_features=log2;, score=0.250 total time=   1.3s\n",
      "[CV 3/5] END ccp_alpha=1, criterion=entropy, max_depth=9, max_features=log2;, score=0.250 total time=   1.2s\n",
      "[CV 4/5] END ccp_alpha=1, criterion=entropy, max_depth=9, max_features=log2;, score=0.250 total time=   1.2s\n",
      "[CV 5/5] END ccp_alpha=1, criterion=entropy, max_depth=9, max_features=log2;, score=0.250 total time=   1.2s\n",
      "[CV 1/5] END ccp_alpha=1, criterion=entropy, max_depth=12, max_features=sqrt;, score=0.250 total time=   3.0s\n",
      "[CV 2/5] END ccp_alpha=1, criterion=entropy, max_depth=12, max_features=sqrt;, score=0.250 total time=   2.8s\n",
      "[CV 3/5] END ccp_alpha=1, criterion=entropy, max_depth=12, max_features=sqrt;, score=0.250 total time=   2.8s\n",
      "[CV 4/5] END ccp_alpha=1, criterion=entropy, max_depth=12, max_features=sqrt;, score=0.250 total time=   2.8s\n",
      "[CV 5/5] END ccp_alpha=1, criterion=entropy, max_depth=12, max_features=sqrt;, score=0.250 total time=   2.7s\n",
      "[CV 1/5] END ccp_alpha=1, criterion=entropy, max_depth=12, max_features=log2;, score=0.250 total time=   1.0s\n",
      "[CV 2/5] END ccp_alpha=1, criterion=entropy, max_depth=12, max_features=log2;, score=0.250 total time=   1.0s\n",
      "[CV 3/5] END ccp_alpha=1, criterion=entropy, max_depth=12, max_features=log2;, score=0.250 total time=   1.1s\n",
      "[CV 4/5] END ccp_alpha=1, criterion=entropy, max_depth=12, max_features=log2;, score=0.250 total time=   1.0s\n",
      "[CV 5/5] END ccp_alpha=1, criterion=entropy, max_depth=12, max_features=log2;, score=0.250 total time=   1.0s\n",
      "[CV 1/5] END ccp_alpha=1, criterion=entropy, max_depth=15, max_features=sqrt;, score=0.250 total time=   3.1s\n",
      "[CV 2/5] END ccp_alpha=1, criterion=entropy, max_depth=15, max_features=sqrt;, score=0.250 total time=   2.6s\n",
      "[CV 3/5] END ccp_alpha=1, criterion=entropy, max_depth=15, max_features=sqrt;, score=0.250 total time=   2.6s\n",
      "[CV 4/5] END ccp_alpha=1, criterion=entropy, max_depth=15, max_features=sqrt;, score=0.250 total time=   2.7s\n",
      "[CV 5/5] END ccp_alpha=1, criterion=entropy, max_depth=15, max_features=sqrt;, score=0.250 total time=   2.8s\n",
      "[CV 1/5] END ccp_alpha=1, criterion=entropy, max_depth=15, max_features=log2;, score=0.250 total time=   0.9s\n",
      "[CV 2/5] END ccp_alpha=1, criterion=entropy, max_depth=15, max_features=log2;, score=0.250 total time=   0.9s\n",
      "[CV 3/5] END ccp_alpha=1, criterion=entropy, max_depth=15, max_features=log2;, score=0.250 total time=   0.9s\n",
      "[CV 4/5] END ccp_alpha=1, criterion=entropy, max_depth=15, max_features=log2;, score=0.250 total time=   1.0s\n",
      "[CV 5/5] END ccp_alpha=1, criterion=entropy, max_depth=15, max_features=log2;, score=0.250 total time=   1.0s\n",
      "[CV 1/5] END ccp_alpha=1, criterion=entropy, max_depth=25, max_features=sqrt;, score=0.250 total time=   3.2s\n",
      "[CV 2/5] END ccp_alpha=1, criterion=entropy, max_depth=25, max_features=sqrt;, score=0.250 total time=   2.5s\n",
      "[CV 3/5] END ccp_alpha=1, criterion=entropy, max_depth=25, max_features=sqrt;, score=0.250 total time=   3.0s\n",
      "[CV 4/5] END ccp_alpha=1, criterion=entropy, max_depth=25, max_features=sqrt;, score=0.250 total time=   3.0s\n",
      "[CV 5/5] END ccp_alpha=1, criterion=entropy, max_depth=25, max_features=sqrt;, score=0.250 total time=   2.8s\n",
      "[CV 1/5] END ccp_alpha=1, criterion=entropy, max_depth=25, max_features=log2;, score=0.250 total time=   1.0s\n",
      "[CV 2/5] END ccp_alpha=1, criterion=entropy, max_depth=25, max_features=log2;, score=0.250 total time=   1.0s\n",
      "[CV 3/5] END ccp_alpha=1, criterion=entropy, max_depth=25, max_features=log2;, score=0.250 total time=   1.0s\n",
      "[CV 4/5] END ccp_alpha=1, criterion=entropy, max_depth=25, max_features=log2;, score=0.250 total time=   1.0s\n",
      "[CV 5/5] END ccp_alpha=1, criterion=entropy, max_depth=25, max_features=log2;, score=0.250 total time=   1.0s\n",
      "[CV 1/5] END ccp_alpha=0.1, criterion=entropy, max_depth=6, max_features=sqrt;, score=0.250 total time=   1.8s\n",
      "[CV 2/5] END ccp_alpha=0.1, criterion=entropy, max_depth=6, max_features=sqrt;, score=0.250 total time=   1.8s\n",
      "[CV 3/5] END ccp_alpha=0.1, criterion=entropy, max_depth=6, max_features=sqrt;, score=0.250 total time=   1.8s\n",
      "[CV 4/5] END ccp_alpha=0.1, criterion=entropy, max_depth=6, max_features=sqrt;, score=0.250 total time=   1.9s\n",
      "[CV 5/5] END ccp_alpha=0.1, criterion=entropy, max_depth=6, max_features=sqrt;, score=0.250 total time=   1.8s\n",
      "[CV 1/5] END ccp_alpha=0.1, criterion=entropy, max_depth=6, max_features=log2;, score=0.250 total time=   0.9s\n",
      "[CV 2/5] END ccp_alpha=0.1, criterion=entropy, max_depth=6, max_features=log2;, score=0.250 total time=   0.9s\n",
      "[CV 3/5] END ccp_alpha=0.1, criterion=entropy, max_depth=6, max_features=log2;, score=0.250 total time=   0.9s\n",
      "[CV 4/5] END ccp_alpha=0.1, criterion=entropy, max_depth=6, max_features=log2;, score=0.250 total time=   0.9s\n",
      "[CV 5/5] END ccp_alpha=0.1, criterion=entropy, max_depth=6, max_features=log2;, score=0.250 total time=   0.9s\n",
      "[CV 1/5] END ccp_alpha=0.1, criterion=entropy, max_depth=8, max_features=sqrt;, score=0.250 total time=   2.0s\n",
      "[CV 2/5] END ccp_alpha=0.1, criterion=entropy, max_depth=8, max_features=sqrt;, score=0.250 total time=   2.2s\n",
      "[CV 3/5] END ccp_alpha=0.1, criterion=entropy, max_depth=8, max_features=sqrt;, score=0.250 total time=   2.1s\n",
      "[CV 4/5] END ccp_alpha=0.1, criterion=entropy, max_depth=8, max_features=sqrt;, score=0.250 total time=   2.1s\n",
      "[CV 5/5] END ccp_alpha=0.1, criterion=entropy, max_depth=8, max_features=sqrt;, score=0.250 total time=   2.1s\n"
     ]
    },
    {
     "name": "stdout",
     "output_type": "stream",
     "text": [
      "[CV 1/5] END ccp_alpha=0.1, criterion=entropy, max_depth=8, max_features=log2;, score=0.250 total time=   1.0s\n",
      "[CV 2/5] END ccp_alpha=0.1, criterion=entropy, max_depth=8, max_features=log2;, score=0.250 total time=   1.0s\n",
      "[CV 3/5] END ccp_alpha=0.1, criterion=entropy, max_depth=8, max_features=log2;, score=0.250 total time=   1.0s\n",
      "[CV 4/5] END ccp_alpha=0.1, criterion=entropy, max_depth=8, max_features=log2;, score=0.250 total time=   1.0s\n",
      "[CV 5/5] END ccp_alpha=0.1, criterion=entropy, max_depth=8, max_features=log2;, score=0.250 total time=   1.0s\n",
      "[CV 1/5] END ccp_alpha=0.1, criterion=entropy, max_depth=9, max_features=sqrt;, score=0.250 total time=   2.5s\n",
      "[CV 2/5] END ccp_alpha=0.1, criterion=entropy, max_depth=9, max_features=sqrt;, score=0.250 total time=   2.3s\n",
      "[CV 3/5] END ccp_alpha=0.1, criterion=entropy, max_depth=9, max_features=sqrt;, score=0.250 total time=   2.5s\n",
      "[CV 4/5] END ccp_alpha=0.1, criterion=entropy, max_depth=9, max_features=sqrt;, score=0.250 total time=   2.5s\n",
      "[CV 5/5] END ccp_alpha=0.1, criterion=entropy, max_depth=9, max_features=sqrt;, score=0.250 total time=   2.4s\n",
      "[CV 1/5] END ccp_alpha=0.1, criterion=entropy, max_depth=9, max_features=log2;, score=0.250 total time=   1.1s\n",
      "[CV 2/5] END ccp_alpha=0.1, criterion=entropy, max_depth=9, max_features=log2;, score=0.250 total time=   1.1s\n",
      "[CV 3/5] END ccp_alpha=0.1, criterion=entropy, max_depth=9, max_features=log2;, score=0.250 total time=   1.1s\n",
      "[CV 4/5] END ccp_alpha=0.1, criterion=entropy, max_depth=9, max_features=log2;, score=0.250 total time=   1.1s\n",
      "[CV 5/5] END ccp_alpha=0.1, criterion=entropy, max_depth=9, max_features=log2;, score=0.250 total time=   1.1s\n",
      "[CV 1/5] END ccp_alpha=0.1, criterion=entropy, max_depth=12, max_features=sqrt;, score=0.250 total time=   2.9s\n",
      "[CV 2/5] END ccp_alpha=0.1, criterion=entropy, max_depth=12, max_features=sqrt;, score=0.250 total time=   2.9s\n",
      "[CV 3/5] END ccp_alpha=0.1, criterion=entropy, max_depth=12, max_features=sqrt;, score=0.250 total time=   2.8s\n",
      "[CV 4/5] END ccp_alpha=0.1, criterion=entropy, max_depth=12, max_features=sqrt;, score=0.250 total time=   2.8s\n",
      "[CV 5/5] END ccp_alpha=0.1, criterion=entropy, max_depth=12, max_features=sqrt;, score=0.250 total time=   2.6s\n",
      "[CV 1/5] END ccp_alpha=0.1, criterion=entropy, max_depth=12, max_features=log2;, score=0.250 total time=   0.9s\n",
      "[CV 2/5] END ccp_alpha=0.1, criterion=entropy, max_depth=12, max_features=log2;, score=0.250 total time=   1.0s\n",
      "[CV 3/5] END ccp_alpha=0.1, criterion=entropy, max_depth=12, max_features=log2;, score=0.250 total time=   0.9s\n",
      "[CV 4/5] END ccp_alpha=0.1, criterion=entropy, max_depth=12, max_features=log2;, score=0.250 total time=   1.0s\n",
      "[CV 5/5] END ccp_alpha=0.1, criterion=entropy, max_depth=12, max_features=log2;, score=0.250 total time=   0.9s\n",
      "[CV 1/5] END ccp_alpha=0.1, criterion=entropy, max_depth=15, max_features=sqrt;, score=0.250 total time=   2.8s\n",
      "[CV 2/5] END ccp_alpha=0.1, criterion=entropy, max_depth=15, max_features=sqrt;, score=0.250 total time=   2.6s\n",
      "[CV 3/5] END ccp_alpha=0.1, criterion=entropy, max_depth=15, max_features=sqrt;, score=0.250 total time=   2.6s\n",
      "[CV 4/5] END ccp_alpha=0.1, criterion=entropy, max_depth=15, max_features=sqrt;, score=0.250 total time=   2.8s\n",
      "[CV 5/5] END ccp_alpha=0.1, criterion=entropy, max_depth=15, max_features=sqrt;, score=0.250 total time=   3.1s\n",
      "[CV 1/5] END ccp_alpha=0.1, criterion=entropy, max_depth=15, max_features=log2;, score=0.250 total time=   1.2s\n",
      "[CV 2/5] END ccp_alpha=0.1, criterion=entropy, max_depth=15, max_features=log2;, score=0.250 total time=   1.2s\n",
      "[CV 3/5] END ccp_alpha=0.1, criterion=entropy, max_depth=15, max_features=log2;, score=0.250 total time=   1.2s\n",
      "[CV 4/5] END ccp_alpha=0.1, criterion=entropy, max_depth=15, max_features=log2;, score=0.250 total time=   1.1s\n",
      "[CV 5/5] END ccp_alpha=0.1, criterion=entropy, max_depth=15, max_features=log2;, score=0.250 total time=   1.0s\n",
      "[CV 1/5] END ccp_alpha=0.1, criterion=entropy, max_depth=25, max_features=sqrt;, score=0.250 total time=   3.7s\n",
      "[CV 2/5] END ccp_alpha=0.1, criterion=entropy, max_depth=25, max_features=sqrt;, score=0.250 total time=   3.0s\n",
      "[CV 3/5] END ccp_alpha=0.1, criterion=entropy, max_depth=25, max_features=sqrt;, score=0.250 total time=   3.3s\n",
      "[CV 4/5] END ccp_alpha=0.1, criterion=entropy, max_depth=25, max_features=sqrt;, score=0.250 total time=   3.6s\n",
      "[CV 5/5] END ccp_alpha=0.1, criterion=entropy, max_depth=25, max_features=sqrt;, score=0.250 total time=   3.1s\n",
      "[CV 1/5] END ccp_alpha=0.1, criterion=entropy, max_depth=25, max_features=log2;, score=0.250 total time=   1.2s\n",
      "[CV 2/5] END ccp_alpha=0.1, criterion=entropy, max_depth=25, max_features=log2;, score=0.250 total time=   1.2s\n",
      "[CV 3/5] END ccp_alpha=0.1, criterion=entropy, max_depth=25, max_features=log2;, score=0.250 total time=   1.2s\n",
      "[CV 4/5] END ccp_alpha=0.1, criterion=entropy, max_depth=25, max_features=log2;, score=0.250 total time=   1.2s\n",
      "[CV 5/5] END ccp_alpha=0.1, criterion=entropy, max_depth=25, max_features=log2;, score=0.250 total time=   1.1s\n",
      "[CV 1/5] END ccp_alpha=0.01, criterion=entropy, max_depth=6, max_features=sqrt;, score=0.250 total time=   2.4s\n",
      "[CV 2/5] END ccp_alpha=0.01, criterion=entropy, max_depth=6, max_features=sqrt;, score=0.250 total time=   2.4s\n",
      "[CV 3/5] END ccp_alpha=0.01, criterion=entropy, max_depth=6, max_features=sqrt;, score=0.250 total time=   2.2s\n",
      "[CV 4/5] END ccp_alpha=0.01, criterion=entropy, max_depth=6, max_features=sqrt;, score=0.250 total time=   2.3s\n",
      "[CV 5/5] END ccp_alpha=0.01, criterion=entropy, max_depth=6, max_features=sqrt;, score=0.250 total time=   2.3s\n",
      "[CV 1/5] END ccp_alpha=0.01, criterion=entropy, max_depth=6, max_features=log2;, score=0.250 total time=   1.1s\n",
      "[CV 2/5] END ccp_alpha=0.01, criterion=entropy, max_depth=6, max_features=log2;, score=0.250 total time=   0.9s\n",
      "[CV 3/5] END ccp_alpha=0.01, criterion=entropy, max_depth=6, max_features=log2;, score=0.250 total time=   1.0s\n",
      "[CV 4/5] END ccp_alpha=0.01, criterion=entropy, max_depth=6, max_features=log2;, score=0.250 total time=   1.0s\n",
      "[CV 5/5] END ccp_alpha=0.01, criterion=entropy, max_depth=6, max_features=log2;, score=0.250 total time=   1.0s\n",
      "[CV 1/5] END ccp_alpha=0.01, criterion=entropy, max_depth=8, max_features=sqrt;, score=0.250 total time=   2.2s\n",
      "[CV 2/5] END ccp_alpha=0.01, criterion=entropy, max_depth=8, max_features=sqrt;, score=0.250 total time=   2.2s\n",
      "[CV 3/5] END ccp_alpha=0.01, criterion=entropy, max_depth=8, max_features=sqrt;, score=0.250 total time=   2.1s\n",
      "[CV 4/5] END ccp_alpha=0.01, criterion=entropy, max_depth=8, max_features=sqrt;, score=0.250 total time=   2.3s\n",
      "[CV 5/5] END ccp_alpha=0.01, criterion=entropy, max_depth=8, max_features=sqrt;, score=0.250 total time=   2.3s\n",
      "[CV 1/5] END ccp_alpha=0.01, criterion=entropy, max_depth=8, max_features=log2;, score=0.250 total time=   1.0s\n",
      "[CV 2/5] END ccp_alpha=0.01, criterion=entropy, max_depth=8, max_features=log2;, score=0.250 total time=   1.0s\n",
      "[CV 3/5] END ccp_alpha=0.01, criterion=entropy, max_depth=8, max_features=log2;, score=0.250 total time=   1.0s\n",
      "[CV 4/5] END ccp_alpha=0.01, criterion=entropy, max_depth=8, max_features=log2;, score=0.250 total time=   1.1s\n",
      "[CV 5/5] END ccp_alpha=0.01, criterion=entropy, max_depth=8, max_features=log2;, score=0.250 total time=   1.2s\n",
      "[CV 1/5] END ccp_alpha=0.01, criterion=entropy, max_depth=9, max_features=sqrt;, score=0.250 total time=   2.8s\n",
      "[CV 2/5] END ccp_alpha=0.01, criterion=entropy, max_depth=9, max_features=sqrt;, score=0.250 total time=   2.7s\n",
      "[CV 3/5] END ccp_alpha=0.01, criterion=entropy, max_depth=9, max_features=sqrt;, score=0.250 total time=   2.7s\n",
      "[CV 4/5] END ccp_alpha=0.01, criterion=entropy, max_depth=9, max_features=sqrt;, score=0.250 total time=   2.6s\n",
      "[CV 5/5] END ccp_alpha=0.01, criterion=entropy, max_depth=9, max_features=sqrt;, score=0.250 total time=   3.0s\n",
      "[CV 1/5] END ccp_alpha=0.01, criterion=entropy, max_depth=9, max_features=log2;, score=0.250 total time=   1.1s\n",
      "[CV 2/5] END ccp_alpha=0.01, criterion=entropy, max_depth=9, max_features=log2;, score=0.250 total time=   1.1s\n",
      "[CV 3/5] END ccp_alpha=0.01, criterion=entropy, max_depth=9, max_features=log2;, score=0.250 total time=   1.2s\n",
      "[CV 4/5] END ccp_alpha=0.01, criterion=entropy, max_depth=9, max_features=log2;, score=0.250 total time=   1.1s\n"
     ]
    },
    {
     "name": "stdout",
     "output_type": "stream",
     "text": [
      "[CV 5/5] END ccp_alpha=0.01, criterion=entropy, max_depth=9, max_features=log2;, score=0.250 total time=   1.1s\n",
      "[CV 1/5] END ccp_alpha=0.01, criterion=entropy, max_depth=12, max_features=sqrt;, score=0.250 total time=   3.1s\n",
      "[CV 2/5] END ccp_alpha=0.01, criterion=entropy, max_depth=12, max_features=sqrt;, score=0.250 total time=   3.0s\n",
      "[CV 3/5] END ccp_alpha=0.01, criterion=entropy, max_depth=12, max_features=sqrt;, score=0.250 total time=   3.0s\n",
      "[CV 4/5] END ccp_alpha=0.01, criterion=entropy, max_depth=12, max_features=sqrt;, score=0.250 total time=   3.0s\n",
      "[CV 5/5] END ccp_alpha=0.01, criterion=entropy, max_depth=12, max_features=sqrt;, score=0.250 total time=   2.9s\n",
      "[CV 1/5] END ccp_alpha=0.01, criterion=entropy, max_depth=12, max_features=log2;, score=0.250 total time=   1.1s\n",
      "[CV 2/5] END ccp_alpha=0.01, criterion=entropy, max_depth=12, max_features=log2;, score=0.250 total time=   1.1s\n",
      "[CV 3/5] END ccp_alpha=0.01, criterion=entropy, max_depth=12, max_features=log2;, score=0.250 total time=   1.1s\n",
      "[CV 4/5] END ccp_alpha=0.01, criterion=entropy, max_depth=12, max_features=log2;, score=0.250 total time=   1.1s\n",
      "[CV 5/5] END ccp_alpha=0.01, criterion=entropy, max_depth=12, max_features=log2;, score=0.250 total time=   1.1s\n",
      "[CV 1/5] END ccp_alpha=0.01, criterion=entropy, max_depth=15, max_features=sqrt;, score=0.250 total time=   3.3s\n",
      "[CV 2/5] END ccp_alpha=0.01, criterion=entropy, max_depth=15, max_features=sqrt;, score=0.250 total time=   2.7s\n",
      "[CV 3/5] END ccp_alpha=0.01, criterion=entropy, max_depth=15, max_features=sqrt;, score=0.250 total time=   2.9s\n",
      "[CV 4/5] END ccp_alpha=0.01, criterion=entropy, max_depth=15, max_features=sqrt;, score=0.250 total time=   2.9s\n",
      "[CV 5/5] END ccp_alpha=0.01, criterion=entropy, max_depth=15, max_features=sqrt;, score=0.250 total time=   3.0s\n",
      "[CV 1/5] END ccp_alpha=0.01, criterion=entropy, max_depth=15, max_features=log2;, score=0.250 total time=   0.9s\n",
      "[CV 2/5] END ccp_alpha=0.01, criterion=entropy, max_depth=15, max_features=log2;, score=0.250 total time=   1.0s\n",
      "[CV 3/5] END ccp_alpha=0.01, criterion=entropy, max_depth=15, max_features=log2;, score=0.250 total time=   1.0s\n",
      "[CV 4/5] END ccp_alpha=0.01, criterion=entropy, max_depth=15, max_features=log2;, score=0.250 total time=   1.1s\n",
      "[CV 5/5] END ccp_alpha=0.01, criterion=entropy, max_depth=15, max_features=log2;, score=0.250 total time=   1.0s\n",
      "[CV 1/5] END ccp_alpha=0.01, criterion=entropy, max_depth=25, max_features=sqrt;, score=0.250 total time=   3.3s\n",
      "[CV 2/5] END ccp_alpha=0.01, criterion=entropy, max_depth=25, max_features=sqrt;, score=0.250 total time=   2.8s\n",
      "[CV 3/5] END ccp_alpha=0.01, criterion=entropy, max_depth=25, max_features=sqrt;, score=0.250 total time=   3.2s\n",
      "[CV 4/5] END ccp_alpha=0.01, criterion=entropy, max_depth=25, max_features=sqrt;, score=0.250 total time=   3.4s\n",
      "[CV 5/5] END ccp_alpha=0.01, criterion=entropy, max_depth=25, max_features=sqrt;, score=0.250 total time=   3.3s\n",
      "[CV 1/5] END ccp_alpha=0.01, criterion=entropy, max_depth=25, max_features=log2;, score=0.250 total time=   1.2s\n",
      "[CV 2/5] END ccp_alpha=0.01, criterion=entropy, max_depth=25, max_features=log2;, score=0.250 total time=   1.2s\n",
      "[CV 3/5] END ccp_alpha=0.01, criterion=entropy, max_depth=25, max_features=log2;, score=0.250 total time=   1.2s\n",
      "[CV 4/5] END ccp_alpha=0.01, criterion=entropy, max_depth=25, max_features=log2;, score=0.250 total time=   1.2s\n",
      "[CV 5/5] END ccp_alpha=0.01, criterion=entropy, max_depth=25, max_features=log2;, score=0.250 total time=   1.4s\n",
      "[CV 1/5] END ccp_alpha=0.001, criterion=entropy, max_depth=6, max_features=sqrt;, score=0.274 total time=   2.3s\n",
      "[CV 2/5] END ccp_alpha=0.001, criterion=entropy, max_depth=6, max_features=sqrt;, score=0.278 total time=   2.6s\n",
      "[CV 3/5] END ccp_alpha=0.001, criterion=entropy, max_depth=6, max_features=sqrt;, score=0.251 total time=   2.1s\n",
      "[CV 4/5] END ccp_alpha=0.001, criterion=entropy, max_depth=6, max_features=sqrt;, score=0.263 total time=   2.4s\n",
      "[CV 5/5] END ccp_alpha=0.001, criterion=entropy, max_depth=6, max_features=sqrt;, score=0.277 total time=   2.5s\n",
      "[CV 1/5] END ccp_alpha=0.001, criterion=entropy, max_depth=6, max_features=log2;, score=0.279 total time=   1.1s\n",
      "[CV 2/5] END ccp_alpha=0.001, criterion=entropy, max_depth=6, max_features=log2;, score=0.263 total time=   1.1s\n",
      "[CV 3/5] END ccp_alpha=0.001, criterion=entropy, max_depth=6, max_features=log2;, score=0.283 total time=   1.1s\n",
      "[CV 4/5] END ccp_alpha=0.001, criterion=entropy, max_depth=6, max_features=log2;, score=0.286 total time=   1.0s\n",
      "[CV 5/5] END ccp_alpha=0.001, criterion=entropy, max_depth=6, max_features=log2;, score=0.278 total time=   1.0s\n",
      "[CV 1/5] END ccp_alpha=0.001, criterion=entropy, max_depth=8, max_features=sqrt;, score=0.289 total time=   2.3s\n",
      "[CV 2/5] END ccp_alpha=0.001, criterion=entropy, max_depth=8, max_features=sqrt;, score=0.328 total time=   2.4s\n",
      "[CV 3/5] END ccp_alpha=0.001, criterion=entropy, max_depth=8, max_features=sqrt;, score=0.293 total time=   2.4s\n",
      "[CV 4/5] END ccp_alpha=0.001, criterion=entropy, max_depth=8, max_features=sqrt;, score=0.315 total time=   2.6s\n",
      "[CV 5/5] END ccp_alpha=0.001, criterion=entropy, max_depth=8, max_features=sqrt;, score=0.298 total time=   2.4s\n",
      "[CV 1/5] END ccp_alpha=0.001, criterion=entropy, max_depth=8, max_features=log2;, score=0.308 total time=   1.1s\n",
      "[CV 2/5] END ccp_alpha=0.001, criterion=entropy, max_depth=8, max_features=log2;, score=0.286 total time=   1.0s\n",
      "[CV 3/5] END ccp_alpha=0.001, criterion=entropy, max_depth=8, max_features=log2;, score=0.302 total time=   1.1s\n",
      "[CV 4/5] END ccp_alpha=0.001, criterion=entropy, max_depth=8, max_features=log2;, score=0.294 total time=   1.1s\n",
      "[CV 5/5] END ccp_alpha=0.001, criterion=entropy, max_depth=8, max_features=log2;, score=0.307 total time=   1.2s\n",
      "[CV 1/5] END ccp_alpha=0.001, criterion=entropy, max_depth=9, max_features=sqrt;, score=0.286 total time=   2.9s\n",
      "[CV 2/5] END ccp_alpha=0.001, criterion=entropy, max_depth=9, max_features=sqrt;, score=0.294 total time=   2.9s\n",
      "[CV 3/5] END ccp_alpha=0.001, criterion=entropy, max_depth=9, max_features=sqrt;, score=0.286 total time=   2.6s\n",
      "[CV 4/5] END ccp_alpha=0.001, criterion=entropy, max_depth=9, max_features=sqrt;, score=0.281 total time=   2.7s\n",
      "[CV 5/5] END ccp_alpha=0.001, criterion=entropy, max_depth=9, max_features=sqrt;, score=0.287 total time=   2.7s\n",
      "[CV 1/5] END ccp_alpha=0.001, criterion=entropy, max_depth=9, max_features=log2;, score=0.309 total time=   1.1s\n",
      "[CV 2/5] END ccp_alpha=0.001, criterion=entropy, max_depth=9, max_features=log2;, score=0.297 total time=   1.1s\n",
      "[CV 3/5] END ccp_alpha=0.001, criterion=entropy, max_depth=9, max_features=log2;, score=0.290 total time=   1.1s\n",
      "[CV 4/5] END ccp_alpha=0.001, criterion=entropy, max_depth=9, max_features=log2;, score=0.313 total time=   1.1s\n",
      "[CV 5/5] END ccp_alpha=0.001, criterion=entropy, max_depth=9, max_features=log2;, score=0.303 total time=   1.1s\n",
      "[CV 1/5] END ccp_alpha=0.001, criterion=entropy, max_depth=12, max_features=sqrt;, score=0.323 total time=   3.2s\n",
      "[CV 2/5] END ccp_alpha=0.001, criterion=entropy, max_depth=12, max_features=sqrt;, score=0.291 total time=   2.7s\n",
      "[CV 3/5] END ccp_alpha=0.001, criterion=entropy, max_depth=12, max_features=sqrt;, score=0.310 total time=   2.7s\n",
      "[CV 4/5] END ccp_alpha=0.001, criterion=entropy, max_depth=12, max_features=sqrt;, score=0.314 total time=   2.4s\n",
      "[CV 5/5] END ccp_alpha=0.001, criterion=entropy, max_depth=12, max_features=sqrt;, score=0.300 total time=   2.2s\n",
      "[CV 1/5] END ccp_alpha=0.001, criterion=entropy, max_depth=12, max_features=log2;, score=0.346 total time=   0.9s\n",
      "[CV 2/5] END ccp_alpha=0.001, criterion=entropy, max_depth=12, max_features=log2;, score=0.297 total time=   0.9s\n",
      "[CV 3/5] END ccp_alpha=0.001, criterion=entropy, max_depth=12, max_features=log2;, score=0.320 total time=   0.9s\n",
      "[CV 4/5] END ccp_alpha=0.001, criterion=entropy, max_depth=12, max_features=log2;, score=0.320 total time=   0.8s\n",
      "[CV 5/5] END ccp_alpha=0.001, criterion=entropy, max_depth=12, max_features=log2;, score=0.329 total time=   0.9s\n",
      "[CV 1/5] END ccp_alpha=0.001, criterion=entropy, max_depth=15, max_features=sqrt;, score=0.346 total time=   2.8s\n",
      "[CV 2/5] END ccp_alpha=0.001, criterion=entropy, max_depth=15, max_features=sqrt;, score=0.335 total time=   2.6s\n"
     ]
    },
    {
     "name": "stdout",
     "output_type": "stream",
     "text": [
      "[CV 3/5] END ccp_alpha=0.001, criterion=entropy, max_depth=15, max_features=sqrt;, score=0.332 total time=   2.6s\n",
      "[CV 4/5] END ccp_alpha=0.001, criterion=entropy, max_depth=15, max_features=sqrt;, score=0.324 total time=   2.7s\n",
      "[CV 5/5] END ccp_alpha=0.001, criterion=entropy, max_depth=15, max_features=sqrt;, score=0.313 total time=   2.7s\n",
      "[CV 1/5] END ccp_alpha=0.001, criterion=entropy, max_depth=15, max_features=log2;, score=0.344 total time=   1.0s\n",
      "[CV 2/5] END ccp_alpha=0.001, criterion=entropy, max_depth=15, max_features=log2;, score=0.342 total time=   0.9s\n",
      "[CV 3/5] END ccp_alpha=0.001, criterion=entropy, max_depth=15, max_features=log2;, score=0.341 total time=   0.9s\n",
      "[CV 4/5] END ccp_alpha=0.001, criterion=entropy, max_depth=15, max_features=log2;, score=0.330 total time=   0.9s\n",
      "[CV 5/5] END ccp_alpha=0.001, criterion=entropy, max_depth=15, max_features=log2;, score=0.331 total time=   1.0s\n",
      "[CV 1/5] END ccp_alpha=0.001, criterion=entropy, max_depth=25, max_features=sqrt;, score=0.345 total time=   3.2s\n",
      "[CV 2/5] END ccp_alpha=0.001, criterion=entropy, max_depth=25, max_features=sqrt;, score=0.341 total time=   2.6s\n",
      "[CV 3/5] END ccp_alpha=0.001, criterion=entropy, max_depth=25, max_features=sqrt;, score=0.324 total time=   3.0s\n",
      "[CV 4/5] END ccp_alpha=0.001, criterion=entropy, max_depth=25, max_features=sqrt;, score=0.321 total time=   3.3s\n",
      "[CV 5/5] END ccp_alpha=0.001, criterion=entropy, max_depth=25, max_features=sqrt;, score=0.312 total time=   3.1s\n",
      "[CV 1/5] END ccp_alpha=0.001, criterion=entropy, max_depth=25, max_features=log2;, score=0.344 total time=   1.1s\n",
      "[CV 2/5] END ccp_alpha=0.001, criterion=entropy, max_depth=25, max_features=log2;, score=0.336 total time=   1.1s\n",
      "[CV 3/5] END ccp_alpha=0.001, criterion=entropy, max_depth=25, max_features=log2;, score=0.327 total time=   1.1s\n",
      "[CV 4/5] END ccp_alpha=0.001, criterion=entropy, max_depth=25, max_features=log2;, score=0.325 total time=   1.1s\n",
      "[CV 5/5] END ccp_alpha=0.001, criterion=entropy, max_depth=25, max_features=log2;, score=0.339 total time=   1.0s\n"
     ]
    },
    {
     "data": {
      "text/plain": [
       "{'ccp_alpha': 0.001,\n",
       " 'criterion': 'entropy',\n",
       " 'max_depth': 15,\n",
       " 'max_features': 'log2'}"
      ]
     },
     "execution_count": 17,
     "metadata": {},
     "output_type": "execute_result"
    }
   ],
   "source": [
    "#run\n",
    "from sklearn.metrics import f1_score, make_scorer\n",
    "\n",
    "DT_grid_f1 = make_scorer(f1_score , average='macro')\n",
    "\n",
    "DT_param_grid = {'max_features': ['sqrt', 'log2'],\n",
    "              'ccp_alpha': [1,0.1, .01, .001],\n",
    "              'max_depth' : [ 6, 8, 9,12,15,25],\n",
    "              'criterion' :['entropy']\n",
    "             }\n",
    "DT_grid = DecisionTreeClassifier(random_state=1024)\n",
    "\n",
    "DT_grid_search = GridSearchCV(estimator=DT_grid, param_grid=DT_param_grid, cv=5, scoring=DT_grid_f1,verbose = 3 )\n",
    "DT_grid_search.fit(X_train, y_train)\n",
    "\n",
    "DT_grid_search.best_params_"
   ]
  },
  {
   "cell_type": "code",
   "execution_count": 19,
   "id": "0da16758",
   "metadata": {},
   "outputs": [
    {
     "name": "stdout",
     "output_type": "stream",
     "text": [
      "Accuracy :  51.382268827454716\n",
      "Report : \n",
      "               precision    recall  f1-score   support\n",
      "\n",
      "           0       0.60      0.74      0.66      1223\n",
      "           1       0.10      0.07      0.08       199\n",
      "           2       0.36      0.24      0.29       676\n",
      "\n",
      "    accuracy                           0.51      2098\n",
      "   macro avg       0.35      0.35      0.34      2098\n",
      "weighted avg       0.47      0.51      0.49      2098\n",
      "\n",
      "F1 Score :  34.395971828930186\n"
     ]
    }
   ],
   "source": [
    "DT_grid_pred=DT_grid_search.predict(X_test)\n",
    "#Creating a Confusion Matrix and Calculating F1 score\n",
    " \n",
    "print (\"Accuracy : \" , accuracy_score(y_test,DT_grid_pred)*100)  \n",
    "print(\"Report : \\n\", classification_report(y_test, DT_grid_pred))\n",
    "print(\"F1 Score : \",f1_score(y_test, DT_grid_pred, average='macro')*100)"
   ]
  },
  {
   "cell_type": "markdown",
   "id": "509283e0",
   "metadata": {},
   "source": [
    "# Text Classification"
   ]
  },
  {
   "cell_type": "code",
   "execution_count": 41,
   "id": "bc1fec94",
   "metadata": {},
   "outputs": [],
   "source": [
    "import numpy as np\n",
    "import re\n",
    "import nltk\n",
    "import pickle\n",
    "from nltk.corpus import stopwords\n",
    "import pandas as pd\n",
    "from nltk.stem import WordNetLemmatizer"
   ]
  },
  {
   "cell_type": "markdown",
   "id": "36cf9c00",
   "metadata": {},
   "source": [
    "#Refrence\n",
    "#https://stackabuse.com/text-classification-with-python-and-scikit-learn/"
   ]
  },
  {
   "cell_type": "code",
   "execution_count": 42,
   "id": "441a4c7e",
   "metadata": {},
   "outputs": [],
   "source": [
    "full_df = pd.read_pickle('Resized_Merged_greyscale.pkl')"
   ]
  },
  {
   "cell_type": "code",
   "execution_count": 43,
   "id": "9ba27f5c",
   "metadata": {},
   "outputs": [
    {
     "data": {
      "text/plain": [
       "(6991, 3)"
      ]
     },
     "execution_count": 43,
     "metadata": {},
     "output_type": "execute_result"
    }
   ],
   "source": [
    "full_df.shape"
   ]
  },
  {
   "cell_type": "code",
   "execution_count": 44,
   "id": "e9ea9d50",
   "metadata": {},
   "outputs": [],
   "source": [
    "text_use_df = full_df[['text_corrected','overall_sentiment']]"
   ]
  },
  {
   "cell_type": "code",
   "execution_count": 45,
   "id": "1a67b2b5",
   "metadata": {},
   "outputs": [],
   "source": [
    "text = text_use_df['text_corrected']"
   ]
  },
  {
   "cell_type": "code",
   "execution_count": 46,
   "id": "138d505b",
   "metadata": {},
   "outputs": [],
   "source": [
    "def normilize(X):\n",
    "    documents = []\n",
    "\n",
    "\n",
    "    stemmer = WordNetLemmatizer()\n",
    "\n",
    "    for sen in range(0, len(X)):\n",
    "        # Remove all the special characters\n",
    "        document = re.sub(r'\\W', ' ', str(X[sen]))\n",
    "\n",
    "        # remove all single characters\n",
    "        document = re.sub(r'\\s+[a-zA-Z]\\s+', ' ', document)\n",
    "\n",
    "        # Remove single characters from the start\n",
    "        document = re.sub(r'\\^[a-zA-Z]\\s+', ' ', document) \n",
    "\n",
    "        # Substituting multiple spaces with single space\n",
    "        document = re.sub(r'\\s+', ' ', document, flags=re.I)\n",
    "\n",
    "        # Removing prefixed 'b'\n",
    "        document = re.sub(r'^b\\s+', '', document)\n",
    "\n",
    "        # Converting to Lowercase\n",
    "        document = document.lower()\n",
    "\n",
    "        # Lemmatization\n",
    "        document = document.split()\n",
    "\n",
    "        document = [stemmer.lemmatize(word) for word in document]\n",
    "        document = ' '.join(document)\n",
    "\n",
    "        documents.append(document)\n",
    "    return documents\n",
    "    "
   ]
  },
  {
   "cell_type": "code",
   "execution_count": 47,
   "id": "4dac35a1",
   "metadata": {},
   "outputs": [],
   "source": [
    "n = normilize(text)"
   ]
  },
  {
   "cell_type": "markdown",
   "id": "4859c916",
   "metadata": {},
   "source": [
    "## Converting text to numbers"
   ]
  },
  {
   "cell_type": "code",
   "execution_count": 48,
   "id": "962430ad",
   "metadata": {},
   "outputs": [],
   "source": [
    "from sklearn.feature_extraction.text import TfidfVectorizer\n",
    "vectorizer = TfidfVectorizer()\n",
    "vectorizer.fit(n)\n",
    "X=vectorizer.transform(n).toarray()"
   ]
  },
  {
   "cell_type": "code",
   "execution_count": 49,
   "id": "46fd6b9b",
   "metadata": {},
   "outputs": [],
   "source": [
    "y=text_use_df['overall_sentiment']"
   ]
  },
  {
   "cell_type": "code",
   "execution_count": 50,
   "id": "6cdb22ce",
   "metadata": {},
   "outputs": [],
   "source": [
    "# Test Train splitting\n",
    "from sklearn.model_selection import train_test_split\n",
    "\n",
    "# X = X.to_numpy()\n",
    "y = y.to_numpy()\n",
    "\n",
    "X_train, X_test, y_train, y_test = train_test_split(X, y, test_size=0.3, random_state=10)"
   ]
  },
  {
   "cell_type": "markdown",
   "id": "98732023",
   "metadata": {},
   "source": [
    "### Training models"
   ]
  },
  {
   "cell_type": "markdown",
   "id": "ed71a936",
   "metadata": {},
   "source": [
    "### Linear Logistic"
   ]
  },
  {
   "cell_type": "code",
   "execution_count": 53,
   "id": "8c06bed9",
   "metadata": {},
   "outputs": [
    {
     "name": "stderr",
     "output_type": "stream",
     "text": [
      "C:\\Users\\samee\\anaconda3\\lib\\site-packages\\sklearn\\linear_model\\_logistic.py:814: ConvergenceWarning: lbfgs failed to converge (status=1):\n",
      "STOP: TOTAL NO. of ITERATIONS REACHED LIMIT.\n",
      "\n",
      "Increase the number of iterations (max_iter) or scale the data as shown in:\n",
      "    https://scikit-learn.org/stable/modules/preprocessing.html\n",
      "Please also refer to the documentation for alternative solver options:\n",
      "    https://scikit-learn.org/stable/modules/linear_model.html#logistic-regression\n",
      "  n_iter_i = _check_optimize_result(\n"
     ]
    }
   ],
   "source": [
    "from sklearn.linear_model import LogisticRegression\n",
    "LR_clf = LogisticRegression(C= 1000.0, penalty= 'l2')\n",
    "LR_clf.fit(X_train, y_train)\n",
    "LR_pred=LR_clf.predict(X_test)\n"
   ]
  },
  {
   "cell_type": "code",
   "execution_count": 55,
   "id": "3e009581",
   "metadata": {},
   "outputs": [],
   "source": [
    "pickle.dump(LR_clf, open('LinearLogistic_Text_model.pkl', 'wb'))"
   ]
  },
  {
   "cell_type": "code",
   "execution_count": 54,
   "id": "859dff43",
   "metadata": {},
   "outputs": [
    {
     "name": "stdout",
     "output_type": "stream",
     "text": [
      "Accuracy :  49.09437559580553\n",
      "Report : \n",
      "               precision    recall  f1-score   support\n",
      "\n",
      "           0       0.61      0.65      0.63      1274\n",
      "           1       0.15      0.08      0.11       180\n",
      "           2       0.30      0.29      0.29       644\n",
      "\n",
      "    accuracy                           0.49      2098\n",
      "   macro avg       0.35      0.34      0.34      2098\n",
      "weighted avg       0.47      0.49      0.48      2098\n",
      "\n",
      "F1 Score :  34.27306012850211\n"
     ]
    }
   ],
   "source": [
    "#Creating a Confusion Matrix and Calculating F1 score\n",
    " \n",
    "print (\"Accuracy : \" , accuracy_score(y_test,LR_pred)*100)  \n",
    "print(\"Report : \\n\", classification_report(y_test, LR_pred))\n",
    "print(\"F1 Score : \",f1_score(y_test, LR_pred, average='macro')*100)"
   ]
  },
  {
   "cell_type": "markdown",
   "id": "6fa5f7ed",
   "metadata": {},
   "source": [
    "## Linear Logistic Grid Search"
   ]
  },
  {
   "cell_type": "code",
   "execution_count": 25,
   "id": "dd607286",
   "metadata": {},
   "outputs": [
    {
     "name": "stderr",
     "output_type": "stream",
     "text": [
      "C:\\Users\\samee\\anaconda3\\lib\\site-packages\\sklearn\\linear_model\\_logistic.py:814: ConvergenceWarning: lbfgs failed to converge (status=1):\n",
      "STOP: TOTAL NO. of ITERATIONS REACHED LIMIT.\n",
      "\n",
      "Increase the number of iterations (max_iter) or scale the data as shown in:\n",
      "    https://scikit-learn.org/stable/modules/preprocessing.html\n",
      "Please also refer to the documentation for alternative solver options:\n",
      "    https://scikit-learn.org/stable/modules/linear_model.html#logistic-regression\n",
      "  n_iter_i = _check_optimize_result(\n",
      "C:\\Users\\samee\\anaconda3\\lib\\site-packages\\sklearn\\linear_model\\_logistic.py:814: ConvergenceWarning: lbfgs failed to converge (status=1):\n",
      "STOP: TOTAL NO. of ITERATIONS REACHED LIMIT.\n",
      "\n",
      "Increase the number of iterations (max_iter) or scale the data as shown in:\n",
      "    https://scikit-learn.org/stable/modules/preprocessing.html\n",
      "Please also refer to the documentation for alternative solver options:\n",
      "    https://scikit-learn.org/stable/modules/linear_model.html#logistic-regression\n",
      "  n_iter_i = _check_optimize_result(\n",
      "C:\\Users\\samee\\anaconda3\\lib\\site-packages\\sklearn\\linear_model\\_logistic.py:814: ConvergenceWarning: lbfgs failed to converge (status=1):\n",
      "STOP: TOTAL NO. of ITERATIONS REACHED LIMIT.\n",
      "\n",
      "Increase the number of iterations (max_iter) or scale the data as shown in:\n",
      "    https://scikit-learn.org/stable/modules/preprocessing.html\n",
      "Please also refer to the documentation for alternative solver options:\n",
      "    https://scikit-learn.org/stable/modules/linear_model.html#logistic-regression\n",
      "  n_iter_i = _check_optimize_result(\n",
      "C:\\Users\\samee\\anaconda3\\lib\\site-packages\\sklearn\\linear_model\\_logistic.py:814: ConvergenceWarning: lbfgs failed to converge (status=1):\n",
      "STOP: TOTAL NO. of ITERATIONS REACHED LIMIT.\n",
      "\n",
      "Increase the number of iterations (max_iter) or scale the data as shown in:\n",
      "    https://scikit-learn.org/stable/modules/preprocessing.html\n",
      "Please also refer to the documentation for alternative solver options:\n",
      "    https://scikit-learn.org/stable/modules/linear_model.html#logistic-regression\n",
      "  n_iter_i = _check_optimize_result(\n",
      "C:\\Users\\samee\\anaconda3\\lib\\site-packages\\sklearn\\linear_model\\_logistic.py:814: ConvergenceWarning: lbfgs failed to converge (status=1):\n",
      "STOP: TOTAL NO. of ITERATIONS REACHED LIMIT.\n",
      "\n",
      "Increase the number of iterations (max_iter) or scale the data as shown in:\n",
      "    https://scikit-learn.org/stable/modules/preprocessing.html\n",
      "Please also refer to the documentation for alternative solver options:\n",
      "    https://scikit-learn.org/stable/modules/linear_model.html#logistic-regression\n",
      "  n_iter_i = _check_optimize_result(\n",
      "C:\\Users\\samee\\anaconda3\\lib\\site-packages\\sklearn\\linear_model\\_logistic.py:814: ConvergenceWarning: lbfgs failed to converge (status=1):\n",
      "STOP: TOTAL NO. of ITERATIONS REACHED LIMIT.\n",
      "\n",
      "Increase the number of iterations (max_iter) or scale the data as shown in:\n",
      "    https://scikit-learn.org/stable/modules/preprocessing.html\n",
      "Please also refer to the documentation for alternative solver options:\n",
      "    https://scikit-learn.org/stable/modules/linear_model.html#logistic-regression\n",
      "  n_iter_i = _check_optimize_result(\n",
      "C:\\Users\\samee\\anaconda3\\lib\\site-packages\\sklearn\\linear_model\\_logistic.py:814: ConvergenceWarning: lbfgs failed to converge (status=1):\n",
      "STOP: TOTAL NO. of ITERATIONS REACHED LIMIT.\n",
      "\n",
      "Increase the number of iterations (max_iter) or scale the data as shown in:\n",
      "    https://scikit-learn.org/stable/modules/preprocessing.html\n",
      "Please also refer to the documentation for alternative solver options:\n",
      "    https://scikit-learn.org/stable/modules/linear_model.html#logistic-regression\n",
      "  n_iter_i = _check_optimize_result(\n",
      "C:\\Users\\samee\\anaconda3\\lib\\site-packages\\sklearn\\linear_model\\_logistic.py:814: ConvergenceWarning: lbfgs failed to converge (status=1):\n",
      "STOP: TOTAL NO. of ITERATIONS REACHED LIMIT.\n",
      "\n",
      "Increase the number of iterations (max_iter) or scale the data as shown in:\n",
      "    https://scikit-learn.org/stable/modules/preprocessing.html\n",
      "Please also refer to the documentation for alternative solver options:\n",
      "    https://scikit-learn.org/stable/modules/linear_model.html#logistic-regression\n",
      "  n_iter_i = _check_optimize_result(\n",
      "C:\\Users\\samee\\anaconda3\\lib\\site-packages\\sklearn\\linear_model\\_logistic.py:814: ConvergenceWarning: lbfgs failed to converge (status=1):\n",
      "STOP: TOTAL NO. of ITERATIONS REACHED LIMIT.\n",
      "\n",
      "Increase the number of iterations (max_iter) or scale the data as shown in:\n",
      "    https://scikit-learn.org/stable/modules/preprocessing.html\n",
      "Please also refer to the documentation for alternative solver options:\n",
      "    https://scikit-learn.org/stable/modules/linear_model.html#logistic-regression\n",
      "  n_iter_i = _check_optimize_result(\n",
      "C:\\Users\\samee\\anaconda3\\lib\\site-packages\\sklearn\\linear_model\\_logistic.py:814: ConvergenceWarning: lbfgs failed to converge (status=1):\n",
      "STOP: TOTAL NO. of ITERATIONS REACHED LIMIT.\n",
      "\n",
      "Increase the number of iterations (max_iter) or scale the data as shown in:\n",
      "    https://scikit-learn.org/stable/modules/preprocessing.html\n",
      "Please also refer to the documentation for alternative solver options:\n",
      "    https://scikit-learn.org/stable/modules/linear_model.html#logistic-regression\n",
      "  n_iter_i = _check_optimize_result(\n",
      "C:\\Users\\samee\\anaconda3\\lib\\site-packages\\sklearn\\linear_model\\_logistic.py:814: ConvergenceWarning: lbfgs failed to converge (status=1):\n",
      "STOP: TOTAL NO. of ITERATIONS REACHED LIMIT.\n",
      "\n",
      "Increase the number of iterations (max_iter) or scale the data as shown in:\n",
      "    https://scikit-learn.org/stable/modules/preprocessing.html\n",
      "Please also refer to the documentation for alternative solver options:\n",
      "    https://scikit-learn.org/stable/modules/linear_model.html#logistic-regression\n",
      "  n_iter_i = _check_optimize_result(\n",
      "C:\\Users\\samee\\anaconda3\\lib\\site-packages\\sklearn\\linear_model\\_logistic.py:814: ConvergenceWarning: lbfgs failed to converge (status=1):\n",
      "STOP: TOTAL NO. of ITERATIONS REACHED LIMIT.\n",
      "\n",
      "Increase the number of iterations (max_iter) or scale the data as shown in:\n",
      "    https://scikit-learn.org/stable/modules/preprocessing.html\n",
      "Please also refer to the documentation for alternative solver options:\n",
      "    https://scikit-learn.org/stable/modules/linear_model.html#logistic-regression\n",
      "  n_iter_i = _check_optimize_result(\n",
      "C:\\Users\\samee\\anaconda3\\lib\\site-packages\\sklearn\\linear_model\\_logistic.py:814: ConvergenceWarning: lbfgs failed to converge (status=1):\n",
      "STOP: TOTAL NO. of ITERATIONS REACHED LIMIT.\n",
      "\n",
      "Increase the number of iterations (max_iter) or scale the data as shown in:\n",
      "    https://scikit-learn.org/stable/modules/preprocessing.html\n",
      "Please also refer to the documentation for alternative solver options:\n",
      "    https://scikit-learn.org/stable/modules/linear_model.html#logistic-regression\n",
      "  n_iter_i = _check_optimize_result(\n",
      "C:\\Users\\samee\\anaconda3\\lib\\site-packages\\sklearn\\linear_model\\_logistic.py:814: ConvergenceWarning: lbfgs failed to converge (status=1):\n",
      "STOP: TOTAL NO. of ITERATIONS REACHED LIMIT.\n",
      "\n",
      "Increase the number of iterations (max_iter) or scale the data as shown in:\n",
      "    https://scikit-learn.org/stable/modules/preprocessing.html\n",
      "Please also refer to the documentation for alternative solver options:\n",
      "    https://scikit-learn.org/stable/modules/linear_model.html#logistic-regression\n",
      "  n_iter_i = _check_optimize_result(\n",
      "C:\\Users\\samee\\anaconda3\\lib\\site-packages\\sklearn\\linear_model\\_logistic.py:814: ConvergenceWarning: lbfgs failed to converge (status=1):\n",
      "STOP: TOTAL NO. of ITERATIONS REACHED LIMIT.\n",
      "\n",
      "Increase the number of iterations (max_iter) or scale the data as shown in:\n",
      "    https://scikit-learn.org/stable/modules/preprocessing.html\n",
      "Please also refer to the documentation for alternative solver options:\n",
      "    https://scikit-learn.org/stable/modules/linear_model.html#logistic-regression\n",
      "  n_iter_i = _check_optimize_result(\n",
      "C:\\Users\\samee\\anaconda3\\lib\\site-packages\\sklearn\\model_selection\\_validation.py:372: FitFailedWarning: \n",
      "35 fits failed out of a total of 70.\n",
      "The score on these train-test partitions for these parameters will be set to nan.\n",
      "If these failures are not expected, you can try to debug them by setting error_score='raise'.\n",
      "\n",
      "Below are more details about the failures:\n",
      "--------------------------------------------------------------------------------\n",
      "35 fits failed with the following error:\n",
      "Traceback (most recent call last):\n",
      "  File \"C:\\Users\\samee\\anaconda3\\lib\\site-packages\\sklearn\\model_selection\\_validation.py\", line 680, in _fit_and_score\n",
      "    estimator.fit(X_train, y_train, **fit_params)\n",
      "  File \"C:\\Users\\samee\\anaconda3\\lib\\site-packages\\sklearn\\linear_model\\_logistic.py\", line 1461, in fit\n",
      "    solver = _check_solver(self.solver, self.penalty, self.dual)\n",
      "  File \"C:\\Users\\samee\\anaconda3\\lib\\site-packages\\sklearn\\linear_model\\_logistic.py\", line 441, in _check_solver\n",
      "    raise ValueError(\n",
      "ValueError: Logistic Regression supports only penalties in ['l1', 'l2', 'elasticnet', 'none'], got None.\n",
      "\n",
      "  warnings.warn(some_fits_failed_message, FitFailedWarning)\n",
      "C:\\Users\\samee\\anaconda3\\lib\\site-packages\\sklearn\\model_selection\\_search.py:969: UserWarning: One or more of the test scores are non-finite: [0.24727867        nan 0.24727867        nan 0.24727867        nan\n",
      " 0.2920501         nan 0.3274534         nan 0.32879848        nan\n",
      " 0.32976437        nan]\n",
      "  warnings.warn(\n"
     ]
    },
    {
     "name": "stderr",
     "output_type": "stream",
     "text": [
      "C:\\Users\\samee\\anaconda3\\lib\\site-packages\\sklearn\\linear_model\\_logistic.py:814: ConvergenceWarning: lbfgs failed to converge (status=1):\n",
      "STOP: TOTAL NO. of ITERATIONS REACHED LIMIT.\n",
      "\n",
      "Increase the number of iterations (max_iter) or scale the data as shown in:\n",
      "    https://scikit-learn.org/stable/modules/preprocessing.html\n",
      "Please also refer to the documentation for alternative solver options:\n",
      "    https://scikit-learn.org/stable/modules/linear_model.html#logistic-regression\n",
      "  n_iter_i = _check_optimize_result(\n"
     ]
    },
    {
     "data": {
      "text/plain": [
       "{'C': 1000.0, 'penalty': 'l2'}"
      ]
     },
     "execution_count": 25,
     "metadata": {},
     "output_type": "execute_result"
    }
   ],
   "source": [
    "LR_grid_param={\"C\":np.logspace(-3,3,7), \"penalty\":[\"l2\",'None']}#  l2 ridge\n",
    "\n",
    "logreg = LogisticRegression()\n",
    "\n",
    "LR_grid_f1 = make_scorer(f1_score , average='macro')\n",
    "\n",
    "LR_grid = GridSearchCV(logreg, LR_grid_param ,cv=5,scoring = LR_grid_f1)\n",
    "LR_grid.fit(X_train,y_train)\n",
    "\n",
    "LR_grid.best_params_"
   ]
  },
  {
   "cell_type": "code",
   "execution_count": 26,
   "id": "87ce7414",
   "metadata": {},
   "outputs": [
    {
     "name": "stdout",
     "output_type": "stream",
     "text": [
      "Accuracy :  49.09437559580553\n",
      "Report : \n",
      "               precision    recall  f1-score   support\n",
      "\n",
      "           0       0.61      0.65      0.63      1274\n",
      "           1       0.15      0.08      0.11       180\n",
      "           2       0.30      0.29      0.29       644\n",
      "\n",
      "    accuracy                           0.49      2098\n",
      "   macro avg       0.35      0.34      0.34      2098\n",
      "weighted avg       0.47      0.49      0.48      2098\n",
      "\n",
      "F1 Score :  34.27306012850211\n"
     ]
    }
   ],
   "source": [
    "LR_grid_pred=LR_grid.predict(X_test)\n",
    "print (\"Accuracy : \" , accuracy_score(y_test,LR_grid_pred)*100)  \n",
    "print(\"Report : \\n\", classification_report(y_test, LR_grid_pred))\n",
    "print(\"F1 Score : \",f1_score(y_test, LR_grid_pred, average='macro')*100)"
   ]
  },
  {
   "cell_type": "markdown",
   "id": "3acc9fed",
   "metadata": {},
   "source": [
    "### Naive Bayes"
   ]
  },
  {
   "cell_type": "code",
   "execution_count": 71,
   "id": "a6038d2a",
   "metadata": {},
   "outputs": [],
   "source": [
    "from sklearn.naive_bayes import GaussianNB\n",
    "\n",
    "GNB_clf = GaussianNB( var_smoothing=4e-21)\n",
    "GNB_clf.fit(X_train, y_train)\n",
    "\n",
    "GNB_pred=GNB_clf.predict(X_test)"
   ]
  },
  {
   "cell_type": "code",
   "execution_count": 73,
   "id": "0f94919f",
   "metadata": {},
   "outputs": [],
   "source": [
    "pickle.dump(GNB_clf, open('NaiveBayes_Text_model.pkl', 'wb'))"
   ]
  },
  {
   "cell_type": "code",
   "execution_count": 72,
   "id": "6d75bf12",
   "metadata": {},
   "outputs": [
    {
     "name": "stdout",
     "output_type": "stream",
     "text": [
      "Accuracy :  46.23450905624404\n",
      "Report : \n",
      "               precision    recall  f1-score   support\n",
      "\n",
      "           0       0.60      0.62      0.61      1274\n",
      "           1       0.11      0.16      0.13       180\n",
      "           2       0.30      0.24      0.26       644\n",
      "\n",
      "    accuracy                           0.46      2098\n",
      "   macro avg       0.33      0.34      0.33      2098\n",
      "weighted avg       0.46      0.46      0.46      2098\n",
      "\n",
      "F1 Score :  33.45396548339528\n"
     ]
    }
   ],
   "source": [
    "print (\"Accuracy : \" , accuracy_score(y_test,GNB_pred)*100)  \n",
    "print(\"Report : \\n\", classification_report(y_test, GNB_pred))\n",
    "print(\"F1 Score : \",f1_score(y_test, GNB_pred, average='macro')*100)\n",
    "#19"
   ]
  },
  {
   "cell_type": "markdown",
   "id": "cf7cb0a6",
   "metadata": {},
   "source": [
    "## Nieve bay's Grid search"
   ]
  },
  {
   "cell_type": "code",
   "execution_count": 68,
   "id": "b6ffde8e",
   "metadata": {},
   "outputs": [],
   "source": [
    "GNB_param = {\n",
    "    'var_smoothing': [ 1e-3, 1e-6,  2e-6, 3e-12, 3e-15,4e-21,4e-22,4e-30]\n",
    "}"
   ]
  },
  {
   "cell_type": "code",
   "execution_count": 69,
   "id": "3b473a84",
   "metadata": {},
   "outputs": [
    {
     "name": "stdout",
     "output_type": "stream",
     "text": [
      "Fitting 3 folds for each of 8 candidates, totalling 24 fits\n",
      "[CV 1/3] END ...............var_smoothing=0.001;, score=0.307 total time=   1.1s\n",
      "[CV 2/3] END ...............var_smoothing=0.001;, score=0.314 total time=   1.0s\n",
      "[CV 3/3] END ...............var_smoothing=0.001;, score=0.319 total time=   1.1s\n",
      "[CV 1/3] END ...............var_smoothing=1e-06;, score=0.310 total time=   1.1s\n",
      "[CV 2/3] END ...............var_smoothing=1e-06;, score=0.313 total time=   1.1s\n",
      "[CV 3/3] END ...............var_smoothing=1e-06;, score=0.317 total time=   1.1s\n",
      "[CV 1/3] END ...............var_smoothing=2e-06;, score=0.310 total time=   1.1s\n",
      "[CV 2/3] END ...............var_smoothing=2e-06;, score=0.313 total time=   1.1s\n",
      "[CV 3/3] END ...............var_smoothing=2e-06;, score=0.317 total time=   1.1s\n",
      "[CV 1/3] END ...............var_smoothing=3e-12;, score=0.310 total time=   1.1s\n",
      "[CV 2/3] END ...............var_smoothing=3e-12;, score=0.313 total time=   1.2s\n",
      "[CV 3/3] END ...............var_smoothing=3e-12;, score=0.317 total time=   1.1s\n",
      "[CV 1/3] END ...............var_smoothing=3e-15;, score=0.310 total time=   1.1s\n",
      "[CV 2/3] END ...............var_smoothing=3e-15;, score=0.313 total time=   1.1s\n",
      "[CV 3/3] END ...............var_smoothing=3e-15;, score=0.317 total time=   1.1s\n",
      "[CV 1/3] END ...............var_smoothing=4e-21;, score=0.320 total time=   1.1s\n",
      "[CV 2/3] END ...............var_smoothing=4e-21;, score=0.322 total time=   1.1s\n",
      "[CV 3/3] END ...............var_smoothing=4e-21;, score=0.329 total time=   1.1s\n",
      "[CV 1/3] END ...............var_smoothing=4e-22;, score=0.317 total time=   1.1s\n",
      "[CV 2/3] END ...............var_smoothing=4e-22;, score=0.324 total time=   1.1s\n",
      "[CV 3/3] END ...............var_smoothing=4e-22;, score=0.329 total time=   1.2s\n",
      "[CV 1/3] END ...............var_smoothing=4e-30;, score=0.318 total time=   1.1s\n",
      "[CV 2/3] END ...............var_smoothing=4e-30;, score=0.324 total time=   1.1s\n",
      "[CV 3/3] END ...............var_smoothing=4e-30;, score=0.329 total time=   1.1s\n"
     ]
    },
    {
     "data": {
      "text/plain": [
       "{'var_smoothing': 4e-21}"
      ]
     },
     "execution_count": 69,
     "metadata": {},
     "output_type": "execute_result"
    }
   ],
   "source": [
    "from sklearn.naive_bayes import GaussianNB\n",
    "\n",
    "f1_GNB = make_scorer(f1_score , average='macro')\n",
    "\n",
    "GNB_grid = GridSearchCV(GaussianNB(), GNB_param, cv=3, verbose=3, scoring = f1_GNB)\n",
    "\n",
    "GNB_grid.fit(X_train,y_train)\n",
    "\n",
    "GNB_grid.best_params_"
   ]
  },
  {
   "cell_type": "code",
   "execution_count": 63,
   "id": "eca84265",
   "metadata": {},
   "outputs": [
    {
     "name": "stdout",
     "output_type": "stream",
     "text": [
      "Accuracy :  36.79694947569113\n",
      "Report : \n",
      "               precision    recall  f1-score   support\n",
      "\n",
      "           0       0.61      0.38      0.47      1274\n",
      "           1       0.10      0.27      0.14       180\n",
      "           2       0.30      0.37      0.33       644\n",
      "\n",
      "    accuracy                           0.37      2098\n",
      "   macro avg       0.33      0.34      0.31      2098\n",
      "weighted avg       0.47      0.37      0.40      2098\n",
      "\n",
      "F1 Score :  31.42676184515622\n"
     ]
    }
   ],
   "source": [
    "GNB_grid_pred = GNB_grid.predict(X_test)\n",
    "\n",
    "print (\"Accuracy : \" , accuracy_score(y_test,GNB_grid_pred)*100)  \n",
    "print(\"Report : \\n\", classification_report(y_test, GNB_grid_pred))\n",
    "print(\"F1 Score : \",f1_score(y_test, GNB_grid_pred, average='macro')*100)"
   ]
  },
  {
   "cell_type": "code",
   "execution_count": null,
   "id": "9b054dc0",
   "metadata": {},
   "outputs": [],
   "source": []
  },
  {
   "cell_type": "markdown",
   "id": "f37a6631",
   "metadata": {},
   "source": [
    "### Support Vector Machine"
   ]
  },
  {
   "cell_type": "code",
   "execution_count": 58,
   "id": "458828ca",
   "metadata": {},
   "outputs": [],
   "source": [
    "from sklearn.svm import SVC\n",
    "\n",
    "svc_clf = SVC(C=100, gamma=1)\n",
    "svc_clf.fit(X_train, y_train)\n",
    "svc_pred=svc_clf.predict(X_test)"
   ]
  },
  {
   "cell_type": "code",
   "execution_count": 74,
   "id": "bfb15b93",
   "metadata": {},
   "outputs": [],
   "source": [
    "pickle.dump(svc_clf, open('SupportVectorMachine_Text_model.pkl', 'wb'))"
   ]
  },
  {
   "cell_type": "code",
   "execution_count": 59,
   "id": "4b6fac9b",
   "metadata": {},
   "outputs": [
    {
     "name": "stdout",
     "output_type": "stream",
     "text": [
      "Accuracy :  56.19637750238322\n",
      "Report : \n",
      "               precision    recall  f1-score   support\n",
      "\n",
      "           0       0.61      0.85      0.71      1274\n",
      "           1       0.09      0.01      0.01       180\n",
      "           2       0.32      0.15      0.21       644\n",
      "\n",
      "    accuracy                           0.56      2098\n",
      "   macro avg       0.34      0.34      0.31      2098\n",
      "weighted avg       0.47      0.56      0.49      2098\n",
      "\n",
      "F1 Score :  30.79514586654489\n"
     ]
    }
   ],
   "source": [
    "print (\"Accuracy : \" , accuracy_score(y_test,svc_pred)*100)  \n",
    "print(\"Report : \\n\", classification_report(y_test, svc_pred))\n",
    "print(\"F1 Score : \",f1_score(y_test, svc_pred, average='macro')*100)\n",
    "#F1 is 14.6"
   ]
  },
  {
   "cell_type": "markdown",
   "id": "2163ce41",
   "metadata": {},
   "source": [
    "## Support vector machine Grid Search"
   ]
  },
  {
   "cell_type": "code",
   "execution_count": null,
   "id": "69dace22",
   "metadata": {},
   "outputs": [
    {
     "name": "stdout",
     "output_type": "stream",
     "text": [
      "Fitting 5 folds for each of 20 candidates, totalling 100 fits\n",
      "[CV 1/5] END ......................C=1, gamma=1;, score=0.263 total time= 3.0min\n",
      "[CV 2/5] END ......................C=1, gamma=1;, score=0.266 total time= 2.9min\n",
      "[CV 3/5] END ......................C=1, gamma=1;, score=0.254 total time= 2.7min\n",
      "[CV 4/5] END ......................C=1, gamma=1;, score=0.257 total time= 2.8min\n",
      "[CV 5/5] END ......................C=1, gamma=1;, score=0.258 total time= 2.7min\n",
      "[CV 1/5] END ......................C=1, gamma=4;, score=0.264 total time= 2.5min\n",
      "[CV 2/5] END ......................C=1, gamma=4;, score=0.256 total time= 2.6min\n",
      "[CV 3/5] END ......................C=1, gamma=4;, score=0.254 total time= 2.6min\n",
      "[CV 4/5] END ......................C=1, gamma=4;, score=0.254 total time= 2.4min\n",
      "[CV 5/5] END ......................C=1, gamma=4;, score=0.252 total time= 2.6min\n",
      "[CV 1/5] END ......................C=1, gamma=8;, score=0.264 total time= 2.6min\n",
      "[CV 2/5] END ......................C=1, gamma=8;, score=0.253 total time= 2.5min\n",
      "[CV 3/5] END ......................C=1, gamma=8;, score=0.254 total time= 2.5min\n",
      "[CV 4/5] END ......................C=1, gamma=8;, score=0.252 total time= 2.6min\n",
      "[CV 5/5] END ......................C=1, gamma=8;, score=0.252 total time= 2.5min\n",
      "[CV 1/5] END .....................C=1, gamma=15;, score=0.264 total time= 2.5min\n",
      "[CV 2/5] END .....................C=1, gamma=15;, score=0.251 total time= 2.5min\n",
      "[CV 3/5] END .....................C=1, gamma=15;, score=0.254 total time= 2.5min\n",
      "[CV 4/5] END .....................C=1, gamma=15;, score=0.252 total time= 2.5min\n",
      "[CV 5/5] END .....................C=1, gamma=15;, score=0.252 total time= 2.6min\n",
      "[CV 1/5] END .....................C=1, gamma=20;, score=0.262 total time= 2.5min\n",
      "[CV 2/5] END .....................C=1, gamma=20;, score=0.249 total time= 2.7min\n",
      "[CV 3/5] END .....................C=1, gamma=20;, score=0.254 total time= 2.5min\n",
      "[CV 4/5] END .....................C=1, gamma=20;, score=0.252 total time= 2.7min\n",
      "[CV 5/5] END .....................C=1, gamma=20;, score=0.252 total time= 2.5min\n",
      "[CV 1/5] END .....................C=10, gamma=1;, score=0.310 total time= 2.7min\n",
      "[CV 2/5] END .....................C=10, gamma=1;, score=0.326 total time= 2.5min\n",
      "[CV 3/5] END .....................C=10, gamma=1;, score=0.308 total time= 2.6min\n",
      "[CV 4/5] END .....................C=10, gamma=1;, score=0.295 total time= 2.5min\n",
      "[CV 5/5] END .....................C=10, gamma=1;, score=0.310 total time= 2.6min\n",
      "[CV 1/5] END .....................C=10, gamma=4;, score=0.273 total time= 2.8min\n",
      "[CV 2/5] END .....................C=10, gamma=4;, score=0.260 total time= 3.0min\n",
      "[CV 3/5] END .....................C=10, gamma=4;, score=0.254 total time= 2.7min\n",
      "[CV 4/5] END .....................C=10, gamma=4;, score=0.258 total time= 3.2min\n",
      "[CV 5/5] END .....................C=10, gamma=4;, score=0.253 total time= 2.9min\n",
      "[CV 1/5] END .....................C=10, gamma=8;, score=0.264 total time= 3.3min\n",
      "[CV 2/5] END .....................C=10, gamma=8;, score=0.256 total time= 3.1min\n",
      "[CV 3/5] END .....................C=10, gamma=8;, score=0.254 total time= 3.1min\n",
      "[CV 4/5] END .....................C=10, gamma=8;, score=0.254 total time= 3.2min\n",
      "[CV 5/5] END .....................C=10, gamma=8;, score=0.252 total time= 3.3min\n",
      "[CV 1/5] END ....................C=10, gamma=15;, score=0.264 total time= 3.1min\n",
      "[CV 2/5] END ....................C=10, gamma=15;, score=0.251 total time= 3.0min\n",
      "[CV 3/5] END ....................C=10, gamma=15;, score=0.254 total time= 3.0min\n",
      "[CV 4/5] END ....................C=10, gamma=15;, score=0.252 total time= 3.0min\n",
      "[CV 5/5] END ....................C=10, gamma=15;, score=0.252 total time= 3.3min\n",
      "[CV 1/5] END ....................C=10, gamma=20;, score=0.264 total time= 3.0min\n",
      "[CV 2/5] END ....................C=10, gamma=20;, score=0.251 total time= 3.4min\n",
      "[CV 3/5] END ....................C=10, gamma=20;, score=0.254 total time= 3.0min\n",
      "[CV 4/5] END ....................C=10, gamma=20;, score=0.252 total time= 3.2min\n",
      "[CV 5/5] END ....................C=10, gamma=20;, score=0.252 total time= 3.4min\n",
      "[CV 1/5] END ....................C=100, gamma=1;, score=0.307 total time= 3.1min\n",
      "[CV 2/5] END ....................C=100, gamma=1;, score=0.326 total time= 3.1min\n",
      "[CV 3/5] END ....................C=100, gamma=1;, score=0.308 total time= 3.4min\n",
      "[CV 4/5] END ....................C=100, gamma=1;, score=0.302 total time= 3.3min\n",
      "[CV 5/5] END ....................C=100, gamma=1;, score=0.310 total time= 3.5min\n",
      "[CV 1/5] END ....................C=100, gamma=4;, score=0.273 total time= 3.2min\n",
      "[CV 2/5] END ....................C=100, gamma=4;, score=0.260 total time= 3.1min\n",
      "[CV 3/5] END ....................C=100, gamma=4;, score=0.254 total time= 4.0min\n",
      "[CV 4/5] END ....................C=100, gamma=4;, score=0.258 total time= 3.5min\n",
      "[CV 5/5] END ....................C=100, gamma=4;, score=0.253 total time= 3.6min\n",
      "[CV 1/5] END ....................C=100, gamma=8;, score=0.264 total time= 3.3min\n",
      "[CV 2/5] END ....................C=100, gamma=8;, score=0.256 total time= 3.4min\n",
      "[CV 3/5] END ....................C=100, gamma=8;, score=0.254 total time= 3.6min\n",
      "[CV 4/5] END ....................C=100, gamma=8;, score=0.254 total time= 3.0min\n",
      "[CV 5/5] END ....................C=100, gamma=8;, score=0.252 total time= 2.9min\n",
      "[CV 1/5] END ...................C=100, gamma=15;, score=0.264 total time= 3.4min\n",
      "[CV 2/5] END ...................C=100, gamma=15;, score=0.251 total time= 3.4min\n",
      "[CV 3/5] END ...................C=100, gamma=15;, score=0.254 total time= 3.6min\n"
     ]
    }
   ],
   "source": [
    "from sklearn.svm import SVC\n",
    "SVC_param_grid = {'C': [10, 100, 1000], \n",
    "              'gamma': [1,4,8,15,20]\n",
    "              } \n",
    "\n",
    "f1_SVC = make_scorer(f1_score , average='macro') \n",
    "    \n",
    "SVC_grid = GridSearchCV(SVC(), SVC_param_grid, verbose = 3, scoring=f1_SVC)\n",
    "  \n",
    "# fitting the model for grid search\n",
    "SVC_grid.fit(X_train, y_train)"
   ]
  },
  {
   "cell_type": "code",
   "execution_count": null,
   "id": "cf8032d4",
   "metadata": {},
   "outputs": [],
   "source": [
    "SVC_grid.best_params_\n",
    "\n",
    "svc_grid_pred=SVC_grid.predict(X_test)\n",
    "\n",
    "print (\"Accuracy : \" , accuracy_score(y_test,svc_grid_pred)*100)  \n",
    "print(\"Report : \\n\", classification_report(y_test, svc_grid_pred))\n",
    "print(\"F1 Score : \",f1_score(y_test, svc_grid_pred, average='macro')*100)"
   ]
  },
  {
   "cell_type": "code",
   "execution_count": null,
   "id": "42df96aa",
   "metadata": {},
   "outputs": [],
   "source": []
  }
 ],
 "metadata": {
  "kernelspec": {
   "display_name": "Python 3 (ipykernel)",
   "language": "python",
   "name": "python3"
  },
  "language_info": {
   "codemirror_mode": {
    "name": "ipython",
    "version": 3
   },
   "file_extension": ".py",
   "mimetype": "text/x-python",
   "name": "python",
   "nbconvert_exporter": "python",
   "pygments_lexer": "ipython3",
   "version": "3.9.12"
  }
 },
 "nbformat": 4,
 "nbformat_minor": 5
}
