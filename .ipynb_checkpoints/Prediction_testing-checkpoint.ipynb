{
 "cells": [
  {
   "cell_type": "code",
   "execution_count": 1,
   "id": "0cb93c87",
   "metadata": {},
   "outputs": [],
   "source": [
    "import pandas as pd\n",
    "import numpy as np\n",
    "\n",
    "from skimage.io import imread, imshow\n",
    "from skimage.transform import resize\n",
    "\n",
    "\n",
    "import re\n",
    "import nltk\n",
    "from nltk.corpus import stopwords\n",
    "from nltk.stem import WordNetLemmatizer\n",
    "\n",
    "\n",
    "from sklearn.feature_extraction.text import TfidfVectorizer\n",
    "\n",
    "import pickle\n",
    "import easyocr\n",
    "import cv2"
   ]
  },
  {
   "cell_type": "code",
   "execution_count": 2,
   "id": "1bd62fbd",
   "metadata": {},
   "outputs": [
    {
     "name": "stderr",
     "output_type": "stream",
     "text": [
      "Using CPU. Note: This module is much faster with a GPU.\n"
     ]
    },
    {
     "data": {
      "text/plain": [
       "'EVERY TIMEQALREADY KNOW A VERSE \"LUNDERSTOOD THAT REFERENCE\\' Memes:Hilarious Avengers Memes Dank Memes of Avengers and Funny Dank Memes'"
      ]
     },
     "execution_count": 2,
     "metadata": {},
     "output_type": "execute_result"
    }
   ],
   "source": [
    "image_path = r\"C:\\Users\\samee\\OneDrive\\Desktop\\PAI\\Project\\images\\image_28.jpg\"\n",
    "image = imread(image_path)\n",
    "\n",
    "reader = easyocr.Reader(['en'],gpu=False)\n",
    "result = reader.readtext(image_path)\n",
    "sen = []\n",
    "for detection in result:\n",
    "    sen.append(detection[1])\n",
    "\n",
    "# del sen[-1]\n",
    "\n",
    "final_text = ' '.join(sen)\n",
    "final_text"
   ]
  },
  {
   "cell_type": "code",
   "execution_count": 3,
   "id": "c893fa82",
   "metadata": {},
   "outputs": [],
   "source": [
    " \n",
    "#Note t should be a 2D array\n",
    "def process_ocr_text(X):\n",
    "    documents = []\n",
    "\n",
    "\n",
    "    stemmer = WordNetLemmatizer()\n",
    "\n",
    "    for sen in range(0, len(X)):\n",
    "        # Remove all the special characters\n",
    "        document = re.sub(r'\\W', ' ', str(X[sen]))\n",
    "\n",
    "        # remove all single characters\n",
    "        document = re.sub(r'\\s+[a-zA-Z]\\s+', ' ', document)\n",
    "\n",
    "        # Remove single characters from the start\n",
    "        document = re.sub(r'\\^[a-zA-Z]\\s+', ' ', document) \n",
    "\n",
    "        # Substituting multiple spaces with single space\n",
    "        document = re.sub(r'\\s+', ' ', document, flags=re.I)\n",
    "\n",
    "        # Removing prefixed 'b'\n",
    "        document = re.sub(r'^b\\s+', '', document)\n",
    "\n",
    "        # Converting to Lowercase\n",
    "        document = document.lower()\n",
    "        \n",
    "\n",
    "        # Lemmatization\n",
    "        document = document.split()\n",
    "\n",
    "        document = [stemmer.lemmatize(word) for word in document]\n",
    "        document = ' '.join(document)\n",
    "\n",
    "        documents.append(document)\n",
    "        \n",
    "    \n",
    "    vectorizer = TfidfVectorizer()\n",
    "    vectorizer.fit(documents)\n",
    "    No_form = vectorizer.transform(documents).toarray()\n",
    "        \n",
    "    \n",
    "    return No_form    \n",
    "    \n",
    "    "
   ]
  },
  {
   "cell_type": "code",
   "execution_count": 4,
   "id": "2f6a91b1",
   "metadata": {},
   "outputs": [],
   "source": [
    "#Function To process the Image \n",
    "def process_image(image_pre):\n",
    "    img = cv2.cvtColor(image_pre, cv2.COLOR_BGR2GRAY);\n",
    "    resized_img = resize(img, (200,200)).reshape(-1)\n",
    "    \n",
    "    \n",
    "    return resized_img"
   ]
  },
  {
   "cell_type": "code",
   "execution_count": 5,
   "id": "98ab9c7b",
   "metadata": {},
   "outputs": [],
   "source": [
    "text_ready = process_ocr_text([final_text]).reshape(-1)\n",
    "\n",
    "text_ready = np.pad(text_ready,(0,(11905-len(text_ready))))\n",
    "\n",
    "text_ready = text_ready.reshape(-1,1)\n",
    "\n",
    "text_ready = text_ready.reshape(1,11905)"
   ]
  },
  {
   "cell_type": "code",
   "execution_count": 6,
   "id": "a87ecbc7",
   "metadata": {},
   "outputs": [
    {
     "data": {
      "text/plain": [
       "array([[0.16903085, 0.3380617 , 0.3380617 , ..., 0.        , 0.        ,\n",
       "        0.        ]])"
      ]
     },
     "execution_count": 6,
     "metadata": {},
     "output_type": "execute_result"
    }
   ],
   "source": [
    "text_ready"
   ]
  },
  {
   "cell_type": "code",
   "execution_count": 7,
   "id": "7b23d348",
   "metadata": {},
   "outputs": [],
   "source": [
    "image_ready = process_image(image)\n",
    "image_ready = image_ready.tolist()\n",
    "s=image_ready"
   ]
  },
  {
   "cell_type": "code",
   "execution_count": null,
   "id": "aae823f5",
   "metadata": {},
   "outputs": [],
   "source": []
  },
  {
   "cell_type": "code",
   "execution_count": 8,
   "id": "aab2cab1",
   "metadata": {},
   "outputs": [],
   "source": [
    "#import models\n",
    "over_all_output = []"
   ]
  },
  {
   "cell_type": "code",
   "execution_count": 9,
   "id": "7c56ca52",
   "metadata": {},
   "outputs": [],
   "source": [
    "DT_image = pickle.load(open('DecisionTree_Image_model.pkl', 'rb'))\n",
    "DT_pred = DT_image.predict([s])\n",
    "over_all_output.append(DT_pred[0])"
   ]
  },
  {
   "cell_type": "code",
   "execution_count": null,
   "id": "199d7be9",
   "metadata": {},
   "outputs": [],
   "source": []
  },
  {
   "cell_type": "code",
   "execution_count": 10,
   "id": "a0de4d00",
   "metadata": {},
   "outputs": [
    {
     "name": "stderr",
     "output_type": "stream",
     "text": [
      "C:\\Users\\samee\\anaconda3\\lib\\site-packages\\sklearn\\neighbors\\_classification.py:228: FutureWarning: Unlike other reduction functions (e.g. `skew`, `kurtosis`), the default behavior of `mode` typically preserves the axis it acts along. In SciPy 1.11.0, this behavior will change: the default value of `keepdims` will become False, the `axis` over which the statistic is taken will be eliminated, and the value None will no longer be accepted. Set `keepdims` to True or False to avoid this warning.\n",
      "  mode, _ = stats.mode(_y[neigh_ind, k], axis=1)\n"
     ]
    }
   ],
   "source": [
    "knn_image = pickle.load(open('KNN_Image_model.pkl', 'rb'))\n",
    "knn_pred = knn_image.predict([s])\n",
    "over_all_output.append(knn_pred[0])"
   ]
  },
  {
   "cell_type": "code",
   "execution_count": 11,
   "id": "7aa51436",
   "metadata": {},
   "outputs": [],
   "source": [
    "rt_image = pickle.load(open('RandomForset_image_model.pkl', 'rb'))\n",
    "rt_pred = rt_image.predict([s])\n",
    "over_all_output.append(rt_pred[0])"
   ]
  },
  {
   "cell_type": "code",
   "execution_count": 12,
   "id": "0e240c29",
   "metadata": {},
   "outputs": [],
   "source": [
    "#images"
   ]
  },
  {
   "cell_type": "code",
   "execution_count": 13,
   "id": "da4c14e9",
   "metadata": {},
   "outputs": [],
   "source": [
    "nb_text = pickle.load(open('NaiveBayes_Text_model.pkl', 'rb'))\n",
    "nb_pred = nb_text.predict(text_ready)\n",
    "over_all_output.append(nb_pred[0])"
   ]
  },
  {
   "cell_type": "code",
   "execution_count": 14,
   "id": "9229e241",
   "metadata": {},
   "outputs": [],
   "source": [
    "lr_text = pickle.load(open('LinearLogistic_Text_model.pkl', 'rb'))\n",
    "lr_pred = lr_text.predict(text_ready)\n",
    "over_all_output.append(lr_pred[0])"
   ]
  },
  {
   "cell_type": "code",
   "execution_count": 15,
   "id": "a996e0f1",
   "metadata": {},
   "outputs": [],
   "source": [
    "svm_text = pickle.load(open('SupportVectorMachine_Text_model.pkl', 'rb'))\n",
    "svm_pred = svm_text.predict(text_ready)\n",
    "over_all_output.append(svm_pred[0])"
   ]
  },
  {
   "cell_type": "code",
   "execution_count": 16,
   "id": "6f7b8c89",
   "metadata": {},
   "outputs": [
    {
     "data": {
      "text/plain": [
       "0"
      ]
     },
     "execution_count": 16,
     "metadata": {},
     "output_type": "execute_result"
    }
   ],
   "source": [
    "from statistics import mode\n",
    "mode(over_all_output)"
   ]
  },
  {
   "cell_type": "code",
   "execution_count": 17,
   "id": "0626180c",
   "metadata": {},
   "outputs": [],
   "source": [
    "# 'very_positive': 0,\n",
    "#  'positive': 0,\n",
    "#  'neutral': 2,\n",
    "#  'negative': 1,\n",
    "#  'very_negative': 1"
   ]
  }
 ],
 "metadata": {
  "kernelspec": {
   "display_name": "Python 3 (ipykernel)",
   "language": "python",
   "name": "python3"
  },
  "language_info": {
   "codemirror_mode": {
    "name": "ipython",
    "version": 3
   },
   "file_extension": ".py",
   "mimetype": "text/x-python",
   "name": "python",
   "nbconvert_exporter": "python",
   "pygments_lexer": "ipython3",
   "version": "3.9.12"
  }
 },
 "nbformat": 4,
 "nbformat_minor": 5
}
