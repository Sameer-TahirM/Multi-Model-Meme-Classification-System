{
 "cells": [
  {
   "cell_type": "code",
   "execution_count": 7,
   "id": "dcae876d",
   "metadata": {},
   "outputs": [],
   "source": [
    "import pandas as pd\n",
    "import numpy as np\n",
    "import matplotlib.pyplot as plt\n",
    "%matplotlib inline\n",
    "from skimage.io import imread, imshow\n",
    "import skimage\n",
    "from skimage import feature\n",
    "import os\n",
    "from skimage.transform import rescale, resize\n",
    "from PIL import Image\n",
    "import pickle"
   ]
  },
  {
   "cell_type": "code",
   "execution_count": 1,
   "id": "e9fdc621",
   "metadata": {},
   "outputs": [
    {
     "name": "stdout",
     "output_type": "stream",
     "text": [
      "^C\n"
     ]
    }
   ],
   "source": [
    "# !pip3 install torch torchvision torchaudio"
   ]
  },
  {
   "cell_type": "code",
   "execution_count": 1,
   "id": "50c5f7c0",
   "metadata": {},
   "outputs": [],
   "source": [
    "# pip install easyocr"
   ]
  },
  {
   "cell_type": "code",
   "execution_count": 6,
   "id": "a4bf8463",
   "metadata": {},
   "outputs": [],
   "source": [
    "import easyocr\n",
    "import cv2\n",
    "import numpy as np"
   ]
  },
  {
   "cell_type": "code",
   "execution_count": 30,
   "id": "a3c4437f",
   "metadata": {},
   "outputs": [],
   "source": [
    "image_path = r\"C:\\Users\\samee\\OneDrive\\Desktop\\PAI\\Project\\images\\image_1000.png\""
   ]
  },
  {
   "cell_type": "code",
   "execution_count": 32,
   "id": "dddd089d",
   "metadata": {},
   "outputs": [
    {
     "name": "stderr",
     "output_type": "stream",
     "text": [
      "Using CPU. Note: This module is much faster with a GPU.\n"
     ]
    },
    {
     "data": {
      "text/plain": [
       "['RT @BehindScenesPic: Martin',\n",
       " 'Scorsese and Leonardo',\n",
       " 'DiCaprio on the set of The',\n",
       " 'Departed']"
      ]
     },
     "execution_count": 32,
     "metadata": {},
     "output_type": "execute_result"
    }
   ],
   "source": [
    "reader = easyocr.Reader(['en'],gpu=False)\n",
    "result = reader.readtext(image_path)\n",
    "sen = []\n",
    "for detection in result:\n",
    "    sen.append(detection[1])\n",
    "\n",
    "del sen[-1]\n",
    "\n",
    "sen\n"
   ]
  },
  {
   "cell_type": "code",
   "execution_count": 26,
   "id": "f2791b14",
   "metadata": {},
   "outputs": [
    {
     "data": {
      "text/plain": [
       "str"
      ]
     },
     "execution_count": 26,
     "metadata": {},
     "output_type": "execute_result"
    }
   ],
   "source": [
    "type(s)"
   ]
  },
  {
   "cell_type": "code",
   "execution_count": 12,
   "id": "3eddbd83",
   "metadata": {},
   "outputs": [],
   "source": [
    "top_left = tuple(result[0][0][0])\n",
    "bottom_right = tuple(result[0][0][2])\n",
    "text = result[0][1]\n",
    "font = cv2.FONT_HERSHEY_SIMPLEX"
   ]
  },
  {
   "cell_type": "code",
   "execution_count": 28,
   "id": "3fff079c",
   "metadata": {},
   "outputs": [],
   "source": [
    "img = cv2?"
   ]
  },
  {
   "cell_type": "code",
   "execution_count": 18,
   "id": "4db654e9",
   "metadata": {},
   "outputs": [],
   "source": [
    "#  multiple lines"
   ]
  },
  {
   "cell_type": "code",
   "execution_count": 27,
   "id": "26b7d1ae",
   "metadata": {},
   "outputs": [
    {
     "data": {
      "text/plain": [
       "['LOOK THERE MY FRIEND',\n",
       " 'NOW ALL SOHAI IKUT TREND PLAY',\n",
       " 'THE 1OYEARS CHALLENGE AT FACEBOOK',\n",
       " 'imgfip-',\n",
       " 'Ai4i']"
      ]
     },
     "execution_count": 27,
     "metadata": {},
     "output_type": "execute_result"
    }
   ],
   "source": [
    "img = cv2.imread(image_path)\n",
    "sen = []\n",
    "for detection in result:\n",
    "    sen.append(detection[1])\n",
    "\n",
    "sen"
   ]
  },
  {
   "cell_type": "code",
   "execution_count": null,
   "id": "706a60bd",
   "metadata": {},
   "outputs": [],
   "source": []
  },
  {
   "cell_type": "code",
   "execution_count": null,
   "id": "8a83e3cf",
   "metadata": {},
   "outputs": [],
   "source": []
  }
 ],
 "metadata": {
  "kernelspec": {
   "display_name": "Python 3 (ipykernel)",
   "language": "python",
   "name": "python3"
  },
  "language_info": {
   "codemirror_mode": {
    "name": "ipython",
    "version": 3
   },
   "file_extension": ".py",
   "mimetype": "text/x-python",
   "name": "python",
   "nbconvert_exporter": "python",
   "pygments_lexer": "ipython3",
   "version": "3.9.12"
  }
 },
 "nbformat": 4,
 "nbformat_minor": 5
}
